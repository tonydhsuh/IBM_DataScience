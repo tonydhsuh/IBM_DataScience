{
 "cells": [
  {
   "cell_type": "markdown",
   "metadata": {
    "button": false,
    "deletable": true,
    "new_sheet": false,
    "run_control": {
     "read_only": false
    }
   },
   "source": [
    "<a href=\"https://cognitiveclass.ai\"><img src = \"https://ibm.box.com/shared/static/9gegpsmnsoo25ikkbl4qzlvlyjbgxs5x.png\" width = 400> </a>\n",
    "\n",
    "<h1 align=center><font size = 5>Learning FourSquare API with Python</font></h1>"
   ]
  },
  {
   "cell_type": "markdown",
   "metadata": {
    "button": false,
    "deletable": true,
    "new_sheet": false,
    "run_control": {
     "read_only": false
    }
   },
   "source": [
    "   "
   ]
  },
  {
   "cell_type": "markdown",
   "metadata": {
    "button": false,
    "deletable": true,
    "new_sheet": false,
    "run_control": {
     "read_only": false
    }
   },
   "source": [
    "## Introduction\n",
    "\n",
    "In this lab, you will learn in details how to make calls to the Foursquare API for different purposes. You will learn how to construct a URL to send a request to the API to search for a specific type of venues, to explore a particular venue, to explore a Foursquare user, to explore a geographical location, and to get trending venues around a location. Also, you will learn how to use the visualization library, Folium, to visualize the results."
   ]
  },
  {
   "cell_type": "markdown",
   "metadata": {
    "button": false,
    "deletable": true,
    "new_sheet": false,
    "run_control": {
     "read_only": false
    }
   },
   "source": [
    "## Table of Contents\n",
    "\n",
    "1. <a href=\"#item1\">Foursquare API Search Function</a>\n",
    "2. <a href=\"#item2\">Explore a Given Venue</a>  \n",
    "3. <a href=\"#item3\">Explore a User</a>  \n",
    "4. <a href=\"#item4\">Foursquare API Explore Function</a>  \n",
    "5. <a href=\"#item5\">Get Trending Venues</a>  "
   ]
  },
  {
   "cell_type": "markdown",
   "metadata": {
    "button": false,
    "deletable": true,
    "new_sheet": false,
    "run_control": {
     "read_only": false
    }
   },
   "source": [
    "### Import necessary Libraries"
   ]
  },
  {
   "cell_type": "code",
   "execution_count": 2,
   "metadata": {
    "button": false,
    "collapsed": false,
    "deletable": true,
    "jupyter": {
     "outputs_hidden": false
    },
    "new_sheet": false,
    "run_control": {
     "read_only": false
    }
   },
   "outputs": [
    {
     "name": "stdout",
     "output_type": "stream",
     "text": [
      "Imported.\n"
     ]
    }
   ],
   "source": [
    "import requests # library to handle requests\n",
    "import pandas as pd # library for data analsysis\n",
    "import numpy as np # library to handle data in a vectorized manner\n",
    "import random # library for random number generation\n",
    "\n",
    "print(\"Imported.\")"
   ]
  },
  {
   "cell_type": "code",
   "execution_count": 1,
   "metadata": {},
   "outputs": [
    {
     "name": "stdout",
     "output_type": "stream",
     "text": [
      "Collecting package metadata (current_repodata.json): done\n",
      "Solving environment: done\n",
      "\n",
      "## Package Plan ##\n",
      "\n",
      "  environment location: /home/jupyterlab/conda/envs/python\n",
      "\n",
      "  added / updated specs:\n",
      "    - geopy\n",
      "\n",
      "\n",
      "The following packages will be downloaded:\n",
      "\n",
      "    package                    |            build\n",
      "    ---------------------------|-----------------\n",
      "    geographiclib-1.50         |             py_0          34 KB  conda-forge\n",
      "    geopy-1.21.0               |             py_0          58 KB  conda-forge\n",
      "    ------------------------------------------------------------\n",
      "                                           Total:          92 KB\n",
      "\n",
      "The following NEW packages will be INSTALLED:\n",
      "\n",
      "  geographiclib      conda-forge/noarch::geographiclib-1.50-py_0\n",
      "  geopy              conda-forge/noarch::geopy-1.21.0-py_0\n",
      "\n",
      "\n",
      "\n",
      "Downloading and Extracting Packages\n",
      "geopy-1.21.0         | 58 KB     | ##################################### | 100% \n",
      "geographiclib-1.50   | 34 KB     | ##################################### | 100% \n",
      "Preparing transaction: done\n",
      "Verifying transaction: done\n",
      "Executing transaction: done\n",
      "Installed.\n"
     ]
    }
   ],
   "source": [
    "!conda install -c conda-forge geopy --yes \n",
    "from geopy.geocoders import Nominatim # module to convert an address into latitude and longitude values\n",
    "\n",
    "print(\"Installed.\")\n",
    "\n",
    "# libraries for displaying images\n",
    "from IPython.display import Image \n",
    "from IPython.core.display import HTML "
   ]
  },
  {
   "cell_type": "code",
   "execution_count": 3,
   "metadata": {},
   "outputs": [
    {
     "name": "stdout",
     "output_type": "stream",
     "text": [
      "Collecting package metadata (current_repodata.json): done\n",
      "Solving environment: failed with initial frozen solve. Retrying with flexible solve.\n",
      "Collecting package metadata (repodata.json): done\n",
      "Solving environment: done\n",
      "\n",
      "## Package Plan ##\n",
      "\n",
      "  environment location: /home/jupyterlab/conda/envs/python\n",
      "\n",
      "  added / updated specs:\n",
      "    - folium=0.5.0\n",
      "\n",
      "\n",
      "The following packages will be downloaded:\n",
      "\n",
      "    package                    |            build\n",
      "    ---------------------------|-----------------\n",
      "    altair-4.1.0               |             py_1         614 KB  conda-forge\n",
      "    branca-0.4.1               |             py_0          26 KB  conda-forge\n",
      "    brotlipy-0.7.0             |py36h8c4c3a4_1000         346 KB  conda-forge\n",
      "    chardet-3.0.4              |py36h9f0ad1d_1006         188 KB  conda-forge\n",
      "    cryptography-2.9.2         |   py36h45558ae_0         613 KB  conda-forge\n",
      "    folium-0.5.0               |             py_0          45 KB  conda-forge\n",
      "    pandas-1.0.3               |   py36h830a2c2_1        11.1 MB  conda-forge\n",
      "    pysocks-1.7.1              |   py36h9f0ad1d_1          27 KB  conda-forge\n",
      "    toolz-0.10.0               |             py_0          46 KB  conda-forge\n",
      "    vincent-0.4.4              |             py_1          28 KB  conda-forge\n",
      "    ------------------------------------------------------------\n",
      "                                           Total:        13.0 MB\n",
      "\n",
      "The following NEW packages will be INSTALLED:\n",
      "\n",
      "  altair             conda-forge/noarch::altair-4.1.0-py_1\n",
      "  attrs              conda-forge/noarch::attrs-19.3.0-py_0\n",
      "  branca             conda-forge/noarch::branca-0.4.1-py_0\n",
      "  brotlipy           conda-forge/linux-64::brotlipy-0.7.0-py36h8c4c3a4_1000\n",
      "  chardet            conda-forge/linux-64::chardet-3.0.4-py36h9f0ad1d_1006\n",
      "  cryptography       conda-forge/linux-64::cryptography-2.9.2-py36h45558ae_0\n",
      "  entrypoints        conda-forge/linux-64::entrypoints-0.3-py36h9f0ad1d_1001\n",
      "  folium             conda-forge/noarch::folium-0.5.0-py_0\n",
      "  idna               conda-forge/noarch::idna-2.9-py_1\n",
      "  importlib-metadata conda-forge/linux-64::importlib-metadata-1.6.0-py36h9f0ad1d_0\n",
      "  importlib_metadata conda-forge/noarch::importlib_metadata-1.6.0-0\n",
      "  jinja2             conda-forge/noarch::jinja2-2.11.2-pyh9f0ad1d_0\n",
      "  jsonschema         conda-forge/linux-64::jsonschema-3.2.0-py36h9f0ad1d_1\n",
      "  markupsafe         conda-forge/linux-64::markupsafe-1.1.1-py36h8c4c3a4_1\n",
      "  pandas             conda-forge/linux-64::pandas-1.0.3-py36h830a2c2_1\n",
      "  pyopenssl          conda-forge/noarch::pyopenssl-19.1.0-py_1\n",
      "  pyrsistent         conda-forge/linux-64::pyrsistent-0.16.0-py36h8c4c3a4_0\n",
      "  pysocks            conda-forge/linux-64::pysocks-1.7.1-py36h9f0ad1d_1\n",
      "  pytz               conda-forge/noarch::pytz-2020.1-pyh9f0ad1d_0\n",
      "  requests           conda-forge/noarch::requests-2.23.0-pyh8c360ce_2\n",
      "  toolz              conda-forge/noarch::toolz-0.10.0-py_0\n",
      "  urllib3            conda-forge/noarch::urllib3-1.25.9-py_0\n",
      "  vincent            conda-forge/noarch::vincent-0.4.4-py_1\n",
      "  zipp               conda-forge/noarch::zipp-3.1.0-py_0\n",
      "\n",
      "\n",
      "\n",
      "Downloading and Extracting Packages\n",
      "pysocks-1.7.1        | 27 KB     | ##################################### | 100% \n",
      "toolz-0.10.0         | 46 KB     | ##################################### | 100% \n",
      "chardet-3.0.4        | 188 KB    | ##################################### | 100% \n",
      "folium-0.5.0         | 45 KB     | ##################################### | 100% \n",
      "branca-0.4.1         | 26 KB     | ##################################### | 100% \n",
      "cryptography-2.9.2   | 613 KB    | ##################################### | 100% \n",
      "brotlipy-0.7.0       | 346 KB    | ##################################### | 100% \n",
      "pandas-1.0.3         | 11.1 MB   | ##################################### | 100% \n",
      "altair-4.1.0         | 614 KB    | ##################################### | 100% \n",
      "vincent-0.4.4        | 28 KB     | ##################################### | 100% \n",
      "Preparing transaction: done\n",
      "Verifying transaction: done\n",
      "Executing transaction: done\n",
      "Folium installed\n",
      "Libraries imported.\n"
     ]
    }
   ],
   "source": [
    "# tranforming json file into a pandas dataframe library\n",
    "from pandas.io.json import json_normalize\n",
    "\n",
    "!conda install -c conda-forge folium=0.5.0 --yes\n",
    "import folium # plotting library\n",
    "\n",
    "print('Folium installed')\n",
    "print('Libraries imported.')"
   ]
  },
  {
   "cell_type": "markdown",
   "metadata": {
    "button": false,
    "deletable": true,
    "new_sheet": false,
    "run_control": {
     "read_only": false
    }
   },
   "source": [
    "### Define Foursquare Credentials and Version"
   ]
  },
  {
   "cell_type": "markdown",
   "metadata": {
    "button": false,
    "deletable": true,
    "new_sheet": false,
    "run_control": {
     "read_only": false
    }
   },
   "source": [
    "##### Make sure that you have created a Foursquare developer account and have your credentials handy"
   ]
  },
  {
   "cell_type": "code",
   "execution_count": 26,
   "metadata": {
    "button": false,
    "collapsed": false,
    "deletable": true,
    "jupyter": {
     "outputs_hidden": false
    },
    "new_sheet": false,
    "run_control": {
     "read_only": false
    }
   },
   "outputs": [
    {
     "name": "stdout",
     "output_type": "stream",
     "text": [
      "Your credentails:\n",
      "CLIENT_ID: KZ21CPMWMFPR2MYXVTXNXRHCP2TO13OFQMO4ENDLEUNUJN3R\n",
      "CLIENT_SECRET:JSPSC1NVSH45DROPRILYOM1SPJAUNIASWKMZZDXZKN1KWSMI\n",
      "Access Token: EZWZKTWCRB3NPKYPRE3XQTXY1TBL3F1EUA1R4H4PLJKIE00P\n"
     ]
    }
   ],
   "source": [
    "CLIENT_ID = 'KZ21CPMWMFPR2MYXVTXNXRHCP2TO13OFQMO4ENDLEUNUJN3R' # your Foursquare ID\n",
    "CLIENT_SECRET = 'JSPSC1NVSH45DROPRILYOM1SPJAUNIASWKMZZDXZKN1KWSMI' # your Foursquare Secret\n",
    "API = '14PRHC52Z3SP2HNB20RJTLOI42I2LNGEWQYFSPOEJXURDSDM#_=_'\n",
    "ACCESS_TOKEN = 'EZWZKTWCRB3NPKYPRE3XQTXY1TBL3F1EUA1R4H4PLJKIE00P'\n",
    "\n",
    "VERSION = '20180604'\n",
    "LIMIT = 30\n",
    "print('Your credentails:')\n",
    "print('CLIENT_ID: ' + CLIENT_ID)\n",
    "print('CLIENT_SECRET:' + CLIENT_SECRET)\n",
    "print('Access Token: ' + ACCESS_TOKEN)"
   ]
  },
  {
   "cell_type": "markdown",
   "metadata": {
    "button": false,
    "deletable": true,
    "new_sheet": false,
    "run_control": {
     "read_only": false
    }
   },
   "source": [
    "  "
   ]
  },
  {
   "cell_type": "markdown",
   "metadata": {
    "button": false,
    "deletable": true,
    "new_sheet": false,
    "run_control": {
     "read_only": false
    }
   },
   "source": [
    "#### Let's again assume that you are staying at the Conrad hotel. So let's start by converting the Contrad Hotel's address to its latitude and longitude coordinates."
   ]
  },
  {
   "cell_type": "markdown",
   "metadata": {},
   "source": [
    "In order to define an instance of the geocoder, we need to define a user_agent. We will name our agent <em>foursquare_agent</em>, as shown below."
   ]
  },
  {
   "cell_type": "code",
   "execution_count": 5,
   "metadata": {
    "button": false,
    "collapsed": false,
    "deletable": true,
    "jupyter": {
     "outputs_hidden": false
    },
    "new_sheet": false,
    "run_control": {
     "read_only": false
    }
   },
   "outputs": [
    {
     "name": "stdout",
     "output_type": "stream",
     "text": [
      "40.7151482 -74.0156573\n"
     ]
    }
   ],
   "source": [
    "address = '102 North End Ave, New York, NY'\n",
    "\n",
    "geolocator = Nominatim(user_agent=\"foursquare_agent\")\n",
    "location = geolocator.geocode(address)\n",
    "latitude = location.latitude\n",
    "longitude = location.longitude\n",
    "print(latitude, longitude)"
   ]
  },
  {
   "cell_type": "markdown",
   "metadata": {
    "button": false,
    "deletable": true,
    "new_sheet": false,
    "run_control": {
     "read_only": false
    }
   },
   "source": [
    "   "
   ]
  },
  {
   "cell_type": "markdown",
   "metadata": {
    "button": false,
    "deletable": true,
    "new_sheet": false,
    "run_control": {
     "read_only": false
    }
   },
   "source": [
    "<a id=\"item1\"></a>"
   ]
  },
  {
   "cell_type": "markdown",
   "metadata": {
    "button": false,
    "deletable": true,
    "new_sheet": false,
    "run_control": {
     "read_only": false
    }
   },
   "source": [
    "## 1. Search for a specific venue category\n",
    "> `https://api.foursquare.com/v2/venues/`**search**`?client_id=`**CLIENT_ID**`&client_secret=`**CLIENT_SECRET**`&ll=`**LATITUDE**`,`**LONGITUDE**`&v=`**VERSION**`&query=`**QUERY**`&radius=`**RADIUS**`&limit=`**LIMIT**"
   ]
  },
  {
   "cell_type": "markdown",
   "metadata": {
    "button": false,
    "deletable": true,
    "new_sheet": false,
    "run_control": {
     "read_only": false
    }
   },
   "source": [
    "#### Now, let's assume that it is lunch time, and you are craving Italian food. So, let's define a query to search for Italian food that is within 500 metres from the Conrad Hotel. "
   ]
  },
  {
   "cell_type": "code",
   "execution_count": 6,
   "metadata": {
    "button": false,
    "collapsed": false,
    "deletable": true,
    "jupyter": {
     "outputs_hidden": false
    },
    "new_sheet": false,
    "run_control": {
     "read_only": false
    },
    "scrolled": true
   },
   "outputs": [
    {
     "name": "stdout",
     "output_type": "stream",
     "text": [
      "Italian .... OK!\n"
     ]
    }
   ],
   "source": [
    "search_query = 'Italian'\n",
    "radius = 500\n",
    "print(search_query + ' .... OK!')"
   ]
  },
  {
   "cell_type": "markdown",
   "metadata": {
    "button": false,
    "deletable": true,
    "new_sheet": false,
    "run_control": {
     "read_only": false
    }
   },
   "source": [
    "#### Define the corresponding URL"
   ]
  },
  {
   "cell_type": "code",
   "execution_count": 7,
   "metadata": {
    "button": false,
    "collapsed": false,
    "deletable": true,
    "jupyter": {
     "outputs_hidden": false
    },
    "new_sheet": false,
    "run_control": {
     "read_only": false
    }
   },
   "outputs": [
    {
     "data": {
      "text/plain": [
       "'https://api.foursquare.com/v2/venues/search?client_id=KZ21CPMWMFPR2MYXVTXNXRHCP2TO13OFQMO4ENDLEUNUJN3R&client_secret=JSPSC1NVSH45DROPRILYOM1SPJAUNIASWKMZZDXZKN1KWSMI&ll=40.7151482,-74.0156573&v=20180604&query=Italian&radius=500&limit=30'"
      ]
     },
     "execution_count": 7,
     "metadata": {},
     "output_type": "execute_result"
    }
   ],
   "source": [
    "url = 'https://api.foursquare.com/v2/venues/search?client_id={}&client_secret={}&ll={},{}&v={}&query={}&radius={}&limit={}'.format(CLIENT_ID, CLIENT_SECRET, latitude, longitude, VERSION, search_query, radius, LIMIT)\n",
    "url"
   ]
  },
  {
   "cell_type": "markdown",
   "metadata": {
    "button": false,
    "deletable": true,
    "new_sheet": false,
    "run_control": {
     "read_only": false
    }
   },
   "source": [
    "#### Send the GET Request and examine the results"
   ]
  },
  {
   "cell_type": "code",
   "execution_count": 8,
   "metadata": {
    "button": false,
    "collapsed": false,
    "deletable": true,
    "jupyter": {
     "outputs_hidden": false
    },
    "new_sheet": false,
    "run_control": {
     "read_only": false
    },
    "scrolled": true
   },
   "outputs": [
    {
     "data": {
      "text/plain": [
       "{'meta': {'code': 200, 'requestId': '5eb7986969babe001b2c81e1'},\n",
       " 'response': {'venues': [{'id': '4fa862b3e4b0ebff2f749f06',\n",
       "    'name': \"Harry's Italian Pizza Bar\",\n",
       "    'location': {'address': '225 Murray St',\n",
       "     'lat': 40.71521779064671,\n",
       "     'lng': -74.01473940209351,\n",
       "     'labeledLatLngs': [{'label': 'display',\n",
       "       'lat': 40.71521779064671,\n",
       "       'lng': -74.01473940209351},\n",
       "      {'label': 'entrance', 'lat': 40.715361, 'lng': -74.014975}],\n",
       "     'distance': 77,\n",
       "     'postalCode': '10282',\n",
       "     'cc': 'US',\n",
       "     'city': 'New York',\n",
       "     'state': 'NY',\n",
       "     'country': 'United States',\n",
       "     'formattedAddress': ['225 Murray St',\n",
       "      'New York, NY 10282',\n",
       "      'United States']},\n",
       "    'categories': [{'id': '4bf58dd8d48988d1ca941735',\n",
       "      'name': 'Pizza Place',\n",
       "      'pluralName': 'Pizza Places',\n",
       "      'shortName': 'Pizza',\n",
       "      'icon': {'prefix': 'https://ss3.4sqi.net/img/categories_v2/food/pizza_',\n",
       "       'suffix': '.png'},\n",
       "      'primary': True}],\n",
       "    'referralId': 'v-1589090514',\n",
       "    'hasPerk': False},\n",
       "   {'id': '4f3232e219836c91c7bfde94',\n",
       "    'name': 'Conca Cucina Italian Restaurant',\n",
       "    'location': {'address': '63 W Broadway',\n",
       "     'lat': 40.714484000000006,\n",
       "     'lng': -74.00980600000001,\n",
       "     'labeledLatLngs': [{'label': 'display',\n",
       "       'lat': 40.714484000000006,\n",
       "       'lng': -74.00980600000001}],\n",
       "     'distance': 499,\n",
       "     'postalCode': '10007',\n",
       "     'cc': 'US',\n",
       "     'city': 'New York',\n",
       "     'state': 'NY',\n",
       "     'country': 'United States',\n",
       "     'formattedAddress': ['63 W Broadway',\n",
       "      'New York, NY 10007',\n",
       "      'United States']},\n",
       "    'categories': [{'id': '4d4b7105d754a06374d81259',\n",
       "      'name': 'Food',\n",
       "      'pluralName': 'Food',\n",
       "      'shortName': 'Food',\n",
       "      'icon': {'prefix': 'https://ss3.4sqi.net/img/categories_v2/food/default_',\n",
       "       'suffix': '.png'},\n",
       "      'primary': True}],\n",
       "    'referralId': 'v-1589090514',\n",
       "    'hasPerk': False}]}}"
      ]
     },
     "execution_count": 8,
     "metadata": {},
     "output_type": "execute_result"
    }
   ],
   "source": [
    "results = requests.get(url).json()\n",
    "results"
   ]
  },
  {
   "cell_type": "markdown",
   "metadata": {
    "button": false,
    "deletable": true,
    "new_sheet": false,
    "run_control": {
     "read_only": false
    }
   },
   "source": [
    "#### Get relevant part of JSON and transform it into a *pandas* dataframe"
   ]
  },
  {
   "cell_type": "code",
   "execution_count": 9,
   "metadata": {
    "button": false,
    "collapsed": false,
    "deletable": true,
    "jupyter": {
     "outputs_hidden": false
    },
    "new_sheet": false,
    "run_control": {
     "read_only": false
    }
   },
   "outputs": [
    {
     "name": "stderr",
     "output_type": "stream",
     "text": [
      "/home/jupyterlab/conda/envs/python/lib/python3.6/site-packages/ipykernel_launcher.py:5: FutureWarning: pandas.io.json.json_normalize is deprecated, use pandas.json_normalize instead\n",
      "  \"\"\"\n"
     ]
    },
    {
     "data": {
      "text/html": [
       "<div>\n",
       "<style scoped>\n",
       "    .dataframe tbody tr th:only-of-type {\n",
       "        vertical-align: middle;\n",
       "    }\n",
       "\n",
       "    .dataframe tbody tr th {\n",
       "        vertical-align: top;\n",
       "    }\n",
       "\n",
       "    .dataframe thead th {\n",
       "        text-align: right;\n",
       "    }\n",
       "</style>\n",
       "<table border=\"1\" class=\"dataframe\">\n",
       "  <thead>\n",
       "    <tr style=\"text-align: right;\">\n",
       "      <th></th>\n",
       "      <th>id</th>\n",
       "      <th>name</th>\n",
       "      <th>categories</th>\n",
       "      <th>referralId</th>\n",
       "      <th>hasPerk</th>\n",
       "      <th>location.address</th>\n",
       "      <th>location.lat</th>\n",
       "      <th>location.lng</th>\n",
       "      <th>location.labeledLatLngs</th>\n",
       "      <th>location.distance</th>\n",
       "      <th>location.postalCode</th>\n",
       "      <th>location.cc</th>\n",
       "      <th>location.city</th>\n",
       "      <th>location.state</th>\n",
       "      <th>location.country</th>\n",
       "      <th>location.formattedAddress</th>\n",
       "    </tr>\n",
       "  </thead>\n",
       "  <tbody>\n",
       "    <tr>\n",
       "      <th>0</th>\n",
       "      <td>4fa862b3e4b0ebff2f749f06</td>\n",
       "      <td>Harry's Italian Pizza Bar</td>\n",
       "      <td>[{'id': '4bf58dd8d48988d1ca941735', 'name': 'P...</td>\n",
       "      <td>v-1589090514</td>\n",
       "      <td>False</td>\n",
       "      <td>225 Murray St</td>\n",
       "      <td>40.715218</td>\n",
       "      <td>-74.014739</td>\n",
       "      <td>[{'label': 'display', 'lat': 40.71521779064671...</td>\n",
       "      <td>77</td>\n",
       "      <td>10282</td>\n",
       "      <td>US</td>\n",
       "      <td>New York</td>\n",
       "      <td>NY</td>\n",
       "      <td>United States</td>\n",
       "      <td>[225 Murray St, New York, NY 10282, United Sta...</td>\n",
       "    </tr>\n",
       "    <tr>\n",
       "      <th>1</th>\n",
       "      <td>4f3232e219836c91c7bfde94</td>\n",
       "      <td>Conca Cucina Italian Restaurant</td>\n",
       "      <td>[{'id': '4d4b7105d754a06374d81259', 'name': 'F...</td>\n",
       "      <td>v-1589090514</td>\n",
       "      <td>False</td>\n",
       "      <td>63 W Broadway</td>\n",
       "      <td>40.714484</td>\n",
       "      <td>-74.009806</td>\n",
       "      <td>[{'label': 'display', 'lat': 40.71448400000000...</td>\n",
       "      <td>499</td>\n",
       "      <td>10007</td>\n",
       "      <td>US</td>\n",
       "      <td>New York</td>\n",
       "      <td>NY</td>\n",
       "      <td>United States</td>\n",
       "      <td>[63 W Broadway, New York, NY 10007, United Sta...</td>\n",
       "    </tr>\n",
       "  </tbody>\n",
       "</table>\n",
       "</div>"
      ],
      "text/plain": [
       "                         id                             name  \\\n",
       "0  4fa862b3e4b0ebff2f749f06        Harry's Italian Pizza Bar   \n",
       "1  4f3232e219836c91c7bfde94  Conca Cucina Italian Restaurant   \n",
       "\n",
       "                                          categories    referralId  hasPerk  \\\n",
       "0  [{'id': '4bf58dd8d48988d1ca941735', 'name': 'P...  v-1589090514    False   \n",
       "1  [{'id': '4d4b7105d754a06374d81259', 'name': 'F...  v-1589090514    False   \n",
       "\n",
       "  location.address  location.lat  location.lng  \\\n",
       "0    225 Murray St     40.715218    -74.014739   \n",
       "1    63 W Broadway     40.714484    -74.009806   \n",
       "\n",
       "                             location.labeledLatLngs  location.distance  \\\n",
       "0  [{'label': 'display', 'lat': 40.71521779064671...                 77   \n",
       "1  [{'label': 'display', 'lat': 40.71448400000000...                499   \n",
       "\n",
       "  location.postalCode location.cc location.city location.state  \\\n",
       "0               10282          US      New York             NY   \n",
       "1               10007          US      New York             NY   \n",
       "\n",
       "  location.country                          location.formattedAddress  \n",
       "0    United States  [225 Murray St, New York, NY 10282, United Sta...  \n",
       "1    United States  [63 W Broadway, New York, NY 10007, United Sta...  "
      ]
     },
     "execution_count": 9,
     "metadata": {},
     "output_type": "execute_result"
    }
   ],
   "source": [
    "# assign relevant part of JSON to venues\n",
    "venues = results['response']['venues']\n",
    "\n",
    "# tranform venues into a dataframe\n",
    "dataframe = json_normalize(venues)\n",
    "dataframe.head()"
   ]
  },
  {
   "cell_type": "markdown",
   "metadata": {
    "button": false,
    "deletable": true,
    "new_sheet": false,
    "run_control": {
     "read_only": false
    }
   },
   "source": [
    "#### Define information of interest and filter dataframe"
   ]
  },
  {
   "cell_type": "code",
   "execution_count": 10,
   "metadata": {
    "button": false,
    "collapsed": false,
    "deletable": true,
    "jupyter": {
     "outputs_hidden": false
    },
    "new_sheet": false,
    "run_control": {
     "read_only": false
    },
    "scrolled": true
   },
   "outputs": [
    {
     "data": {
      "text/html": [
       "<div>\n",
       "<style scoped>\n",
       "    .dataframe tbody tr th:only-of-type {\n",
       "        vertical-align: middle;\n",
       "    }\n",
       "\n",
       "    .dataframe tbody tr th {\n",
       "        vertical-align: top;\n",
       "    }\n",
       "\n",
       "    .dataframe thead th {\n",
       "        text-align: right;\n",
       "    }\n",
       "</style>\n",
       "<table border=\"1\" class=\"dataframe\">\n",
       "  <thead>\n",
       "    <tr style=\"text-align: right;\">\n",
       "      <th></th>\n",
       "      <th>name</th>\n",
       "      <th>categories</th>\n",
       "      <th>address</th>\n",
       "      <th>lat</th>\n",
       "      <th>lng</th>\n",
       "      <th>labeledLatLngs</th>\n",
       "      <th>distance</th>\n",
       "      <th>postalCode</th>\n",
       "      <th>cc</th>\n",
       "      <th>city</th>\n",
       "      <th>state</th>\n",
       "      <th>country</th>\n",
       "      <th>formattedAddress</th>\n",
       "      <th>id</th>\n",
       "    </tr>\n",
       "  </thead>\n",
       "  <tbody>\n",
       "    <tr>\n",
       "      <th>0</th>\n",
       "      <td>Harry's Italian Pizza Bar</td>\n",
       "      <td>Pizza Place</td>\n",
       "      <td>225 Murray St</td>\n",
       "      <td>40.715218</td>\n",
       "      <td>-74.014739</td>\n",
       "      <td>[{'label': 'display', 'lat': 40.71521779064671...</td>\n",
       "      <td>77</td>\n",
       "      <td>10282</td>\n",
       "      <td>US</td>\n",
       "      <td>New York</td>\n",
       "      <td>NY</td>\n",
       "      <td>United States</td>\n",
       "      <td>[225 Murray St, New York, NY 10282, United Sta...</td>\n",
       "      <td>4fa862b3e4b0ebff2f749f06</td>\n",
       "    </tr>\n",
       "    <tr>\n",
       "      <th>1</th>\n",
       "      <td>Conca Cucina Italian Restaurant</td>\n",
       "      <td>Food</td>\n",
       "      <td>63 W Broadway</td>\n",
       "      <td>40.714484</td>\n",
       "      <td>-74.009806</td>\n",
       "      <td>[{'label': 'display', 'lat': 40.71448400000000...</td>\n",
       "      <td>499</td>\n",
       "      <td>10007</td>\n",
       "      <td>US</td>\n",
       "      <td>New York</td>\n",
       "      <td>NY</td>\n",
       "      <td>United States</td>\n",
       "      <td>[63 W Broadway, New York, NY 10007, United Sta...</td>\n",
       "      <td>4f3232e219836c91c7bfde94</td>\n",
       "    </tr>\n",
       "  </tbody>\n",
       "</table>\n",
       "</div>"
      ],
      "text/plain": [
       "                              name   categories        address        lat  \\\n",
       "0        Harry's Italian Pizza Bar  Pizza Place  225 Murray St  40.715218   \n",
       "1  Conca Cucina Italian Restaurant         Food  63 W Broadway  40.714484   \n",
       "\n",
       "         lng                                     labeledLatLngs  distance  \\\n",
       "0 -74.014739  [{'label': 'display', 'lat': 40.71521779064671...        77   \n",
       "1 -74.009806  [{'label': 'display', 'lat': 40.71448400000000...       499   \n",
       "\n",
       "  postalCode  cc      city state        country  \\\n",
       "0      10282  US  New York    NY  United States   \n",
       "1      10007  US  New York    NY  United States   \n",
       "\n",
       "                                    formattedAddress                        id  \n",
       "0  [225 Murray St, New York, NY 10282, United Sta...  4fa862b3e4b0ebff2f749f06  \n",
       "1  [63 W Broadway, New York, NY 10007, United Sta...  4f3232e219836c91c7bfde94  "
      ]
     },
     "execution_count": 10,
     "metadata": {},
     "output_type": "execute_result"
    }
   ],
   "source": [
    "# keep only columns that include venue name, and anything that is associated with location\n",
    "filtered_columns = ['name', 'categories'] + [col for col in dataframe.columns if col.startswith('location.')] + ['id']\n",
    "dataframe_filtered = dataframe.loc[:, filtered_columns]\n",
    "\n",
    "# function that extracts the category of the venue\n",
    "def get_category_type(row):\n",
    "    try:\n",
    "        categories_list = row['categories']\n",
    "    except:\n",
    "        categories_list = row['venue.categories']\n",
    "        \n",
    "    if len(categories_list) == 0:\n",
    "        return None\n",
    "    else:\n",
    "        return categories_list[0]['name']\n",
    "\n",
    "# filter the category for each row\n",
    "dataframe_filtered['categories'] = dataframe_filtered.apply(get_category_type, axis=1)\n",
    "\n",
    "# clean column names by keeping only last term\n",
    "dataframe_filtered.columns = [column.split('.')[-1] for column in dataframe_filtered.columns]\n",
    "\n",
    "dataframe_filtered"
   ]
  },
  {
   "cell_type": "markdown",
   "metadata": {
    "button": false,
    "deletable": true,
    "new_sheet": false,
    "run_control": {
     "read_only": false
    }
   },
   "source": [
    "#### Let's visualize the Italian restaurants that are nearby"
   ]
  },
  {
   "cell_type": "code",
   "execution_count": 11,
   "metadata": {
    "button": false,
    "collapsed": false,
    "deletable": true,
    "jupyter": {
     "outputs_hidden": false
    },
    "new_sheet": false,
    "run_control": {
     "read_only": false
    }
   },
   "outputs": [
    {
     "data": {
      "text/plain": [
       "0          Harry's Italian Pizza Bar\n",
       "1    Conca Cucina Italian Restaurant\n",
       "Name: name, dtype: object"
      ]
     },
     "execution_count": 11,
     "metadata": {},
     "output_type": "execute_result"
    }
   ],
   "source": [
    "dataframe_filtered.name"
   ]
  },
  {
   "cell_type": "code",
   "execution_count": 12,
   "metadata": {
    "button": false,
    "collapsed": false,
    "deletable": true,
    "jupyter": {
     "outputs_hidden": false
    },
    "new_sheet": false,
    "run_control": {
     "read_only": false
    }
   },
   "outputs": [
    {
     "data": {
      "text/html": [
       "<div style=\"width:100%;\"><div style=\"position:relative;width:100%;height:0;padding-bottom:60%;\"><span style=\"color:#565656\">Make this Notebook Trusted to load map: File -> Trust Notebook</span><iframe src=\"about:blank\" style=\"position:absolute;width:100%;height:100%;left:0;top:0;border:none !important;\" data-html=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 onload=\"this.contentDocument.open();this.contentDocument.write(atob(this.getAttribute('data-html')));this.contentDocument.close();\" allowfullscreen webkitallowfullscreen mozallowfullscreen></iframe></div></div>"
      ],
      "text/plain": [
       "<folium.folium.Map at 0x7f5cfbb72630>"
      ]
     },
     "execution_count": 12,
     "metadata": {},
     "output_type": "execute_result"
    }
   ],
   "source": [
    "venues_map = folium.Map(location=[latitude, longitude], zoom_start=13) # generate map centred around the Conrad Hotel\n",
    "\n",
    "# add a red circle marker to represent the Conrad Hotel\n",
    "folium.features.CircleMarker(\n",
    "    [latitude, longitude],\n",
    "    radius=10,\n",
    "    color='red',\n",
    "    popup='Conrad Hotel',\n",
    "    fill = True,\n",
    "    fill_color = 'red',\n",
    "    fill_opacity = 0.6\n",
    ").add_to(venues_map)\n",
    "\n",
    "# add the Italian restaurants as blue circle markers\n",
    "for lat, lng, label in zip(dataframe_filtered.lat, dataframe_filtered.lng, dataframe_filtered.categories):\n",
    "    folium.features.CircleMarker(\n",
    "        [lat, lng],\n",
    "        radius=5,\n",
    "        color='blue',\n",
    "        popup=label,\n",
    "        fill = True,\n",
    "        fill_color='blue',\n",
    "        fill_opacity=0.6\n",
    "    ).add_to(venues_map)\n",
    "\n",
    "# display map\n",
    "venues_map"
   ]
  },
  {
   "cell_type": "markdown",
   "metadata": {
    "button": false,
    "deletable": true,
    "new_sheet": false,
    "run_control": {
     "read_only": false
    }
   },
   "source": [
    "   "
   ]
  },
  {
   "cell_type": "markdown",
   "metadata": {
    "button": false,
    "deletable": true,
    "new_sheet": false,
    "run_control": {
     "read_only": false
    }
   },
   "source": [
    "<a id=\"item2\"></a>"
   ]
  },
  {
   "cell_type": "markdown",
   "metadata": {
    "button": false,
    "deletable": true,
    "new_sheet": false,
    "run_control": {
     "read_only": false
    }
   },
   "source": [
    "## 2. Explore a Given Venue\n",
    "> `https://api.foursquare.com/v2/venues/`**VENUE_ID**`?client_id=`**CLIENT_ID**`&client_secret=`**CLIENT_SECRET**`&v=`**VERSION**"
   ]
  },
  {
   "cell_type": "markdown",
   "metadata": {
    "button": false,
    "deletable": true,
    "new_sheet": false,
    "run_control": {
     "read_only": false
    }
   },
   "source": [
    "### A. Let's explore the closest Italian restaurant -- _Harry's Italian Pizza Bar_"
   ]
  },
  {
   "cell_type": "code",
   "execution_count": 13,
   "metadata": {
    "button": false,
    "collapsed": false,
    "deletable": true,
    "jupyter": {
     "outputs_hidden": false
    },
    "new_sheet": false,
    "run_control": {
     "read_only": false
    }
   },
   "outputs": [
    {
     "data": {
      "text/plain": [
       "'https://api.foursquare.com/v2/venues/4fa862b3e4b0ebff2f749f06?client_id=KZ21CPMWMFPR2MYXVTXNXRHCP2TO13OFQMO4ENDLEUNUJN3R&client_secret=JSPSC1NVSH45DROPRILYOM1SPJAUNIASWKMZZDXZKN1KWSMI&v=20180604'"
      ]
     },
     "execution_count": 13,
     "metadata": {},
     "output_type": "execute_result"
    }
   ],
   "source": [
    "venue_id = '4fa862b3e4b0ebff2f749f06' # ID of Harry's Italian Pizza Bar\n",
    "url = 'https://api.foursquare.com/v2/venues/{}?client_id={}&client_secret={}&v={}'.format(venue_id, CLIENT_ID, CLIENT_SECRET, VERSION)\n",
    "url"
   ]
  },
  {
   "cell_type": "markdown",
   "metadata": {
    "button": false,
    "deletable": true,
    "new_sheet": false,
    "run_control": {
     "read_only": false
    }
   },
   "source": [
    "#### Send GET request for result"
   ]
  },
  {
   "cell_type": "code",
   "execution_count": 14,
   "metadata": {
    "button": false,
    "collapsed": false,
    "deletable": true,
    "jupyter": {
     "outputs_hidden": false
    },
    "new_sheet": false,
    "run_control": {
     "read_only": false
    }
   },
   "outputs": [
    {
     "name": "stdout",
     "output_type": "stream",
     "text": [
      "dict_keys(['id', 'name', 'contact', 'location', 'canonicalUrl', 'categories', 'verified', 'stats', 'url', 'price', 'hasMenu', 'likes', 'dislike', 'ok', 'rating', 'ratingColor', 'ratingSignals', 'menu', 'allowMenuUrlEdit', 'beenHere', 'specials', 'photos', 'reasons', 'hereNow', 'createdAt', 'tips', 'shortUrl', 'timeZone', 'listed', 'hours', 'popular', 'seasonalHours', 'defaultHours', 'pageUpdates', 'inbox', 'attributes', 'bestPhoto', 'colors'])\n"
     ]
    },
    {
     "data": {
      "text/plain": [
       "{'id': '4fa862b3e4b0ebff2f749f06',\n",
       " 'name': \"Harry's Italian Pizza Bar\",\n",
       " 'contact': {'phone': '2126081007', 'formattedPhone': '(212) 608-1007'},\n",
       " 'location': {'address': '225 Murray St',\n",
       "  'lat': 40.71521779064671,\n",
       "  'lng': -74.01473940209351,\n",
       "  'labeledLatLngs': [{'label': 'display',\n",
       "    'lat': 40.71521779064671,\n",
       "    'lng': -74.01473940209351},\n",
       "   {'label': 'entrance', 'lat': 40.715361, 'lng': -74.014975}],\n",
       "  'postalCode': '10282',\n",
       "  'cc': 'US',\n",
       "  'city': 'New York',\n",
       "  'state': 'NY',\n",
       "  'country': 'United States',\n",
       "  'formattedAddress': ['225 Murray St',\n",
       "   'New York, NY 10282',\n",
       "   'United States']},\n",
       " 'canonicalUrl': 'https://foursquare.com/v/harrys-italian-pizza-bar/4fa862b3e4b0ebff2f749f06',\n",
       " 'categories': [{'id': '4bf58dd8d48988d1ca941735',\n",
       "   'name': 'Pizza Place',\n",
       "   'pluralName': 'Pizza Places',\n",
       "   'shortName': 'Pizza',\n",
       "   'icon': {'prefix': 'https://ss3.4sqi.net/img/categories_v2/food/pizza_',\n",
       "    'suffix': '.png'},\n",
       "   'primary': True},\n",
       "  {'id': '4bf58dd8d48988d110941735',\n",
       "   'name': 'Italian Restaurant',\n",
       "   'pluralName': 'Italian Restaurants',\n",
       "   'shortName': 'Italian',\n",
       "   'icon': {'prefix': 'https://ss3.4sqi.net/img/categories_v2/food/italian_',\n",
       "    'suffix': '.png'}}],\n",
       " 'verified': False,\n",
       " 'stats': {'tipCount': 57},\n",
       " 'url': 'http://harrysitalian.com',\n",
       " 'price': {'tier': 2, 'message': 'Moderate', 'currency': '$'},\n",
       " 'hasMenu': True,\n",
       " 'likes': {'count': 120,\n",
       "  'groups': [{'type': 'others', 'count': 120, 'items': []}],\n",
       "  'summary': '120 Likes'},\n",
       " 'dislike': False,\n",
       " 'ok': False,\n",
       " 'rating': 6.4,\n",
       " 'ratingColor': 'FFC800',\n",
       " 'ratingSignals': 212,\n",
       " 'menu': {'type': 'Menu',\n",
       "  'label': 'Menu',\n",
       "  'anchor': 'View Menu',\n",
       "  'url': 'https://foursquare.com/v/harrys-italian-pizza-bar/4fa862b3e4b0ebff2f749f06/menu',\n",
       "  'mobileUrl': 'https://foursquare.com/v/4fa862b3e4b0ebff2f749f06/device_menu'},\n",
       " 'allowMenuUrlEdit': True,\n",
       " 'beenHere': {'count': 0,\n",
       "  'unconfirmedCount': 0,\n",
       "  'marked': False,\n",
       "  'lastCheckinExpiredAt': 0},\n",
       " 'specials': {'count': 0, 'items': []},\n",
       " 'photos': {'count': 146,\n",
       "  'groups': [{'type': 'venue',\n",
       "    'name': 'Venue photos',\n",
       "    'count': 146,\n",
       "    'items': [{'id': '4fad980de4b091b4626c3633',\n",
       "      'createdAt': 1336776717,\n",
       "      'source': {'name': 'Foursquare for Android',\n",
       "       'url': 'https://foursquare.com/download/#/android'},\n",
       "      'prefix': 'https://fastly.4sqi.net/img/general/',\n",
       "      'suffix': '/ya1iQFI7pLjuIJp1PGDKlrZS3OJdHCF7tpILMmjv_2w.jpg',\n",
       "      'width': 480,\n",
       "      'height': 640,\n",
       "      'user': {'id': '13676709',\n",
       "       'firstName': 'Leony',\n",
       "       'lastName': 'N',\n",
       "       'photo': {'prefix': 'https://fastly.4sqi.net/img/user/',\n",
       "        'suffix': '/T0ANFNGNMCHUDEUE.jpg'}},\n",
       "      'visibility': 'public'}]}]},\n",
       " 'reasons': {'count': 1,\n",
       "  'items': [{'summary': 'Lots of people like this place',\n",
       "    'type': 'general',\n",
       "    'reasonName': 'rawLikesReason'}]},\n",
       " 'hereNow': {'count': 0, 'summary': 'Nobody here', 'groups': []},\n",
       " 'createdAt': 1336435379,\n",
       " 'tips': {'count': 57,\n",
       "  'groups': [{'type': 'others',\n",
       "    'name': 'All tips',\n",
       "    'count': 57,\n",
       "    'items': [{'id': '53d27909498e0523841340b6',\n",
       "      'createdAt': 1406302473,\n",
       "      'text': \"Harry's Italian Pizza bar is known for it's amazing pizza, but did you know that the brunches here are amazing too? Try the Nutella French toast and we know you'll be sold.\",\n",
       "      'type': 'user',\n",
       "      'canonicalUrl': 'https://foursquare.com/item/53d27909498e0523841340b6',\n",
       "      'lang': 'en',\n",
       "      'likes': {'count': 4,\n",
       "       'groups': [{'type': 'others',\n",
       "         'count': 4,\n",
       "         'items': [{'id': '369426',\n",
       "           'firstName': 'P.',\n",
       "           'lastName': 'M',\n",
       "           'photo': {'prefix': 'https://fastly.4sqi.net/img/user/',\n",
       "            'suffix': '/JPQYUWJKUT0H2OO4.jpg'}},\n",
       "          {'id': '87587879',\n",
       "           'firstName': 'Diane',\n",
       "           'lastName': 'D',\n",
       "           'photo': {'prefix': 'https://fastly.4sqi.net/img/user/',\n",
       "            'suffix': '/87587879-ESLRSZLQ2CBE2P4W.jpg'}},\n",
       "          {'id': '87591341',\n",
       "           'firstName': 'Tim',\n",
       "           'lastName': 'S',\n",
       "           'photo': {'prefix': 'https://fastly.4sqi.net/img/user/',\n",
       "            'suffix': '/-Z4YK4VKE0JSVXIY1.jpg'}},\n",
       "          {'id': '87473404',\n",
       "           'firstName': 'TenantKing.com',\n",
       "           'photo': {'prefix': 'https://fastly.4sqi.net/img/user/',\n",
       "            'suffix': '/87473404-HI5DTBTK0HX401CA.png'},\n",
       "           'type': 'page'}]}],\n",
       "       'summary': '4 likes'},\n",
       "      'logView': True,\n",
       "      'agreeCount': 4,\n",
       "      'disagreeCount': 0,\n",
       "      'todo': {'count': 0},\n",
       "      'user': {'id': '87473404',\n",
       "       'firstName': 'TenantKing.com',\n",
       "       'photo': {'prefix': 'https://fastly.4sqi.net/img/user/',\n",
       "        'suffix': '/87473404-HI5DTBTK0HX401CA.png'},\n",
       "       'type': 'page'}}]}]},\n",
       " 'shortUrl': 'http://4sq.com/JNblHV',\n",
       " 'timeZone': 'America/New_York',\n",
       " 'listed': {'count': 54,\n",
       "  'groups': [{'type': 'others',\n",
       "    'name': 'Lists from other people',\n",
       "    'count': 54,\n",
       "    'items': [{'id': '4fa32fd0e4b04193744746b1',\n",
       "      'name': 'Manhattan Haunts',\n",
       "      'description': '',\n",
       "      'type': 'others',\n",
       "      'user': {'id': '24592223',\n",
       "       'firstName': 'Becca',\n",
       "       'lastName': 'M',\n",
       "       'photo': {'prefix': 'https://fastly.4sqi.net/img/user/',\n",
       "        'suffix': '/24592223-RAW2UYM0GIB1U40K.jpg'}},\n",
       "      'editable': False,\n",
       "      'public': True,\n",
       "      'collaborative': False,\n",
       "      'url': '/becca_mcarthur/list/manhattan-haunts',\n",
       "      'canonicalUrl': 'https://foursquare.com/becca_mcarthur/list/manhattan-haunts',\n",
       "      'createdAt': 1336094672,\n",
       "      'updatedAt': 1380845377,\n",
       "      'photo': {'id': '4e8cc9461081e3b3544e12e5',\n",
       "       'createdAt': 1317849414,\n",
       "       'prefix': 'https://fastly.4sqi.net/img/general/',\n",
       "       'suffix': '/0NLVU2HC1JF4DXIMKWUFW3QBUT31DC11EFNYYHMJG3NDWAPS.jpg',\n",
       "       'width': 492,\n",
       "       'height': 330,\n",
       "       'user': {'id': '742542',\n",
       "        'firstName': 'Time Out New York',\n",
       "        'photo': {'prefix': 'https://fastly.4sqi.net/img/user/',\n",
       "         'suffix': '/XXHKCBSQHBORZNSR.jpg'},\n",
       "        'type': 'page'},\n",
       "       'visibility': 'public'},\n",
       "      'followers': {'count': 22},\n",
       "      'listItems': {'count': 187,\n",
       "       'items': [{'id': 'v4fa862b3e4b0ebff2f749f06',\n",
       "         'createdAt': 1342934485}]}},\n",
       "     {'id': '4fae817be4b085f6b2a74d19',\n",
       "      'name': 'USA NYC MAN FiDi',\n",
       "      'description': 'Where to go for decent eats in the restaurant wasteland of Downtown NYC aka FiDi, along with Tribeca & Battery Park City.',\n",
       "      'type': 'others',\n",
       "      'user': {'id': '12113441',\n",
       "       'firstName': 'Kino',\n",
       "       'photo': {'prefix': 'https://fastly.4sqi.net/img/user/',\n",
       "        'suffix': '/12113441-K5HTHFLU2MUCM0CM.jpg'}},\n",
       "      'editable': False,\n",
       "      'public': True,\n",
       "      'collaborative': False,\n",
       "      'url': '/kinosfault/list/usa-nyc-man-fidi',\n",
       "      'canonicalUrl': 'https://foursquare.com/kinosfault/list/usa-nyc-man-fidi',\n",
       "      'createdAt': 1336836475,\n",
       "      'updatedAt': 1556754919,\n",
       "      'photo': {'id': '55984992498e13ba75e353bb',\n",
       "       'createdAt': 1436043666,\n",
       "       'prefix': 'https://fastly.4sqi.net/img/general/',\n",
       "       'suffix': '/12113441_iOa6Uh-Xi8bhj2-gpzkkw8MKiAIs7RmOcz_RM7m8ink.jpg',\n",
       "       'width': 540,\n",
       "       'height': 960,\n",
       "       'user': {'id': '12113441',\n",
       "        'firstName': 'Kino',\n",
       "        'photo': {'prefix': 'https://fastly.4sqi.net/img/user/',\n",
       "         'suffix': '/12113441-K5HTHFLU2MUCM0CM.jpg'}},\n",
       "       'visibility': 'public'},\n",
       "      'followers': {'count': 20},\n",
       "      'listItems': {'count': 273,\n",
       "       'items': [{'id': 'v4fa862b3e4b0ebff2f749f06',\n",
       "         'createdAt': 1373909433}]}},\n",
       "     {'id': '4fddeff0e4b0e078037ac0d3',\n",
       "      'name': 'NYC Resturants',\n",
       "      'description': '',\n",
       "      'type': 'others',\n",
       "      'user': {'id': '21563126',\n",
       "       'firstName': 'Richard',\n",
       "       'lastName': 'R',\n",
       "       'photo': {'prefix': 'https://fastly.4sqi.net/img/user/',\n",
       "        'suffix': '/21563126_v05J1KPw_SVj6Ehq9g8B9jeAGjFUMsU5QGl-NZ8inUQ7pKQm5bKplW37EmR7jS2A7GYPBBAtl.jpg'}},\n",
       "      'editable': False,\n",
       "      'public': True,\n",
       "      'collaborative': True,\n",
       "      'url': '/rickr7/list/nyc-resturants',\n",
       "      'canonicalUrl': 'https://foursquare.com/rickr7/list/nyc-resturants',\n",
       "      'createdAt': 1339944944,\n",
       "      'updatedAt': 1589017010,\n",
       "      'photo': {'id': '5072dd13e4b09145cdf782d1',\n",
       "       'createdAt': 1349704979,\n",
       "       'prefix': 'https://fastly.4sqi.net/img/general/',\n",
       "       'suffix': '/208205_fGh2OuAZ9qJ4agbAA5wMVNOSIm9kNUlRtNwj1N-adqg.jpg',\n",
       "       'width': 800,\n",
       "       'height': 800,\n",
       "       'user': {'id': '208205',\n",
       "        'firstName': 'Thalia',\n",
       "        'lastName': 'K',\n",
       "        'photo': {'prefix': 'https://fastly.4sqi.net/img/user/',\n",
       "         'suffix': '/SNOOLCAW2AG04ZKD.jpg'}},\n",
       "       'visibility': 'public'},\n",
       "      'followers': {'count': 12},\n",
       "      'listItems': {'count': 192,\n",
       "       'items': [{'id': 'v4fa862b3e4b0ebff2f749f06',\n",
       "         'createdAt': 1581655865}]}},\n",
       "     {'id': '5266c68a498e7c667807fe09',\n",
       "      'name': 'Foodie Love in NY - 02',\n",
       "      'description': '',\n",
       "      'type': 'others',\n",
       "      'user': {'id': '547977',\n",
       "       'firstName': 'WiLL',\n",
       "       'photo': {'prefix': 'https://fastly.4sqi.net/img/user/',\n",
       "        'suffix': '/-Q5NYGDMFDMOITQRR.jpg'}},\n",
       "      'editable': False,\n",
       "      'public': True,\n",
       "      'collaborative': False,\n",
       "      'url': '/sweetiewill/list/foodie-love-in-ny--02',\n",
       "      'canonicalUrl': 'https://foursquare.com/sweetiewill/list/foodie-love-in-ny--02',\n",
       "      'createdAt': 1382467210,\n",
       "      'updatedAt': 1391995585,\n",
       "      'followers': {'count': 7},\n",
       "      'listItems': {'count': 200,\n",
       "       'items': [{'id': 'v4fa862b3e4b0ebff2f749f06',\n",
       "         'createdAt': 1386809936}]}}]}]},\n",
       " 'hours': {'status': 'Closed until 11:30 AM',\n",
       "  'richStatus': {'entities': [], 'text': 'Closed until 11:30 AM'},\n",
       "  'isOpen': False,\n",
       "  'isLocalHoliday': False,\n",
       "  'dayData': [],\n",
       "  'timeframes': [{'days': 'Mon–Wed, Sun',\n",
       "    'includesToday': True,\n",
       "    'open': [{'renderedTime': '11:30 AM–11:00 PM'}],\n",
       "    'segments': []},\n",
       "   {'days': 'Thu–Sat',\n",
       "    'open': [{'renderedTime': '11:30 AM–Midnight'}],\n",
       "    'segments': []}]},\n",
       " 'popular': {'isOpen': False,\n",
       "  'isLocalHoliday': False,\n",
       "  'timeframes': [{'days': 'Today',\n",
       "    'includesToday': True,\n",
       "    'open': [{'renderedTime': 'Noon–3:00 PM'},\n",
       "     {'renderedTime': '5:00 PM–8:00 PM'}],\n",
       "    'segments': []},\n",
       "   {'days': 'Mon',\n",
       "    'open': [{'renderedTime': 'Noon–2:00 PM'},\n",
       "     {'renderedTime': '6:00 PM–8:00 PM'}],\n",
       "    'segments': []},\n",
       "   {'days': 'Tue–Thu',\n",
       "    'open': [{'renderedTime': 'Noon–2:00 PM'},\n",
       "     {'renderedTime': '5:00 PM–10:00 PM'}],\n",
       "    'segments': []},\n",
       "   {'days': 'Fri',\n",
       "    'open': [{'renderedTime': 'Noon–3:00 PM'},\n",
       "     {'renderedTime': '5:00 PM–11:00 PM'}],\n",
       "    'segments': []},\n",
       "   {'days': 'Sat',\n",
       "    'open': [{'renderedTime': 'Noon–11:00 PM'}],\n",
       "    'segments': []}]},\n",
       " 'seasonalHours': [],\n",
       " 'defaultHours': {'status': 'Closed until 11:30 AM',\n",
       "  'richStatus': {'entities': [], 'text': 'Closed until 11:30 AM'},\n",
       "  'isOpen': False,\n",
       "  'isLocalHoliday': False,\n",
       "  'dayData': [],\n",
       "  'timeframes': [{'days': 'Mon–Wed, Sun',\n",
       "    'includesToday': True,\n",
       "    'open': [{'renderedTime': '11:30 AM–11:00 PM'}],\n",
       "    'segments': []},\n",
       "   {'days': 'Thu–Sat',\n",
       "    'open': [{'renderedTime': '11:30 AM–Midnight'}],\n",
       "    'segments': []}]},\n",
       " 'pageUpdates': {'count': 0, 'items': []},\n",
       " 'inbox': {'count': 0, 'items': []},\n",
       " 'attributes': {'groups': [{'type': 'price',\n",
       "    'name': 'Price',\n",
       "    'summary': '$$',\n",
       "    'count': 1,\n",
       "    'items': [{'displayName': 'Price', 'displayValue': '$$', 'priceTier': 2}]},\n",
       "   {'type': 'payments',\n",
       "    'name': 'Credit Cards',\n",
       "    'summary': 'Credit Cards',\n",
       "    'count': 7,\n",
       "    'items': [{'displayName': 'Credit Cards',\n",
       "      'displayValue': 'Yes (incl. American Express)'}]},\n",
       "   {'type': 'outdoorSeating',\n",
       "    'name': 'Outdoor Seating',\n",
       "    'summary': 'Outdoor Seating',\n",
       "    'count': 1,\n",
       "    'items': [{'displayName': 'Outdoor Seating', 'displayValue': 'Yes'}]},\n",
       "   {'type': 'serves',\n",
       "    'name': 'Menus',\n",
       "    'summary': 'Happy Hour, Brunch & more',\n",
       "    'count': 8,\n",
       "    'items': [{'displayName': 'Brunch', 'displayValue': 'Brunch'},\n",
       "     {'displayName': 'Lunch', 'displayValue': 'Lunch'},\n",
       "     {'displayName': 'Dinner', 'displayValue': 'Dinner'},\n",
       "     {'displayName': 'Happy Hour', 'displayValue': 'Happy Hour'}]},\n",
       "   {'type': 'drinks',\n",
       "    'name': 'Drinks',\n",
       "    'summary': 'Beer, Wine & Cocktails',\n",
       "    'count': 5,\n",
       "    'items': [{'displayName': 'Beer', 'displayValue': 'Beer'},\n",
       "     {'displayName': 'Wine', 'displayValue': 'Wine'},\n",
       "     {'displayName': 'Cocktails', 'displayValue': 'Cocktails'}]},\n",
       "   {'type': 'diningOptions',\n",
       "    'name': 'Dining Options',\n",
       "    'summary': 'Delivery',\n",
       "    'count': 5,\n",
       "    'items': [{'displayName': 'Delivery', 'displayValue': 'Delivery'}]}]},\n",
       " 'bestPhoto': {'id': '4fad980de4b091b4626c3633',\n",
       "  'createdAt': 1336776717,\n",
       "  'source': {'name': 'Foursquare for Android',\n",
       "   'url': 'https://foursquare.com/download/#/android'},\n",
       "  'prefix': 'https://fastly.4sqi.net/img/general/',\n",
       "  'suffix': '/ya1iQFI7pLjuIJp1PGDKlrZS3OJdHCF7tpILMmjv_2w.jpg',\n",
       "  'width': 480,\n",
       "  'height': 640,\n",
       "  'visibility': 'public'},\n",
       " 'colors': {'highlightColor': {'photoId': '4fad980de4b091b4626c3633',\n",
       "   'value': -13619152},\n",
       "  'highlightTextColor': {'photoId': '4fad980de4b091b4626c3633', 'value': -1},\n",
       "  'algoVersion': 3}}"
      ]
     },
     "execution_count": 14,
     "metadata": {},
     "output_type": "execute_result"
    }
   ],
   "source": [
    "result = requests.get(url).json()\n",
    "print(result['response']['venue'].keys())\n",
    "result['response']['venue']"
   ]
  },
  {
   "cell_type": "markdown",
   "metadata": {
    "button": false,
    "deletable": true,
    "new_sheet": false,
    "run_control": {
     "read_only": false
    }
   },
   "source": [
    "### B. Get the venue's overall rating"
   ]
  },
  {
   "cell_type": "code",
   "execution_count": 15,
   "metadata": {
    "button": false,
    "collapsed": false,
    "deletable": true,
    "jupyter": {
     "outputs_hidden": false
    },
    "new_sheet": false,
    "run_control": {
     "read_only": false
    }
   },
   "outputs": [
    {
     "name": "stdout",
     "output_type": "stream",
     "text": [
      "6.4\n"
     ]
    }
   ],
   "source": [
    "try:\n",
    "    print(result['response']['venue']['rating'])\n",
    "except:\n",
    "    print('This venue has not been rated yet.')"
   ]
  },
  {
   "cell_type": "markdown",
   "metadata": {
    "button": false,
    "deletable": true,
    "new_sheet": false,
    "run_control": {
     "read_only": false
    }
   },
   "source": [
    "That is not a very good rating. Let's check the rating of the second closest Italian restaurant."
   ]
  },
  {
   "cell_type": "code",
   "execution_count": 16,
   "metadata": {
    "button": false,
    "collapsed": false,
    "deletable": true,
    "jupyter": {
     "outputs_hidden": false
    },
    "new_sheet": false,
    "run_control": {
     "read_only": false
    }
   },
   "outputs": [
    {
     "name": "stdout",
     "output_type": "stream",
     "text": [
      "This venue has not been rated yet.\n"
     ]
    }
   ],
   "source": [
    "venue_id = '4f3232e219836c91c7bfde94' # ID of Conca Cucina Italian Restaurant\n",
    "url = 'https://api.foursquare.com/v2/venues/{}?client_id={}&client_secret={}&v={}'.format(venue_id, CLIENT_ID, CLIENT_SECRET, VERSION)\n",
    "\n",
    "result = requests.get(url).json()\n",
    "try:\n",
    "    print(result['response']['venue']['rating'])\n",
    "except:\n",
    "    print('This venue has not been rated yet.')"
   ]
  },
  {
   "cell_type": "markdown",
   "metadata": {
    "button": false,
    "deletable": true,
    "new_sheet": false,
    "run_control": {
     "read_only": false
    }
   },
   "source": [
    "Since this restaurant has no ratings, let's check the third restaurant."
   ]
  },
  {
   "cell_type": "code",
   "execution_count": 17,
   "metadata": {
    "button": false,
    "collapsed": false,
    "deletable": true,
    "jupyter": {
     "outputs_hidden": false
    },
    "new_sheet": false,
    "run_control": {
     "read_only": false
    }
   },
   "outputs": [
    {
     "name": "stdout",
     "output_type": "stream",
     "text": [
      "7.4\n"
     ]
    }
   ],
   "source": [
    "venue_id = '3fd66200f964a520f4e41ee3' # ID of Ecco\n",
    "url = 'https://api.foursquare.com/v2/venues/{}?client_id={}&client_secret={}&v={}'.format(venue_id, CLIENT_ID, CLIENT_SECRET, VERSION)\n",
    "\n",
    "result = requests.get(url).json()\n",
    "try: \n",
    "    print(result['response']['venue']['rating'])\n",
    "except: \n",
    "    print('This venue has not been rated yet.')"
   ]
  },
  {
   "cell_type": "markdown",
   "metadata": {
    "button": false,
    "deletable": true,
    "new_sheet": false,
    "run_control": {
     "read_only": false
    }
   },
   "source": [
    "Since this restaurant has a slightly better rating, let's explore it further."
   ]
  },
  {
   "cell_type": "markdown",
   "metadata": {
    "button": false,
    "deletable": true,
    "new_sheet": false,
    "run_control": {
     "read_only": false
    }
   },
   "source": [
    "### C. Get the number of tips"
   ]
  },
  {
   "cell_type": "code",
   "execution_count": 18,
   "metadata": {
    "button": false,
    "collapsed": false,
    "deletable": true,
    "jupyter": {
     "outputs_hidden": false
    },
    "new_sheet": false,
    "run_control": {
     "read_only": false
    }
   },
   "outputs": [
    {
     "data": {
      "text/plain": [
       "19"
      ]
     },
     "execution_count": 18,
     "metadata": {},
     "output_type": "execute_result"
    }
   ],
   "source": [
    "result['response']['venue']['tips']['count']"
   ]
  },
  {
   "cell_type": "markdown",
   "metadata": {
    "button": false,
    "deletable": true,
    "new_sheet": false,
    "run_control": {
     "read_only": false
    }
   },
   "source": [
    "### D. Get the venue's tips\n",
    "> `https://api.foursquare.com/v2/venues/`**VENUE_ID**`/tips?client_id=`**CLIENT_ID**`&client_secret=`**CLIENT_SECRET**`&v=`**VERSION**`&limit=`**LIMIT**"
   ]
  },
  {
   "cell_type": "markdown",
   "metadata": {
    "button": false,
    "deletable": true,
    "new_sheet": false,
    "run_control": {
     "read_only": false
    }
   },
   "source": [
    "#### Create URL and send GET request. Make sure to set limit to get all tips"
   ]
  },
  {
   "cell_type": "code",
   "execution_count": 19,
   "metadata": {
    "button": false,
    "collapsed": false,
    "deletable": true,
    "jupyter": {
     "outputs_hidden": false
    },
    "new_sheet": false,
    "run_control": {
     "read_only": false
    }
   },
   "outputs": [
    {
     "data": {
      "text/plain": [
       "{'meta': {'code': 200, 'requestId': '5eb797fdb4b684001b581d5b'},\n",
       " 'response': {'tips': {'count': 19,\n",
       "   'items': [{'id': '5ab1cb46c9a517174651d3fe',\n",
       "     'createdAt': 1521601350,\n",
       "     'text': 'A+ Italian food! Trust me on this: my mom’s side of the family is 100% Italian. I was born and bred to know good pasta when I see it, and Ecco is one of my all-time NYC favorites',\n",
       "     'type': 'user',\n",
       "     'canonicalUrl': 'https://foursquare.com/item/5ab1cb46c9a517174651d3fe',\n",
       "     'lang': 'en',\n",
       "     'likes': {'count': 0, 'groups': []},\n",
       "     'logView': True,\n",
       "     'agreeCount': 4,\n",
       "     'disagreeCount': 0,\n",
       "     'todo': {'count': 0},\n",
       "     'user': {'id': '484542633',\n",
       "      'firstName': 'Nick',\n",
       "      'lastName': 'E',\n",
       "      'photo': {'prefix': 'https://fastly.4sqi.net/img/user/',\n",
       "       'suffix': '/484542633_unymNUmw_FdPs3GjXHujmHcYnN4hf8kEPADlOZuIrdcdm97VX3tFqL7fFNMNA_8Gl9NlU1GYg.jpg'}},\n",
       "     'authorInteractionType': 'liked'}]}}}"
      ]
     },
     "execution_count": 19,
     "metadata": {},
     "output_type": "execute_result"
    }
   ],
   "source": [
    "## Ecco Tips\n",
    "limit = 15 # set limit to be greater than or equal to the total number of tips\n",
    "url = 'https://api.foursquare.com/v2/venues/{}/tips?client_id={}&client_secret={}&v={}&limit={}'.format(venue_id, CLIENT_ID, CLIENT_SECRET, VERSION, limit)\n",
    "\n",
    "results = requests.get(url).json()\n",
    "results"
   ]
  },
  {
   "cell_type": "code",
   "execution_count": null,
   "metadata": {},
   "outputs": [],
   "source": []
  },
  {
   "cell_type": "markdown",
   "metadata": {
    "button": false,
    "deletable": true,
    "new_sheet": false,
    "run_control": {
     "read_only": false
    }
   },
   "source": [
    "#### Get tips and list of associated features"
   ]
  },
  {
   "cell_type": "code",
   "execution_count": 20,
   "metadata": {
    "button": false,
    "collapsed": false,
    "deletable": true,
    "jupyter": {
     "outputs_hidden": false
    },
    "new_sheet": false,
    "run_control": {
     "read_only": false
    }
   },
   "outputs": [
    {
     "data": {
      "text/plain": [
       "dict_keys(['id', 'createdAt', 'text', 'type', 'canonicalUrl', 'lang', 'likes', 'logView', 'agreeCount', 'disagreeCount', 'todo', 'user', 'authorInteractionType'])"
      ]
     },
     "execution_count": 20,
     "metadata": {},
     "output_type": "execute_result"
    }
   ],
   "source": [
    "tips = results['response']['tips']['items']\n",
    "\n",
    "tip = results['response']['tips']['items'][0]\n",
    "tip.keys()"
   ]
  },
  {
   "cell_type": "markdown",
   "metadata": {
    "button": false,
    "deletable": true,
    "new_sheet": false,
    "run_control": {
     "read_only": false
    }
   },
   "source": [
    "#### Format column width and display all tips"
   ]
  },
  {
   "cell_type": "code",
   "execution_count": 21,
   "metadata": {
    "button": false,
    "collapsed": false,
    "deletable": true,
    "jupyter": {
     "outputs_hidden": false
    },
    "new_sheet": false,
    "run_control": {
     "read_only": false
    }
   },
   "outputs": [
    {
     "data": {
      "text/html": [
       "<div>\n",
       "<style scoped>\n",
       "    .dataframe tbody tr th:only-of-type {\n",
       "        vertical-align: middle;\n",
       "    }\n",
       "\n",
       "    .dataframe tbody tr th {\n",
       "        vertical-align: top;\n",
       "    }\n",
       "\n",
       "    .dataframe thead th {\n",
       "        text-align: right;\n",
       "    }\n",
       "</style>\n",
       "<table border=\"1\" class=\"dataframe\">\n",
       "  <thead>\n",
       "    <tr style=\"text-align: right;\">\n",
       "      <th></th>\n",
       "      <th>text</th>\n",
       "      <th>agreeCount</th>\n",
       "      <th>disagreeCount</th>\n",
       "      <th>id</th>\n",
       "      <th>user.firstName</th>\n",
       "      <th>user.lastName</th>\n",
       "      <th>user.id</th>\n",
       "    </tr>\n",
       "  </thead>\n",
       "  <tbody>\n",
       "    <tr>\n",
       "      <th>0</th>\n",
       "      <td>A+ Italian food! Trust me on this: my mom’s side of the family is 100% Italian. I was born and bred to know good pasta when I see it, and Ecco is one of my all-time NYC favorites</td>\n",
       "      <td>4</td>\n",
       "      <td>0</td>\n",
       "      <td>5ab1cb46c9a517174651d3fe</td>\n",
       "      <td>Nick</td>\n",
       "      <td>E</td>\n",
       "      <td>484542633</td>\n",
       "    </tr>\n",
       "  </tbody>\n",
       "</table>\n",
       "</div>"
      ],
      "text/plain": [
       "                                                                                                                                                                                 text  \\\n",
       "0  A+ Italian food! Trust me on this: my mom’s side of the family is 100% Italian. I was born and bred to know good pasta when I see it, and Ecco is one of my all-time NYC favorites   \n",
       "\n",
       "   agreeCount  disagreeCount                        id user.firstName  \\\n",
       "0           4              0  5ab1cb46c9a517174651d3fe           Nick   \n",
       "\n",
       "  user.lastName    user.id  \n",
       "0             E  484542633  "
      ]
     },
     "execution_count": 21,
     "metadata": {},
     "output_type": "execute_result"
    }
   ],
   "source": [
    "pd.set_option('display.max_colwidth', None)\n",
    "tips_df = pd.json_normalize(tips)\n",
    "\n",
    "# columns to keep\n",
    "filtered_columns = ['text', 'agreeCount', 'disagreeCount', 'id', 'user.firstName', 'user.lastName', 'user.id']\n",
    "tips_filtered = tips_df.reindex(columns=filtered_columns)\n",
    "tips_filtered = tips_df.loc[:, filtered_columns]\n",
    "\n",
    "# display tips\n",
    "tips_filtered"
   ]
  },
  {
   "cell_type": "markdown",
   "metadata": {
    "button": false,
    "deletable": true,
    "new_sheet": false,
    "run_control": {
     "read_only": false
    }
   },
   "source": [
    "Now remember that because we are using a personal developer account, then we can access only 2 of the restaurant's tips, instead of all 15 tips."
   ]
  },
  {
   "cell_type": "markdown",
   "metadata": {
    "button": false,
    "deletable": true,
    "new_sheet": false,
    "run_control": {
     "read_only": false
    }
   },
   "source": [
    "   "
   ]
  },
  {
   "cell_type": "markdown",
   "metadata": {
    "button": false,
    "deletable": true,
    "new_sheet": false,
    "run_control": {
     "read_only": false
    }
   },
   "source": [
    "<a id=\"item3\"></a>"
   ]
  },
  {
   "cell_type": "markdown",
   "metadata": {
    "button": false,
    "deletable": true,
    "new_sheet": false,
    "run_control": {
     "read_only": false
    }
   },
   "source": [
    "## 3. Search a Foursquare User\n",
    "> `https://api.foursquare.com/v2/users/`**USER_ID**`?client_id=`**CLIENT_ID**`&client_secret=`**CLIENT_SECRET**`&v=`**VERSION**"
   ]
  },
  {
   "cell_type": "markdown",
   "metadata": {
    "button": false,
    "deletable": true,
    "new_sheet": false,
    "run_control": {
     "read_only": false
    }
   },
   "source": [
    "### Define URL, send GET request and display features associated with user"
   ]
  },
  {
   "cell_type": "code",
   "execution_count": 27,
   "metadata": {
    "button": false,
    "collapsed": false,
    "deletable": true,
    "jupyter": {
     "outputs_hidden": false
    },
    "new_sheet": false,
    "run_control": {
     "read_only": false
    }
   },
   "outputs": [
    {
     "data": {
      "text/plain": [
       "dict_keys(['id', 'firstName', 'lastName', 'gender', 'canonicalUrl', 'photo', 'friends', 'tips', 'homeCity', 'bio', 'contact', 'photos', 'checkinPings', 'pings', 'type', 'mayorships', 'checkins', 'lists', 'blockedStatus', 'lenses'])"
      ]
     },
     "execution_count": 27,
     "metadata": {},
     "output_type": "execute_result"
    }
   ],
   "source": [
    "user_id = '484542633' # user ID with most agree counts and complete profile\n",
    "\n",
    "url = 'https://api.foursquare.com/v2/users/{}?client_id={}&client_secret={}&oauth_token={}&v={}'.format(user_id, CLIENT_ID, CLIENT_SECRET, ACCESS_TOKEN, VERSION) # define URL\n",
    "\n",
    "# send GET request\n",
    "results = requests.get(url).json()\n",
    "user_data = results['response']['user']\n",
    "\n",
    "# display features associated with user\n",
    "user_data.keys()\n",
    "\n",
    "\n",
    "#url = 'https://api.foursquare.com/v2/users/{}?client_id={}&client_secret={}&v={}'.format(user_id, CLIENT_ID, CLIENT_SECRET, VERSION) # define URL\n",
    "\n",
    "# send GET request\n",
    "#results = requests.get(url).json()\n",
    "#user_data = results['response']['user']\n",
    "\n",
    "# display features associated with user\n",
    "#user_data.keys()"
   ]
  },
  {
   "cell_type": "code",
   "execution_count": 28,
   "metadata": {
    "button": false,
    "collapsed": false,
    "deletable": true,
    "jupyter": {
     "outputs_hidden": false
    },
    "new_sheet": false,
    "run_control": {
     "read_only": false
    }
   },
   "outputs": [
    {
     "name": "stdout",
     "output_type": "stream",
     "text": [
      "First Name: Nick\n",
      "Last Name: El-Tawil\n",
      "Home City: New York, NY\n"
     ]
    }
   ],
   "source": [
    "print('First Name: ' + user_data['firstName'])\n",
    "print('Last Name: ' + user_data['lastName'])\n",
    "print('Home City: ' + user_data['homeCity'])"
   ]
  },
  {
   "cell_type": "markdown",
   "metadata": {
    "button": false,
    "deletable": true,
    "new_sheet": false,
    "run_control": {
     "read_only": false
    }
   },
   "source": [
    "#### How many tips has this user submitted?"
   ]
  },
  {
   "cell_type": "code",
   "execution_count": 29,
   "metadata": {
    "button": false,
    "collapsed": false,
    "deletable": true,
    "jupyter": {
     "outputs_hidden": false
    },
    "new_sheet": false,
    "run_control": {
     "read_only": false
    }
   },
   "outputs": [
    {
     "data": {
      "text/plain": [
       "{'count': 98}"
      ]
     },
     "execution_count": 29,
     "metadata": {},
     "output_type": "execute_result"
    }
   ],
   "source": [
    "user_data['tips']"
   ]
  },
  {
   "cell_type": "markdown",
   "metadata": {
    "button": false,
    "deletable": true,
    "new_sheet": false,
    "run_control": {
     "read_only": false
    }
   },
   "source": [
    "Wow! So it turns out that Nick is a very active Foursquare user, with more than 250 tips."
   ]
  },
  {
   "cell_type": "markdown",
   "metadata": {
    "button": false,
    "deletable": true,
    "new_sheet": false,
    "run_control": {
     "read_only": false
    }
   },
   "source": [
    "### Get User's tips"
   ]
  },
  {
   "cell_type": "code",
   "execution_count": 30,
   "metadata": {
    "button": false,
    "collapsed": false,
    "deletable": true,
    "jupyter": {
     "outputs_hidden": false
    },
    "new_sheet": false,
    "run_control": {
     "read_only": false
    }
   },
   "outputs": [
    {
     "name": "stderr",
     "output_type": "stream",
     "text": [
      "/home/jupyterlab/conda/envs/python/lib/python3.6/site-packages/ipykernel_launcher.py:9: FutureWarning: Passing a negative integer is deprecated in version 1.0 and will not be supported in future version. Instead, use None to not limit the column width.\n",
      "  if __name__ == '__main__':\n",
      "/home/jupyterlab/conda/envs/python/lib/python3.6/site-packages/ipykernel_launcher.py:11: FutureWarning: pandas.io.json.json_normalize is deprecated, use pandas.json_normalize instead\n",
      "  # This is added back by InteractiveShellApp.init_path()\n"
     ]
    },
    {
     "data": {
      "text/html": [
       "<div>\n",
       "<style scoped>\n",
       "    .dataframe tbody tr th:only-of-type {\n",
       "        vertical-align: middle;\n",
       "    }\n",
       "\n",
       "    .dataframe tbody tr th {\n",
       "        vertical-align: top;\n",
       "    }\n",
       "\n",
       "    .dataframe thead th {\n",
       "        text-align: right;\n",
       "    }\n",
       "</style>\n",
       "<table border=\"1\" class=\"dataframe\">\n",
       "  <thead>\n",
       "    <tr style=\"text-align: right;\">\n",
       "      <th></th>\n",
       "      <th>text</th>\n",
       "      <th>agreeCount</th>\n",
       "      <th>disagreeCount</th>\n",
       "      <th>id</th>\n",
       "    </tr>\n",
       "  </thead>\n",
       "  <tbody>\n",
       "    <tr>\n",
       "      <th>0</th>\n",
       "      <td>They serve coffee!!!!!!</td>\n",
       "      <td>1</td>\n",
       "      <td>0</td>\n",
       "      <td>5accc98c0313204c9d7ec157</td>\n",
       "    </tr>\n",
       "    <tr>\n",
       "      <th>1</th>\n",
       "      <td>Quick, cheap lunch that tastes good! Way shorter line than Chipotle, too.</td>\n",
       "      <td>2</td>\n",
       "      <td>0</td>\n",
       "      <td>5acbec70a0215b732e264fe8</td>\n",
       "    </tr>\n",
       "    <tr>\n",
       "      <th>2</th>\n",
       "      <td>You’re not a real New Yorker until you’ve shame-ordered Insomnia Cookies for delivery at 3am</td>\n",
       "      <td>1</td>\n",
       "      <td>0</td>\n",
       "      <td>5acbbd4eb1538e45373b07f5</td>\n",
       "    </tr>\n",
       "    <tr>\n",
       "      <th>3</th>\n",
       "      <td>Good for you yet still tasty! Clean green protein is my go-to after I hit the gym 💪</td>\n",
       "      <td>2</td>\n",
       "      <td>0</td>\n",
       "      <td>5acbbcda01235808d5d6dc75</td>\n",
       "    </tr>\n",
       "    <tr>\n",
       "      <th>4</th>\n",
       "      <td>Burger game strong 💪</td>\n",
       "      <td>1</td>\n",
       "      <td>0</td>\n",
       "      <td>5ab575fb6bdee65f759da8c1</td>\n",
       "    </tr>\n",
       "    <tr>\n",
       "      <th>5</th>\n",
       "      <td>Great burgers &amp; fries! Also, this place is exactly what it’s like when you go to a bar in the Southwest. Source: I’m from Arizona.</td>\n",
       "      <td>2</td>\n",
       "      <td>0</td>\n",
       "      <td>5ab5575d73fe2516ad8f363b</td>\n",
       "    </tr>\n",
       "    <tr>\n",
       "      <th>6</th>\n",
       "      <td>Açaí bowl + peanut butter + whey protein = 💪💪💪</td>\n",
       "      <td>1</td>\n",
       "      <td>0</td>\n",
       "      <td>5ab42db53c858d64af2688a4</td>\n",
       "    </tr>\n",
       "    <tr>\n",
       "      <th>7</th>\n",
       "      <td>Highly underrated and way less crowded than Central Park!</td>\n",
       "      <td>3</td>\n",
       "      <td>0</td>\n",
       "      <td>5ab42c396f706a29f53ad1a8</td>\n",
       "    </tr>\n",
       "    <tr>\n",
       "      <th>8</th>\n",
       "      <td>Way easier to navigate than the Met proper, plus the Met Breuer focuses on modern art. If I only have a limited amount of time to spend in a museum, I would rather go here than anywhere else!</td>\n",
       "      <td>6</td>\n",
       "      <td>0</td>\n",
       "      <td>5ab42b987dc9e17930e5ff5b</td>\n",
       "    </tr>\n",
       "    <tr>\n",
       "      <th>9</th>\n",
       "      <td>Get the açaí bowl with peanut butter after your work out and thank me later 👌</td>\n",
       "      <td>1</td>\n",
       "      <td>0</td>\n",
       "      <td>5ab42aca2a7ab6333652b266</td>\n",
       "    </tr>\n",
       "    <tr>\n",
       "      <th>10</th>\n",
       "      <td>When you want a burger, this should be the first thing that comes to mind. A+!</td>\n",
       "      <td>1</td>\n",
       "      <td>0</td>\n",
       "      <td>5ab42a28da5e5617d18e3a6a</td>\n",
       "    </tr>\n",
       "    <tr>\n",
       "      <th>11</th>\n",
       "      <td>Way less crowded than Central Park! People who live in the neighborhood rave about Carl Schurz Park.</td>\n",
       "      <td>3</td>\n",
       "      <td>0</td>\n",
       "      <td>5ab429db1ffe971b060083f5</td>\n",
       "    </tr>\n",
       "    <tr>\n",
       "      <th>12</th>\n",
       "      <td>The best Mexican food in the Murray Hill / Kips Bay area!</td>\n",
       "      <td>1</td>\n",
       "      <td>0</td>\n",
       "      <td>5ab3f53f8496ca57542d5549</td>\n",
       "    </tr>\n",
       "    <tr>\n",
       "      <th>13</th>\n",
       "      <td>Best coffee shop in the neighborhood!</td>\n",
       "      <td>1</td>\n",
       "      <td>0</td>\n",
       "      <td>5ab3f428da5e5617d17d1475</td>\n",
       "    </tr>\n",
       "    <tr>\n",
       "      <th>14</th>\n",
       "      <td>When there’s nice weather, the rooftop at Tonic East is the best place to watch the game. Perfect for March Madness &amp; NBA finals!</td>\n",
       "      <td>2</td>\n",
       "      <td>0</td>\n",
       "      <td>5ab3f3fedd70c572de886c9d</td>\n",
       "    </tr>\n",
       "  </tbody>\n",
       "</table>\n",
       "</div>"
      ],
      "text/plain": [
       "                                                                                                                                                                                               text  \\\n",
       "0   They serve coffee!!!!!!                                                                                                                                                                           \n",
       "1   Quick, cheap lunch that tastes good! Way shorter line than Chipotle, too.                                                                                                                         \n",
       "2   You’re not a real New Yorker until you’ve shame-ordered Insomnia Cookies for delivery at 3am                                                                                                      \n",
       "3   Good for you yet still tasty! Clean green protein is my go-to after I hit the gym 💪                                                                                                               \n",
       "4   Burger game strong 💪                                                                                                                                                                              \n",
       "5   Great burgers & fries! Also, this place is exactly what it’s like when you go to a bar in the Southwest. Source: I’m from Arizona.                                                                \n",
       "6   Açaí bowl + peanut butter + whey protein = 💪💪💪                                                                                                                                                    \n",
       "7   Highly underrated and way less crowded than Central Park!                                                                                                                                         \n",
       "8   Way easier to navigate than the Met proper, plus the Met Breuer focuses on modern art. If I only have a limited amount of time to spend in a museum, I would rather go here than anywhere else!   \n",
       "9   Get the açaí bowl with peanut butter after your work out and thank me later 👌                                                                                                                     \n",
       "10  When you want a burger, this should be the first thing that comes to mind. A+!                                                                                                                    \n",
       "11  Way less crowded than Central Park! People who live in the neighborhood rave about Carl Schurz Park.                                                                                              \n",
       "12  The best Mexican food in the Murray Hill / Kips Bay area!                                                                                                                                         \n",
       "13  Best coffee shop in the neighborhood!                                                                                                                                                             \n",
       "14  When there’s nice weather, the rooftop at Tonic East is the best place to watch the game. Perfect for March Madness & NBA finals!                                                                 \n",
       "\n",
       "    agreeCount  disagreeCount                        id  \n",
       "0   1           0              5accc98c0313204c9d7ec157  \n",
       "1   2           0              5acbec70a0215b732e264fe8  \n",
       "2   1           0              5acbbd4eb1538e45373b07f5  \n",
       "3   2           0              5acbbcda01235808d5d6dc75  \n",
       "4   1           0              5ab575fb6bdee65f759da8c1  \n",
       "5   2           0              5ab5575d73fe2516ad8f363b  \n",
       "6   1           0              5ab42db53c858d64af2688a4  \n",
       "7   3           0              5ab42c396f706a29f53ad1a8  \n",
       "8   6           0              5ab42b987dc9e17930e5ff5b  \n",
       "9   1           0              5ab42aca2a7ab6333652b266  \n",
       "10  1           0              5ab42a28da5e5617d18e3a6a  \n",
       "11  3           0              5ab429db1ffe971b060083f5  \n",
       "12  1           0              5ab3f53f8496ca57542d5549  \n",
       "13  1           0              5ab3f428da5e5617d17d1475  \n",
       "14  2           0              5ab3f3fedd70c572de886c9d  "
      ]
     },
     "execution_count": 30,
     "metadata": {},
     "output_type": "execute_result"
    }
   ],
   "source": [
    "# define tips URL\n",
    "url = 'https://api.foursquare.com/v2/users/{}/tips?client_id={}&client_secret={}&v={}&limit={}'.format(user_id, CLIENT_ID, CLIENT_SECRET, VERSION, limit)\n",
    "\n",
    "# send GET request and get user's tips\n",
    "results = requests.get(url).json()\n",
    "tips = results['response']['tips']['items']\n",
    "\n",
    "# format column width\n",
    "pd.set_option('display.max_colwidth', -1)\n",
    "\n",
    "tips_df = json_normalize(tips)\n",
    "\n",
    "# filter columns\n",
    "filtered_columns = ['text', 'agreeCount', 'disagreeCount', 'id']\n",
    "tips_filtered = tips_df.loc[:, filtered_columns]\n",
    "\n",
    "# display user's tips\n",
    "tips_filtered"
   ]
  },
  {
   "cell_type": "markdown",
   "metadata": {
    "button": false,
    "deletable": true,
    "new_sheet": false,
    "run_control": {
     "read_only": false
    }
   },
   "source": [
    "#### Let's get the venue for the tip with the greatest number of agree counts"
   ]
  },
  {
   "cell_type": "code",
   "execution_count": 31,
   "metadata": {
    "button": false,
    "collapsed": false,
    "deletable": true,
    "jupyter": {
     "outputs_hidden": false
    },
    "new_sheet": false,
    "run_control": {
     "read_only": false
    }
   },
   "outputs": [
    {
     "name": "stdout",
     "output_type": "stream",
     "text": [
      "Cowgirl\n",
      "{'address': '519 Hudson St', 'crossStreet': 'at W 10th St', 'lat': 40.73373338282062, 'lng': -74.0062998849649, 'labeledLatLngs': [{'label': 'display', 'lat': 40.73373338282062, 'lng': -74.0062998849649}], 'postalCode': '10014', 'cc': 'US', 'city': 'New York', 'state': 'NY', 'country': 'United States', 'formattedAddress': ['519 Hudson St (at W 10th St)', 'New York, NY 10014', 'United States']}\n"
     ]
    }
   ],
   "source": [
    "tip_id = '5ab5575d73fe2516ad8f363b' # tip id\n",
    "\n",
    "# define URL\n",
    "url = 'http://api.foursquare.com/v2/tips/{}?client_id={}&client_secret={}&v={}'.format(tip_id, CLIENT_ID, CLIENT_SECRET, VERSION)\n",
    "\n",
    "# send GET Request and examine results\n",
    "result = requests.get(url).json()\n",
    "print(result['response']['tip']['venue']['name'])\n",
    "print(result['response']['tip']['venue']['location'])"
   ]
  },
  {
   "cell_type": "markdown",
   "metadata": {
    "button": false,
    "deletable": true,
    "new_sheet": false,
    "run_control": {
     "read_only": false
    }
   },
   "source": [
    "### Get User's friends"
   ]
  },
  {
   "cell_type": "code",
   "execution_count": 32,
   "metadata": {
    "button": false,
    "collapsed": false,
    "deletable": true,
    "jupyter": {
     "outputs_hidden": false
    },
    "new_sheet": false,
    "run_control": {
     "read_only": false
    }
   },
   "outputs": [
    {
     "name": "stderr",
     "output_type": "stream",
     "text": [
      "/home/jupyterlab/conda/envs/python/lib/python3.6/site-packages/ipykernel_launcher.py:1: FutureWarning: pandas.io.json.json_normalize is deprecated, use pandas.json_normalize instead\n",
      "  \"\"\"Entry point for launching an IPython kernel.\n"
     ]
    },
    {
     "data": {
      "text/html": [
       "<div>\n",
       "<style scoped>\n",
       "    .dataframe tbody tr th:only-of-type {\n",
       "        vertical-align: middle;\n",
       "    }\n",
       "\n",
       "    .dataframe tbody tr th {\n",
       "        vertical-align: top;\n",
       "    }\n",
       "\n",
       "    .dataframe thead th {\n",
       "        text-align: right;\n",
       "    }\n",
       "</style>\n",
       "<table border=\"1\" class=\"dataframe\">\n",
       "  <thead>\n",
       "    <tr style=\"text-align: right;\">\n",
       "      <th></th>\n",
       "    </tr>\n",
       "  </thead>\n",
       "  <tbody>\n",
       "  </tbody>\n",
       "</table>\n",
       "</div>"
      ],
      "text/plain": [
       "Empty DataFrame\n",
       "Columns: []\n",
       "Index: []"
      ]
     },
     "execution_count": 32,
     "metadata": {},
     "output_type": "execute_result"
    }
   ],
   "source": [
    "user_friends = json_normalize(user_data['friends']['groups'][0]['items'])\n",
    "user_friends"
   ]
  },
  {
   "cell_type": "markdown",
   "metadata": {
    "button": false,
    "deletable": true,
    "new_sheet": false,
    "run_control": {
     "read_only": false
    }
   },
   "source": [
    "Interesting. Despite being very active, it turns out that Nick does not have any friends on Foursquare. This might definitely change in the future."
   ]
  },
  {
   "cell_type": "markdown",
   "metadata": {
    "button": false,
    "deletable": true,
    "new_sheet": false,
    "run_control": {
     "read_only": false
    }
   },
   "source": [
    "### Retrieve the User's Profile Image"
   ]
  },
  {
   "cell_type": "code",
   "execution_count": 33,
   "metadata": {
    "button": false,
    "collapsed": false,
    "deletable": true,
    "jupyter": {
     "outputs_hidden": false
    },
    "new_sheet": false,
    "run_control": {
     "read_only": false
    },
    "scrolled": true
   },
   "outputs": [
    {
     "data": {
      "text/plain": [
       "{'id': '484542633',\n",
       " 'firstName': 'Nick',\n",
       " 'lastName': 'El-Tawil',\n",
       " 'gender': 'male',\n",
       " 'canonicalUrl': 'https://foursquare.com/user/484542633',\n",
       " 'photo': {'prefix': 'https://fastly.4sqi.net/img/user/',\n",
       "  'suffix': '/484542633_unymNUmw_FdPs3GjXHujmHcYnN4hf8kEPADlOZuIrdcdm97VX3tFqL7fFNMNA_8Gl9NlU1GYg.jpg'},\n",
       " 'friends': {'count': 0,\n",
       "  'groups': [{'type': 'friends',\n",
       "    'name': 'Mutual friends',\n",
       "    'count': 0,\n",
       "    'items': []},\n",
       "   {'type': 'others', 'name': 'Other friends', 'count': 0, 'items': []}]},\n",
       " 'tips': {'count': 98},\n",
       " 'homeCity': 'New York, NY',\n",
       " 'bio': 'https://www.tawil.team/nick-el-tawil/',\n",
       " 'contact': {'twitter': 'nickeltawil'},\n",
       " 'photos': {'count': 2,\n",
       "  'items': [{'id': '5e41a7ce346b7c00085b0f70',\n",
       "    'createdAt': 1581361102,\n",
       "    'source': {'name': 'Foursquare for iOS',\n",
       "     'url': 'https://foursquare.com/download/#/iphone'},\n",
       "    'prefix': 'https://fastly.4sqi.net/img/general/',\n",
       "    'suffix': '/484542633_cF12vc8JQJTd-hyznst-CsHHTdSoi4XwCGKhTuQXNfo.jpg',\n",
       "    'width': 1440,\n",
       "    'height': 1440,\n",
       "    'visibility': 'public',\n",
       "    'venue': {'id': '5ab194451ffed736e329b365',\n",
       "     'name': 'Tawil & Team',\n",
       "     'location': {'address': '413 W 14th St # 200',\n",
       "      'crossStreet': '9th Avenue',\n",
       "      'lat': 40.739614,\n",
       "      'lng': -74.005877,\n",
       "      'labeledLatLngs': [{'label': 'display',\n",
       "        'lat': 40.739614,\n",
       "        'lng': -74.005877}],\n",
       "      'postalCode': '10014',\n",
       "      'cc': 'US',\n",
       "      'city': 'New York',\n",
       "      'state': 'NY',\n",
       "      'country': 'United States',\n",
       "      'formattedAddress': ['413 W 14th St # 200 (9th Avenue)',\n",
       "       'New York, NY 10014',\n",
       "       'United States']},\n",
       "     'categories': [{'id': '5032885091d4c4b30a586d66',\n",
       "       'name': 'Real Estate Office',\n",
       "       'pluralName': 'Real Estate Offices',\n",
       "       'shortName': 'Real Estate',\n",
       "       'icon': {'prefix': 'https://ss3.4sqi.net/img/categories_v2/shops/realestate_',\n",
       "        'suffix': '.png'},\n",
       "       'primary': True}],\n",
       "     'like': False}}]},\n",
       " 'checkinPings': 'off',\n",
       " 'pings': False,\n",
       " 'type': 'user',\n",
       " 'mayorships': {'count': 0, 'items': []},\n",
       " 'checkins': {'count': 1, 'items': []},\n",
       " 'lists': {'count': 2,\n",
       "  'groups': [{'type': 'created', 'count': 0, 'items': []},\n",
       "   {'type': 'followed', 'count': 0, 'items': []},\n",
       "   {'type': 'yours',\n",
       "    'count': 2,\n",
       "    'items': [{'id': '484542633/todos',\n",
       "      'name': \"Nick's Saved Places\",\n",
       "      'description': '',\n",
       "      'type': 'todos',\n",
       "      'editable': False,\n",
       "      'public': True,\n",
       "      'collaborative': False,\n",
       "      'url': '/nickeltawil/list/todos',\n",
       "      'canonicalUrl': 'https://foursquare.com/nickeltawil/list/todos',\n",
       "      'listItems': {'count': 1}},\n",
       "     {'id': '484542633/venuelikes',\n",
       "      'name': 'Nick’s Liked Places',\n",
       "      'description': '',\n",
       "      'type': 'likes',\n",
       "      'editable': False,\n",
       "      'public': True,\n",
       "      'collaborative': False,\n",
       "      'url': '/nickeltawil/list/venuelikes',\n",
       "      'canonicalUrl': 'https://foursquare.com/nickeltawil/list/venuelikes',\n",
       "      'listItems': {'count': 0}}]}]},\n",
       " 'blockedStatus': 'none',\n",
       " 'lenses': []}"
      ]
     },
     "execution_count": 33,
     "metadata": {},
     "output_type": "execute_result"
    }
   ],
   "source": [
    "user_data"
   ]
  },
  {
   "cell_type": "code",
   "execution_count": 34,
   "metadata": {
    "button": false,
    "collapsed": false,
    "deletable": true,
    "jupyter": {
     "outputs_hidden": false
    },
    "new_sheet": false,
    "run_control": {
     "read_only": false
    }
   },
   "outputs": [
    {
     "data": {
      "text/html": [
       "<img src=\"https://igx.4sqi.net/img/user/300x300/484542633_mK2Yum7T_7Tn9fWpndidJsmw2Hof_6T5vJBKCHPLMK5OL-U5ZiJGj51iwBstcpDLYa3Zvhvis.jpg\"/>"
      ],
      "text/plain": [
       "<IPython.core.display.Image object>"
      ]
     },
     "execution_count": 34,
     "metadata": {},
     "output_type": "execute_result"
    }
   ],
   "source": [
    "# 1. grab prefix of photo\n",
    "# 2. grab suffix of photo\n",
    "# 3. concatenate them using the image size  \n",
    "Image(url='https://igx.4sqi.net/img/user/300x300/484542633_mK2Yum7T_7Tn9fWpndidJsmw2Hof_6T5vJBKCHPLMK5OL-U5ZiJGj51iwBstcpDLYa3Zvhvis.jpg')"
   ]
  },
  {
   "cell_type": "markdown",
   "metadata": {
    "button": false,
    "deletable": true,
    "new_sheet": false,
    "run_control": {
     "read_only": false
    }
   },
   "source": [
    "  "
   ]
  },
  {
   "cell_type": "markdown",
   "metadata": {
    "button": false,
    "deletable": true,
    "new_sheet": false,
    "run_control": {
     "read_only": false
    }
   },
   "source": [
    "<a id=\"item4\"></a>"
   ]
  },
  {
   "cell_type": "markdown",
   "metadata": {
    "button": false,
    "deletable": true,
    "new_sheet": false,
    "run_control": {
     "read_only": false
    }
   },
   "source": [
    "## 4. Explore a location\n",
    "> `https://api.foursquare.com/v2/venues/`**explore**`?client_id=`**CLIENT_ID**`&client_secret=`**CLIENT_SECRET**`&ll=`**LATITUDE**`,`**LONGITUDE**`&v=`**VERSION**`&limit=`**LIMIT**"
   ]
  },
  {
   "cell_type": "markdown",
   "metadata": {
    "button": false,
    "deletable": true,
    "new_sheet": false,
    "run_control": {
     "read_only": false
    }
   },
   "source": [
    "#### So, you just finished your gourmet dish at Ecco, and are just curious about the popular spots around the restaurant. In order to explore the area, let's start by getting the latitude and longitude values of Ecco Restaurant."
   ]
  },
  {
   "cell_type": "code",
   "execution_count": 35,
   "metadata": {
    "button": false,
    "deletable": true,
    "new_sheet": false,
    "run_control": {
     "read_only": false
    }
   },
   "outputs": [],
   "source": [
    "latitude = 40.715337\n",
    "longitude = -74.008848"
   ]
  },
  {
   "cell_type": "markdown",
   "metadata": {
    "button": false,
    "deletable": true,
    "new_sheet": false,
    "run_control": {
     "read_only": false
    }
   },
   "source": [
    "#### Define URL"
   ]
  },
  {
   "cell_type": "code",
   "execution_count": 36,
   "metadata": {
    "button": false,
    "collapsed": false,
    "deletable": true,
    "jupyter": {
     "outputs_hidden": false
    },
    "new_sheet": false,
    "run_control": {
     "read_only": false
    }
   },
   "outputs": [
    {
     "data": {
      "text/plain": [
       "'https://api.foursquare.com/v2/venues/explore?client_id=KZ21CPMWMFPR2MYXVTXNXRHCP2TO13OFQMO4ENDLEUNUJN3R&client_secret=JSPSC1NVSH45DROPRILYOM1SPJAUNIASWKMZZDXZKN1KWSMI&ll=40.715337,-74.008848&v=20180604&radius=500&limit=30'"
      ]
     },
     "execution_count": 36,
     "metadata": {},
     "output_type": "execute_result"
    }
   ],
   "source": [
    "url = 'https://api.foursquare.com/v2/venues/explore?client_id={}&client_secret={}&ll={},{}&v={}&radius={}&limit={}'.format(CLIENT_ID, CLIENT_SECRET, latitude, longitude, VERSION, radius, LIMIT)\n",
    "url"
   ]
  },
  {
   "cell_type": "markdown",
   "metadata": {
    "button": false,
    "deletable": true,
    "new_sheet": false,
    "run_control": {
     "read_only": false
    }
   },
   "source": [
    "#### Send GET request and examine results"
   ]
  },
  {
   "cell_type": "code",
   "execution_count": 37,
   "metadata": {
    "button": false,
    "deletable": true,
    "new_sheet": false,
    "run_control": {
     "read_only": false
    }
   },
   "outputs": [],
   "source": [
    "import requests"
   ]
  },
  {
   "cell_type": "code",
   "execution_count": 38,
   "metadata": {
    "button": false,
    "collapsed": false,
    "deletable": true,
    "jupyter": {
     "outputs_hidden": false
    },
    "new_sheet": false,
    "run_control": {
     "read_only": false
    }
   },
   "outputs": [
    {
     "data": {
      "text/plain": [
       "'There are 30 around Ecco restaurant.'"
      ]
     },
     "execution_count": 38,
     "metadata": {},
     "output_type": "execute_result"
    }
   ],
   "source": [
    "results = requests.get(url).json()\n",
    "'There are {} around Ecco restaurant.'.format(len(results['response']['groups'][0]['items']))"
   ]
  },
  {
   "cell_type": "markdown",
   "metadata": {
    "button": false,
    "deletable": true,
    "new_sheet": false,
    "run_control": {
     "read_only": false
    }
   },
   "source": [
    "#### Get relevant part of JSON"
   ]
  },
  {
   "cell_type": "code",
   "execution_count": 39,
   "metadata": {
    "button": false,
    "collapsed": false,
    "deletable": true,
    "jupyter": {
     "outputs_hidden": false
    },
    "new_sheet": false,
    "run_control": {
     "read_only": false
    }
   },
   "outputs": [
    {
     "data": {
      "text/plain": [
       "{'reasons': {'count': 0,\n",
       "  'items': [{'summary': 'This spot is popular',\n",
       "    'type': 'general',\n",
       "    'reasonName': 'globalInteractionReason'}]},\n",
       " 'venue': {'id': '54148bc6498ea7bb8c05b70a',\n",
       "  'name': 'Juice Press',\n",
       "  'location': {'address': '83 Murray St',\n",
       "   'crossStreet': 'btwn Greenwich St & W Broadway',\n",
       "   'lat': 40.71478769908051,\n",
       "   'lng': -74.0111317502157,\n",
       "   'labeledLatLngs': [{'label': 'display',\n",
       "     'lat': 40.71478769908051,\n",
       "     'lng': -74.0111317502157}],\n",
       "   'distance': 202,\n",
       "   'postalCode': '10007',\n",
       "   'cc': 'US',\n",
       "   'city': 'New York',\n",
       "   'state': 'NY',\n",
       "   'country': 'United States',\n",
       "   'formattedAddress': ['83 Murray St (btwn Greenwich St & W Broadway)',\n",
       "    'New York, NY 10007',\n",
       "    'United States']},\n",
       "  'categories': [{'id': '4bf58dd8d48988d1d3941735',\n",
       "    'name': 'Vegetarian / Vegan Restaurant',\n",
       "    'pluralName': 'Vegetarian / Vegan Restaurants',\n",
       "    'shortName': 'Vegetarian / Vegan',\n",
       "    'icon': {'prefix': 'https://ss3.4sqi.net/img/categories_v2/food/vegetarian_',\n",
       "     'suffix': '.png'},\n",
       "    'primary': True}],\n",
       "  'photos': {'count': 0, 'groups': []}},\n",
       " 'referralId': 'e-0-54148bc6498ea7bb8c05b70a-0'}"
      ]
     },
     "execution_count": 39,
     "metadata": {},
     "output_type": "execute_result"
    }
   ],
   "source": [
    "items = results['response']['groups'][0]['items']\n",
    "items[0]"
   ]
  },
  {
   "cell_type": "markdown",
   "metadata": {
    "button": false,
    "deletable": true,
    "new_sheet": false,
    "run_control": {
     "read_only": false
    }
   },
   "source": [
    "#### Process JSON and convert it to a clean dataframe"
   ]
  },
  {
   "cell_type": "code",
   "execution_count": 41,
   "metadata": {
    "button": false,
    "collapsed": false,
    "deletable": true,
    "jupyter": {
     "outputs_hidden": false
    },
    "new_sheet": false,
    "run_control": {
     "read_only": false
    }
   },
   "outputs": [
    {
     "name": "stderr",
     "output_type": "stream",
     "text": [
      "/home/jupyterlab/conda/envs/python/lib/python3.6/site-packages/ipykernel_launcher.py:1: FutureWarning: pandas.io.json.json_normalize is deprecated, use pandas.json_normalize instead\n",
      "  \"\"\"Entry point for launching an IPython kernel.\n"
     ]
    },
    {
     "data": {
      "text/html": [
       "<div>\n",
       "<style scoped>\n",
       "    .dataframe tbody tr th:only-of-type {\n",
       "        vertical-align: middle;\n",
       "    }\n",
       "\n",
       "    .dataframe tbody tr th {\n",
       "        vertical-align: top;\n",
       "    }\n",
       "\n",
       "    .dataframe thead th {\n",
       "        text-align: right;\n",
       "    }\n",
       "</style>\n",
       "<table border=\"1\" class=\"dataframe\">\n",
       "  <thead>\n",
       "    <tr style=\"text-align: right;\">\n",
       "      <th></th>\n",
       "      <th>name</th>\n",
       "      <th>categories</th>\n",
       "      <th>address</th>\n",
       "      <th>crossStreet</th>\n",
       "      <th>lat</th>\n",
       "      <th>lng</th>\n",
       "      <th>labeledLatLngs</th>\n",
       "      <th>distance</th>\n",
       "      <th>postalCode</th>\n",
       "      <th>cc</th>\n",
       "      <th>city</th>\n",
       "      <th>state</th>\n",
       "      <th>country</th>\n",
       "      <th>formattedAddress</th>\n",
       "      <th>neighborhood</th>\n",
       "      <th>id</th>\n",
       "    </tr>\n",
       "  </thead>\n",
       "  <tbody>\n",
       "    <tr>\n",
       "      <th>0</th>\n",
       "      <td>Juice Press</td>\n",
       "      <td>Vegetarian / Vegan Restaurant</td>\n",
       "      <td>83 Murray St</td>\n",
       "      <td>btwn Greenwich St &amp; W Broadway</td>\n",
       "      <td>40.714788</td>\n",
       "      <td>-74.011132</td>\n",
       "      <td>[{'label': 'display', 'lat': 40.71478769908051, 'lng': -74.0111317502157}]</td>\n",
       "      <td>202</td>\n",
       "      <td>10007</td>\n",
       "      <td>US</td>\n",
       "      <td>New York</td>\n",
       "      <td>NY</td>\n",
       "      <td>United States</td>\n",
       "      <td>[83 Murray St (btwn Greenwich St &amp; W Broadway), New York, NY 10007, United States]</td>\n",
       "      <td>NaN</td>\n",
       "      <td>54148bc6498ea7bb8c05b70a</td>\n",
       "    </tr>\n",
       "    <tr>\n",
       "      <th>1</th>\n",
       "      <td>Korin</td>\n",
       "      <td>Furniture / Home Store</td>\n",
       "      <td>57 Warren St</td>\n",
       "      <td>Church St</td>\n",
       "      <td>40.714824</td>\n",
       "      <td>-74.009404</td>\n",
       "      <td>[{'label': 'display', 'lat': 40.71482437714839, 'lng': -74.00940425461492}, {'label': 'entrance', 'lat': 40.714727, 'lng': -74.009399}]</td>\n",
       "      <td>73</td>\n",
       "      <td>10007</td>\n",
       "      <td>US</td>\n",
       "      <td>New York</td>\n",
       "      <td>NY</td>\n",
       "      <td>United States</td>\n",
       "      <td>[57 Warren St (Church St), New York, NY 10007, United States]</td>\n",
       "      <td>Tribeca</td>\n",
       "      <td>4af5d65ff964a52091fd21e3</td>\n",
       "    </tr>\n",
       "    <tr>\n",
       "      <th>2</th>\n",
       "      <td>Los Tacos No. 1</td>\n",
       "      <td>Taco Place</td>\n",
       "      <td>136 Church St</td>\n",
       "      <td>NaN</td>\n",
       "      <td>40.714267</td>\n",
       "      <td>-74.008756</td>\n",
       "      <td>[{'label': 'display', 'lat': 40.714267, 'lng': -74.008756}]</td>\n",
       "      <td>119</td>\n",
       "      <td>10007</td>\n",
       "      <td>US</td>\n",
       "      <td>New York</td>\n",
       "      <td>NY</td>\n",
       "      <td>United States</td>\n",
       "      <td>[136 Church St, New York, NY 10007, United States]</td>\n",
       "      <td>NaN</td>\n",
       "      <td>5d5f24ec09484500079aee00</td>\n",
       "    </tr>\n",
       "    <tr>\n",
       "      <th>3</th>\n",
       "      <td>Takahachi Bakery</td>\n",
       "      <td>Bakery</td>\n",
       "      <td>25 Murray St</td>\n",
       "      <td>at Church St</td>\n",
       "      <td>40.713653</td>\n",
       "      <td>-74.008804</td>\n",
       "      <td>[{'label': 'display', 'lat': 40.713652845301894, 'lng': -74.0088038953017}, {'label': 'entrance', 'lat': 40.713716, 'lng': -74.008443}]</td>\n",
       "      <td>187</td>\n",
       "      <td>10007</td>\n",
       "      <td>US</td>\n",
       "      <td>New York</td>\n",
       "      <td>NY</td>\n",
       "      <td>United States</td>\n",
       "      <td>[25 Murray St (at Church St), New York, NY 10007, United States]</td>\n",
       "      <td>NaN</td>\n",
       "      <td>4c154c9a77cea593c401d260</td>\n",
       "    </tr>\n",
       "    <tr>\n",
       "      <th>4</th>\n",
       "      <td>Takahachi</td>\n",
       "      <td>Sushi Restaurant</td>\n",
       "      <td>145 Duane St</td>\n",
       "      <td>btwn W Broadway &amp; Church St</td>\n",
       "      <td>40.716526</td>\n",
       "      <td>-74.008101</td>\n",
       "      <td>[{'label': 'display', 'lat': 40.71652647412374, 'lng': -74.00810108466207}, {'label': 'entrance', 'lat': 40.716508, 'lng': -74.007989}]</td>\n",
       "      <td>146</td>\n",
       "      <td>10013</td>\n",
       "      <td>US</td>\n",
       "      <td>New York</td>\n",
       "      <td>NY</td>\n",
       "      <td>United States</td>\n",
       "      <td>[145 Duane St (btwn W Broadway &amp; Church St), New York, NY 10013, United States]</td>\n",
       "      <td>NaN</td>\n",
       "      <td>4a8f2f39f964a520471420e3</td>\n",
       "    </tr>\n",
       "    <tr>\n",
       "      <th>5</th>\n",
       "      <td>Equinox Tribeca</td>\n",
       "      <td>Gym</td>\n",
       "      <td>54 Murray St</td>\n",
       "      <td>at W Broadway</td>\n",
       "      <td>40.714099</td>\n",
       "      <td>-74.009686</td>\n",
       "      <td>[{'label': 'display', 'lat': 40.71409860726041, 'lng': -74.0096857179283}]</td>\n",
       "      <td>154</td>\n",
       "      <td>10007</td>\n",
       "      <td>US</td>\n",
       "      <td>New York</td>\n",
       "      <td>NY</td>\n",
       "      <td>United States</td>\n",
       "      <td>[54 Murray St (at W Broadway), New York, NY 10007, United States]</td>\n",
       "      <td>NaN</td>\n",
       "      <td>4a6e331af964a52031d41fe3</td>\n",
       "    </tr>\n",
       "    <tr>\n",
       "      <th>6</th>\n",
       "      <td>Whole Foods Market</td>\n",
       "      <td>Grocery Store</td>\n",
       "      <td>270 Greenwich Street</td>\n",
       "      <td>at Warren St</td>\n",
       "      <td>40.715579</td>\n",
       "      <td>-74.011368</td>\n",
       "      <td>[{'label': 'display', 'lat': 40.715579155420606, 'lng': -74.01136823958119}]</td>\n",
       "      <td>214</td>\n",
       "      <td>10007</td>\n",
       "      <td>US</td>\n",
       "      <td>New York</td>\n",
       "      <td>NY</td>\n",
       "      <td>United States</td>\n",
       "      <td>[270 Greenwich Street (at Warren St), New York, NY 10007, United States]</td>\n",
       "      <td>Tribeca</td>\n",
       "      <td>49bc3b0af964a52020541fe3</td>\n",
       "    </tr>\n",
       "    <tr>\n",
       "      <th>7</th>\n",
       "      <td>Heyday</td>\n",
       "      <td>Spa</td>\n",
       "      <td>92 Reade St</td>\n",
       "      <td>NaN</td>\n",
       "      <td>40.715726</td>\n",
       "      <td>-74.007767</td>\n",
       "      <td>[{'label': 'display', 'lat': 40.715726, 'lng': -74.007767}, {'label': 'entrance', 'lat': 40.715654, 'lng': -74.00782}]</td>\n",
       "      <td>100</td>\n",
       "      <td>10013</td>\n",
       "      <td>US</td>\n",
       "      <td>New York</td>\n",
       "      <td>NY</td>\n",
       "      <td>United States</td>\n",
       "      <td>[92 Reade St, New York, NY 10013, United States]</td>\n",
       "      <td>NaN</td>\n",
       "      <td>57ad129c498e05b086594d72</td>\n",
       "    </tr>\n",
       "    <tr>\n",
       "      <th>8</th>\n",
       "      <td>Chambers Street Wines</td>\n",
       "      <td>Wine Shop</td>\n",
       "      <td>148 Chambers St</td>\n",
       "      <td>btwn West Broadway &amp; Hudson St</td>\n",
       "      <td>40.715773</td>\n",
       "      <td>-74.009718</td>\n",
       "      <td>[{'label': 'display', 'lat': 40.715773063928374, 'lng': -74.00971823312332}, {'label': 'entrance', 'lat': 40.715696, 'lng': -74.00988}]</td>\n",
       "      <td>88</td>\n",
       "      <td>10007</td>\n",
       "      <td>US</td>\n",
       "      <td>New York</td>\n",
       "      <td>NY</td>\n",
       "      <td>United States</td>\n",
       "      <td>[148 Chambers St (btwn West Broadway &amp; Hudson St), New York, NY 10007, United States]</td>\n",
       "      <td>NaN</td>\n",
       "      <td>4adcf23cf964a520cc6221e3</td>\n",
       "    </tr>\n",
       "    <tr>\n",
       "      <th>9</th>\n",
       "      <td>Mulberry &amp; Vine</td>\n",
       "      <td>Café</td>\n",
       "      <td>73 Warren St</td>\n",
       "      <td>B/t West Broadway &amp; Greenwich</td>\n",
       "      <td>40.715177</td>\n",
       "      <td>-74.010227</td>\n",
       "      <td>[{'label': 'display', 'lat': 40.71517693966315, 'lng': -74.01022747778285}, {'label': 'entrance', 'lat': 40.715064, 'lng': -74.010146}]</td>\n",
       "      <td>117</td>\n",
       "      <td>10007</td>\n",
       "      <td>US</td>\n",
       "      <td>New York</td>\n",
       "      <td>NY</td>\n",
       "      <td>United States</td>\n",
       "      <td>[73 Warren St (B/t West Broadway &amp; Greenwich), New York, NY 10007, United States]</td>\n",
       "      <td>NaN</td>\n",
       "      <td>5171b5cc011cef9833bbb787</td>\n",
       "    </tr>\n",
       "  </tbody>\n",
       "</table>\n",
       "</div>"
      ],
      "text/plain": [
       "                    name                     categories               address  \\\n",
       "0  Juice Press            Vegetarian / Vegan Restaurant  83 Murray St           \n",
       "1  Korin                  Furniture / Home Store         57 Warren St           \n",
       "2  Los Tacos No. 1        Taco Place                     136 Church St          \n",
       "3  Takahachi Bakery       Bakery                         25 Murray St           \n",
       "4  Takahachi              Sushi Restaurant               145 Duane St           \n",
       "5  Equinox Tribeca        Gym                            54 Murray St           \n",
       "6  Whole Foods Market     Grocery Store                  270 Greenwich Street   \n",
       "7  Heyday                 Spa                            92 Reade St            \n",
       "8  Chambers Street Wines  Wine Shop                      148 Chambers St        \n",
       "9  Mulberry & Vine        Café                           73 Warren St           \n",
       "\n",
       "                      crossStreet        lat        lng  \\\n",
       "0  btwn Greenwich St & W Broadway  40.714788 -74.011132   \n",
       "1  Church St                       40.714824 -74.009404   \n",
       "2  NaN                             40.714267 -74.008756   \n",
       "3  at Church St                    40.713653 -74.008804   \n",
       "4  btwn W Broadway & Church St     40.716526 -74.008101   \n",
       "5  at W Broadway                   40.714099 -74.009686   \n",
       "6  at Warren St                    40.715579 -74.011368   \n",
       "7  NaN                             40.715726 -74.007767   \n",
       "8  btwn West Broadway & Hudson St  40.715773 -74.009718   \n",
       "9  B/t West Broadway & Greenwich   40.715177 -74.010227   \n",
       "\n",
       "                                                                                                                            labeledLatLngs  \\\n",
       "0  [{'label': 'display', 'lat': 40.71478769908051, 'lng': -74.0111317502157}]                                                                \n",
       "1  [{'label': 'display', 'lat': 40.71482437714839, 'lng': -74.00940425461492}, {'label': 'entrance', 'lat': 40.714727, 'lng': -74.009399}]   \n",
       "2  [{'label': 'display', 'lat': 40.714267, 'lng': -74.008756}]                                                                               \n",
       "3  [{'label': 'display', 'lat': 40.713652845301894, 'lng': -74.0088038953017}, {'label': 'entrance', 'lat': 40.713716, 'lng': -74.008443}]   \n",
       "4  [{'label': 'display', 'lat': 40.71652647412374, 'lng': -74.00810108466207}, {'label': 'entrance', 'lat': 40.716508, 'lng': -74.007989}]   \n",
       "5  [{'label': 'display', 'lat': 40.71409860726041, 'lng': -74.0096857179283}]                                                                \n",
       "6  [{'label': 'display', 'lat': 40.715579155420606, 'lng': -74.01136823958119}]                                                              \n",
       "7  [{'label': 'display', 'lat': 40.715726, 'lng': -74.007767}, {'label': 'entrance', 'lat': 40.715654, 'lng': -74.00782}]                    \n",
       "8  [{'label': 'display', 'lat': 40.715773063928374, 'lng': -74.00971823312332}, {'label': 'entrance', 'lat': 40.715696, 'lng': -74.00988}]   \n",
       "9  [{'label': 'display', 'lat': 40.71517693966315, 'lng': -74.01022747778285}, {'label': 'entrance', 'lat': 40.715064, 'lng': -74.010146}]   \n",
       "\n",
       "   distance postalCode  cc      city state        country  \\\n",
       "0  202       10007      US  New York  NY    United States   \n",
       "1  73        10007      US  New York  NY    United States   \n",
       "2  119       10007      US  New York  NY    United States   \n",
       "3  187       10007      US  New York  NY    United States   \n",
       "4  146       10013      US  New York  NY    United States   \n",
       "5  154       10007      US  New York  NY    United States   \n",
       "6  214       10007      US  New York  NY    United States   \n",
       "7  100       10013      US  New York  NY    United States   \n",
       "8  88        10007      US  New York  NY    United States   \n",
       "9  117       10007      US  New York  NY    United States   \n",
       "\n",
       "                                                                        formattedAddress  \\\n",
       "0  [83 Murray St (btwn Greenwich St & W Broadway), New York, NY 10007, United States]      \n",
       "1  [57 Warren St (Church St), New York, NY 10007, United States]                           \n",
       "2  [136 Church St, New York, NY 10007, United States]                                      \n",
       "3  [25 Murray St (at Church St), New York, NY 10007, United States]                        \n",
       "4  [145 Duane St (btwn W Broadway & Church St), New York, NY 10013, United States]         \n",
       "5  [54 Murray St (at W Broadway), New York, NY 10007, United States]                       \n",
       "6  [270 Greenwich Street (at Warren St), New York, NY 10007, United States]                \n",
       "7  [92 Reade St, New York, NY 10013, United States]                                        \n",
       "8  [148 Chambers St (btwn West Broadway & Hudson St), New York, NY 10007, United States]   \n",
       "9  [73 Warren St (B/t West Broadway & Greenwich), New York, NY 10007, United States]       \n",
       "\n",
       "  neighborhood                        id  \n",
       "0  NaN          54148bc6498ea7bb8c05b70a  \n",
       "1  Tribeca      4af5d65ff964a52091fd21e3  \n",
       "2  NaN          5d5f24ec09484500079aee00  \n",
       "3  NaN          4c154c9a77cea593c401d260  \n",
       "4  NaN          4a8f2f39f964a520471420e3  \n",
       "5  NaN          4a6e331af964a52031d41fe3  \n",
       "6  Tribeca      49bc3b0af964a52020541fe3  \n",
       "7  NaN          57ad129c498e05b086594d72  \n",
       "8  NaN          4adcf23cf964a520cc6221e3  \n",
       "9  NaN          5171b5cc011cef9833bbb787  "
      ]
     },
     "execution_count": 41,
     "metadata": {},
     "output_type": "execute_result"
    }
   ],
   "source": [
    "dataframe = json_normalize(items) # flatten JSON\n",
    "\n",
    "# filter columns\n",
    "filtered_columns = ['venue.name', 'venue.categories'] + [col for col in dataframe.columns if col.startswith('venue.location.')] + ['venue.id']\n",
    "dataframe_filtered = dataframe.loc[:, filtered_columns]\n",
    "\n",
    "# filter the category for each row\n",
    "dataframe_filtered['venue.categories'] = dataframe_filtered.apply(get_category_type, axis=1)\n",
    "\n",
    "# clean columns\n",
    "dataframe_filtered.columns = [col.split('.')[-1] for col in dataframe_filtered.columns]\n",
    "\n",
    "dataframe_filtered.head(10)"
   ]
  },
  {
   "cell_type": "markdown",
   "metadata": {
    "button": false,
    "deletable": true,
    "new_sheet": false,
    "run_control": {
     "read_only": false
    }
   },
   "source": [
    "#### Let's visualize these items on the map around our location"
   ]
  },
  {
   "cell_type": "code",
   "execution_count": 42,
   "metadata": {
    "button": false,
    "collapsed": false,
    "deletable": true,
    "jupyter": {
     "outputs_hidden": false
    },
    "new_sheet": false,
    "run_control": {
     "read_only": false
    }
   },
   "outputs": [
    {
     "data": {
      "text/html": [
       "<div style=\"width:100%;\"><div style=\"position:relative;width:100%;height:0;padding-bottom:60%;\"><span style=\"color:#565656\">Make this Notebook Trusted to load map: File -> Trust Notebook</span><iframe src=\"about:blank\" style=\"position:absolute;width:100%;height:100%;left:0;top:0;border:none !important;\" data-html=PCFET0NUWVBFIGh0bWw+CjxoZWFkPiAgICAKICAgIDxtZXRhIGh0dHAtZXF1aXY9ImNvbnRlbnQtdHlwZSIgY29udGVudD0idGV4dC9odG1sOyBjaGFyc2V0PVVURi04IiAvPgogICAgPHNjcmlwdD5MX1BSRUZFUl9DQU5WQVMgPSBmYWxzZTsgTF9OT19UT1VDSCA9IGZhbHNlOyBMX0RJU0FCTEVfM0QgPSBmYWxzZTs8L3NjcmlwdD4KICAgIDxzY3JpcHQgc3JjPSJodHRwczovL2Nkbi5qc2RlbGl2ci5uZXQvbnBtL2xlYWZsZXRAMS4yLjAvZGlzdC9sZWFmbGV0LmpzIj48L3NjcmlwdD4KICAgIDxzY3JpcHQgc3JjPSJodHRwczovL2FqYXguZ29vZ2xlYXBpcy5jb20vYWpheC9saWJzL2pxdWVyeS8xLjExLjEvanF1ZXJ5Lm1pbi5qcyI+PC9zY3JpcHQ+CiAgICA8c2NyaXB0IHNyYz0iaHR0cHM6Ly9tYXhjZG4uYm9vdHN0cmFwY2RuLmNvbS9ib290c3RyYXAvMy4yLjAvanMvYm9vdHN0cmFwLm1pbi5qcyI+PC9zY3JpcHQ+CiAgICA8c2NyaXB0IHNyYz0iaHR0cHM6Ly9jZG5qcy5jbG91ZGZsYXJlLmNvbS9hamF4L2xpYnMvTGVhZmxldC5hd2Vzb21lLW1hcmtlcnMvMi4wLjIvbGVhZmxldC5hd2Vzb21lLW1hcmtlcnMuanMiPjwvc2NyaXB0PgogICAgPGxpbmsgcmVsPSJzdHlsZXNoZWV0IiBocmVmPSJodHRwczovL2Nkbi5qc2RlbGl2ci5uZXQvbnBtL2xlYWZsZXRAMS4yLjAvZGlzdC9sZWFmbGV0LmNzcyIvPgogICAgPGxpbmsgcmVsPSJzdHlsZXNoZWV0IiBocmVmPSJodHRwczovL21heGNkbi5ib290c3RyYXBjZG4uY29tL2Jvb3RzdHJhcC8zLjIuMC9jc3MvYm9vdHN0cmFwLm1pbi5jc3MiLz4KICAgIDxsaW5rIHJlbD0ic3R5bGVzaGVldCIgaHJlZj0iaHR0cHM6Ly9tYXhjZG4uYm9vdHN0cmFwY2RuLmNvbS9ib290c3RyYXAvMy4yLjAvY3NzL2Jvb3RzdHJhcC10aGVtZS5taW4uY3NzIi8+CiAgICA8bGluayByZWw9InN0eWxlc2hlZXQiIGhyZWY9Imh0dHBzOi8vbWF4Y2RuLmJvb3RzdHJhcGNkbi5jb20vZm9udC1hd2Vzb21lLzQuNi4zL2Nzcy9mb250LWF3ZXNvbWUubWluLmNzcyIvPgogICAgPGxpbmsgcmVsPSJzdHlsZXNoZWV0IiBocmVmPSJodHRwczovL2NkbmpzLmNsb3VkZmxhcmUuY29tL2FqYXgvbGlicy9MZWFmbGV0LmF3ZXNvbWUtbWFya2Vycy8yLjAuMi9sZWFmbGV0LmF3ZXNvbWUtbWFya2Vycy5jc3MiLz4KICAgIDxsaW5rIHJlbD0ic3R5bGVzaGVldCIgaHJlZj0iaHR0cHM6Ly9yYXdnaXQuY29tL3B5dGhvbi12aXN1YWxpemF0aW9uL2ZvbGl1bS9tYXN0ZXIvZm9saXVtL3RlbXBsYXRlcy9sZWFmbGV0LmF3ZXNvbWUucm90YXRlLmNzcyIvPgogICAgPHN0eWxlPmh0bWwsIGJvZHkge3dpZHRoOiAxMDAlO2hlaWdodDogMTAwJTttYXJnaW46IDA7cGFkZGluZzogMDt9PC9zdHlsZT4KICAgIDxzdHlsZT4jbWFwIHtwb3NpdGlvbjphYnNvbHV0ZTt0b3A6MDtib3R0b206MDtyaWdodDowO2xlZnQ6MDt9PC9zdHlsZT4KICAgIAogICAgICAgICAgICA8c3R5bGU+ICNtYXBfYzVjNDEzN2FjMTAwNDEwY2IzZTZlNzJkOTAxMTc3NDggewogICAgICAgICAgICAgICAgcG9zaXRpb24gOiByZWxhdGl2ZTsKICAgICAgICAgICAgICAgIHdpZHRoIDogMTAwLjAlOwogICAgICAgICAgICAgICAgaGVpZ2h0OiAxMDAuMCU7CiAgICAgICAgICAgICAgICBsZWZ0OiAwLjAlOwogICAgICAgICAgICAgICAgdG9wOiAwLjAlOwogICAgICAgICAgICAgICAgfQogICAgICAgICAgICA8L3N0eWxlPgogICAgICAgIAo8L2hlYWQ+Cjxib2R5PiAgICAKICAgIAogICAgICAgICAgICA8ZGl2IGNsYXNzPSJmb2xpdW0tbWFwIiBpZD0ibWFwX2M1YzQxMzdhYzEwMDQxMGNiM2U2ZTcyZDkwMTE3NzQ4IiA+PC9kaXY+CiAgICAgICAgCjwvYm9keT4KPHNjcmlwdD4gICAgCiAgICAKCiAgICAgICAgICAgIAogICAgICAgICAgICAgICAgdmFyIGJvdW5kcyA9IG51bGw7CiAgICAgICAgICAgIAoKICAgICAgICAgICAgdmFyIG1hcF9jNWM0MTM3YWMxMDA0MTBjYjNlNmU3MmQ5MDExNzc0OCA9IEwubWFwKAogICAgICAgICAgICAgICAgICAgICAgICAgICAgICAgICAgJ21hcF9jNWM0MTM3YWMxMDA0MTBjYjNlNmU3MmQ5MDExNzc0OCcsCiAgICAgICAgICAgICAgICAgICAgICAgICAgICAgICAgICB7Y2VudGVyOiBbNDAuNzE1MzM3LC03NC4wMDg4NDhdLAogICAgICAgICAgICAgICAgICAgICAgICAgICAgICAgICAgem9vbTogMTUsCiAgICAgICAgICAgICAgICAgICAgICAgICAgICAgICAgICBtYXhCb3VuZHM6IGJvdW5kcywKICAgICAgICAgICAgICAgICAgICAgICAgICAgICAgICAgIGxheWVyczogW10sCiAgICAgICAgICAgICAgICAgICAgICAgICAgICAgICAgICB3b3JsZENvcHlKdW1wOiBmYWxzZSwKICAgICAgICAgICAgICAgICAgICAgICAgICAgICAgICAgIGNyczogTC5DUlMuRVBTRzM4NTcKICAgICAgICAgICAgICAgICAgICAgICAgICAgICAgICAgfSk7CiAgICAgICAgICAgIAogICAgICAgIAogICAgCiAgICAgICAgICAgIHZhciB0aWxlX2xheWVyXzExZDM2MjRhNDUzZTRkNTY5OTdjYjBmNmQwOWY2NDA1ID0gTC50aWxlTGF5ZXIoCiAgICAgICAgICAgICAgICAnaHR0cHM6Ly97c30udGlsZS5vcGVuc3RyZWV0bWFwLm9yZy97en0ve3h9L3t5fS5wbmcnLAogICAgICAgICAgICAgICAgewogICJhdHRyaWJ1dGlvbiI6IG51bGwsCiAgImRldGVjdFJldGluYSI6IGZhbHNlLAogICJtYXhab29tIjogMTgsCiAgIm1pblpvb20iOiAxLAogICJub1dyYXAiOiBmYWxzZSwKICAic3ViZG9tYWlucyI6ICJhYmMiCn0KICAgICAgICAgICAgICAgICkuYWRkVG8obWFwX2M1YzQxMzdhYzEwMDQxMGNiM2U2ZTcyZDkwMTE3NzQ4KTsKICAgICAgICAKICAgIAogICAgICAgICAgICB2YXIgY2lyY2xlX21hcmtlcl8yMjA3ZjA3OWVmMDg0ZjI4ODM3OWVjNzM5OTkxYWViOCA9IEwuY2lyY2xlTWFya2VyKAogICAgICAgICAgICAgICAgWzQwLjcxNTMzNywtNzQuMDA4ODQ4XSwKICAgICAgICAgICAgICAgIHsKICAiYnViYmxpbmdNb3VzZUV2ZW50cyI6IHRydWUsCiAgImNvbG9yIjogInJlZCIsCiAgImRhc2hBcnJheSI6IG51bGwsCiAgImRhc2hPZmZzZXQiOiBudWxsLAogICJmaWxsIjogdHJ1ZSwKICAiZmlsbENvbG9yIjogInJlZCIsCiAgImZpbGxPcGFjaXR5IjogMC42LAogICJmaWxsUnVsZSI6ICJldmVub2RkIiwKICAibGluZUNhcCI6ICJyb3VuZCIsCiAgImxpbmVKb2luIjogInJvdW5kIiwKICAib3BhY2l0eSI6IDEuMCwKICAicmFkaXVzIjogMTAsCiAgInN0cm9rZSI6IHRydWUsCiAgIndlaWdodCI6IDMKfQogICAgICAgICAgICAgICAgKS5hZGRUbyhtYXBfYzVjNDEzN2FjMTAwNDEwY2IzZTZlNzJkOTAxMTc3NDgpOwogICAgICAgICAgICAKICAgIAogICAgICAgICAgICB2YXIgcG9wdXBfYjAwNzkzMGM2YjRiNDc1ODhhODgzYTY3YzhhZTAxNjEgPSBMLnBvcHVwKHttYXhXaWR0aDogJzMwMCd9KTsKCiAgICAgICAgICAgIAogICAgICAgICAgICAgICAgdmFyIGh0bWxfMzUwZjU0MDY4MTRjNDI2Yjk3MTVjODI3NjExOWM2ZDUgPSAkKCc8ZGl2IGlkPSJodG1sXzM1MGY1NDA2ODE0YzQyNmI5NzE1YzgyNzYxMTljNmQ1IiBzdHlsZT0id2lkdGg6IDEwMC4wJTsgaGVpZ2h0OiAxMDAuMCU7Ij5FY2NvPC9kaXY+JylbMF07CiAgICAgICAgICAgICAgICBwb3B1cF9iMDA3OTMwYzZiNGI0NzU4OGE4ODNhNjdjOGFlMDE2MS5zZXRDb250ZW50KGh0bWxfMzUwZjU0MDY4MTRjNDI2Yjk3MTVjODI3NjExOWM2ZDUpOwogICAgICAgICAgICAKCiAgICAgICAgICAgIGNpcmNsZV9tYXJrZXJfMjIwN2YwNzllZjA4NGYyODgzNzllYzczOTk5MWFlYjguYmluZFBvcHVwKHBvcHVwX2IwMDc5MzBjNmI0YjQ3NTg4YTg4M2E2N2M4YWUwMTYxKTsKCiAgICAgICAgICAgIAogICAgICAgIAogICAgCiAgICAgICAgICAgIHZhciBjaXJjbGVfbWFya2VyXzZiMDY1ZDZhYjk4MDQ5NzVhMzZjZjY0Yjg3MzUzMjVkID0gTC5jaXJjbGVNYXJrZXIoCiAgICAgICAgICAgICAgICBbNDAuNzE0Nzg3Njk5MDgwNTEsLTc0LjAxMTEzMTc1MDIxNTddLAogICAgICAgICAgICAgICAgewogICJidWJibGluZ01vdXNlRXZlbnRzIjogdHJ1ZSwKICAiY29sb3IiOiAiYmx1ZSIsCiAgImRhc2hBcnJheSI6IG51bGwsCiAgImRhc2hPZmZzZXQiOiBudWxsLAogICJmaWxsIjogdHJ1ZSwKICAiZmlsbENvbG9yIjogImJsdWUiLAogICJmaWxsT3BhY2l0eSI6IDAuNiwKICAiZmlsbFJ1bGUiOiAiZXZlbm9kZCIsCiAgImxpbmVDYXAiOiAicm91bmQiLAogICJsaW5lSm9pbiI6ICJyb3VuZCIsCiAgIm9wYWNpdHkiOiAxLjAsCiAgInJhZGl1cyI6IDUsCiAgInN0cm9rZSI6IHRydWUsCiAgIndlaWdodCI6IDMKfQogICAgICAgICAgICAgICAgKS5hZGRUbyhtYXBfYzVjNDEzN2FjMTAwNDEwY2IzZTZlNzJkOTAxMTc3NDgpOwogICAgICAgICAgICAKICAgIAogICAgICAgICAgICB2YXIgcG9wdXBfMTZkZDNjNjEwYWJkNDI3YmEyOTkwZjJlZjVlYzg3YzggPSBMLnBvcHVwKHttYXhXaWR0aDogJzMwMCd9KTsKCiAgICAgICAgICAgIAogICAgICAgICAgICAgICAgdmFyIGh0bWxfMWYyZjEzZjk5NGFiNGYxZTgwZmM5ODE3NTZmMDkwNWYgPSAkKCc8ZGl2IGlkPSJodG1sXzFmMmYxM2Y5OTRhYjRmMWU4MGZjOTgxNzU2ZjA5MDVmIiBzdHlsZT0id2lkdGg6IDEwMC4wJTsgaGVpZ2h0OiAxMDAuMCU7Ij5WZWdldGFyaWFuIC8gVmVnYW4gUmVzdGF1cmFudDwvZGl2PicpWzBdOwogICAgICAgICAgICAgICAgcG9wdXBfMTZkZDNjNjEwYWJkNDI3YmEyOTkwZjJlZjVlYzg3Yzguc2V0Q29udGVudChodG1sXzFmMmYxM2Y5OTRhYjRmMWU4MGZjOTgxNzU2ZjA5MDVmKTsKICAgICAgICAgICAgCgogICAgICAgICAgICBjaXJjbGVfbWFya2VyXzZiMDY1ZDZhYjk4MDQ5NzVhMzZjZjY0Yjg3MzUzMjVkLmJpbmRQb3B1cChwb3B1cF8xNmRkM2M2MTBhYmQ0MjdiYTI5OTBmMmVmNWVjODdjOCk7CgogICAgICAgICAgICAKICAgICAgICAKICAgIAogICAgICAgICAgICB2YXIgY2lyY2xlX21hcmtlcl85ZDdkYjg2ODU3Mjk0N2M5YTY1NDYyOTNlMzU4ODNkNyA9IEwuY2lyY2xlTWFya2VyKAogICAgICAgICAgICAgICAgWzQwLjcxNDgyNDM3NzE0ODM5LC03NC4wMDk0MDQyNTQ2MTQ5Ml0sCiAgICAgICAgICAgICAgICB7CiAgImJ1YmJsaW5nTW91c2VFdmVudHMiOiB0cnVlLAogICJjb2xvciI6ICJibHVlIiwKICAiZGFzaEFycmF5IjogbnVsbCwKICAiZGFzaE9mZnNldCI6IG51bGwsCiAgImZpbGwiOiB0cnVlLAogICJmaWxsQ29sb3IiOiAiYmx1ZSIsCiAgImZpbGxPcGFjaXR5IjogMC42LAogICJmaWxsUnVsZSI6ICJldmVub2RkIiwKICAibGluZUNhcCI6ICJyb3VuZCIsCiAgImxpbmVKb2luIjogInJvdW5kIiwKICAib3BhY2l0eSI6IDEuMCwKICAicmFkaXVzIjogNSwKICAic3Ryb2tlIjogdHJ1ZSwKICAid2VpZ2h0IjogMwp9CiAgICAgICAgICAgICAgICApLmFkZFRvKG1hcF9jNWM0MTM3YWMxMDA0MTBjYjNlNmU3MmQ5MDExNzc0OCk7CiAgICAgICAgICAgIAogICAgCiAgICAgICAgICAgIHZhciBwb3B1cF8xNmRkNzJiMzU0MGI0YjQ0OTQ5NzlmMTc2NmEyNTVkMCA9IEwucG9wdXAoe21heFdpZHRoOiAnMzAwJ30pOwoKICAgICAgICAgICAgCiAgICAgICAgICAgICAgICB2YXIgaHRtbF9jM2M4ZjliZjhhNmQ0MWI5OTAyMDUyMGYzZWE3YjY2OCA9ICQoJzxkaXYgaWQ9Imh0bWxfYzNjOGY5YmY4YTZkNDFiOTkwMjA1MjBmM2VhN2I2NjgiIHN0eWxlPSJ3aWR0aDogMTAwLjAlOyBoZWlnaHQ6IDEwMC4wJTsiPkZ1cm5pdHVyZSAvIEhvbWUgU3RvcmU8L2Rpdj4nKVswXTsKICAgICAgICAgICAgICAgIHBvcHVwXzE2ZGQ3MmIzNTQwYjRiNDQ5NDk3OWYxNzY2YTI1NWQwLnNldENvbnRlbnQoaHRtbF9jM2M4ZjliZjhhNmQ0MWI5OTAyMDUyMGYzZWE3YjY2OCk7CiAgICAgICAgICAgIAoKICAgICAgICAgICAgY2lyY2xlX21hcmtlcl85ZDdkYjg2ODU3Mjk0N2M5YTY1NDYyOTNlMzU4ODNkNy5iaW5kUG9wdXAocG9wdXBfMTZkZDcyYjM1NDBiNGI0NDk0OTc5ZjE3NjZhMjU1ZDApOwoKICAgICAgICAgICAgCiAgICAgICAgCiAgICAKICAgICAgICAgICAgdmFyIGNpcmNsZV9tYXJrZXJfOTI4NzcwMGZjMTk5NDY0MmJmM2UzYzBhODk0ZWFhMDAgPSBMLmNpcmNsZU1hcmtlcigKICAgICAgICAgICAgICAgIFs0MC43MTQyNjcsLTc0LjAwODc1Nl0sCiAgICAgICAgICAgICAgICB7CiAgImJ1YmJsaW5nTW91c2VFdmVudHMiOiB0cnVlLAogICJjb2xvciI6ICJibHVlIiwKICAiZGFzaEFycmF5IjogbnVsbCwKICAiZGFzaE9mZnNldCI6IG51bGwsCiAgImZpbGwiOiB0cnVlLAogICJmaWxsQ29sb3IiOiAiYmx1ZSIsCiAgImZpbGxPcGFjaXR5IjogMC42LAogICJmaWxsUnVsZSI6ICJldmVub2RkIiwKICAibGluZUNhcCI6ICJyb3VuZCIsCiAgImxpbmVKb2luIjogInJvdW5kIiwKICAib3BhY2l0eSI6IDEuMCwKICAicmFkaXVzIjogNSwKICAic3Ryb2tlIjogdHJ1ZSwKICAid2VpZ2h0IjogMwp9CiAgICAgICAgICAgICAgICApLmFkZFRvKG1hcF9jNWM0MTM3YWMxMDA0MTBjYjNlNmU3MmQ5MDExNzc0OCk7CiAgICAgICAgICAgIAogICAgCiAgICAgICAgICAgIHZhciBwb3B1cF80ZmIyOWJkMDMyNjg0MjVkYTU5M2YyYzMxZDY3MzJjZCA9IEwucG9wdXAoe21heFdpZHRoOiAnMzAwJ30pOwoKICAgICAgICAgICAgCiAgICAgICAgICAgICAgICB2YXIgaHRtbF82MGE3NjBlNjAzZWY0ZTdkYTlkOGY1YjIyNGYyZmM2NCA9ICQoJzxkaXYgaWQ9Imh0bWxfNjBhNzYwZTYwM2VmNGU3ZGE5ZDhmNWIyMjRmMmZjNjQiIHN0eWxlPSJ3aWR0aDogMTAwLjAlOyBoZWlnaHQ6IDEwMC4wJTsiPlRhY28gUGxhY2U8L2Rpdj4nKVswXTsKICAgICAgICAgICAgICAgIHBvcHVwXzRmYjI5YmQwMzI2ODQyNWRhNTkzZjJjMzFkNjczMmNkLnNldENvbnRlbnQoaHRtbF82MGE3NjBlNjAzZWY0ZTdkYTlkOGY1YjIyNGYyZmM2NCk7CiAgICAgICAgICAgIAoKICAgICAgICAgICAgY2lyY2xlX21hcmtlcl85Mjg3NzAwZmMxOTk0NjQyYmYzZTNjMGE4OTRlYWEwMC5iaW5kUG9wdXAocG9wdXBfNGZiMjliZDAzMjY4NDI1ZGE1OTNmMmMzMWQ2NzMyY2QpOwoKICAgICAgICAgICAgCiAgICAgICAgCiAgICAKICAgICAgICAgICAgdmFyIGNpcmNsZV9tYXJrZXJfNzRlM2JkNDE3ZTRlNDY2YmFlMjgzNzQ1NGIwYmQwNzAgPSBMLmNpcmNsZU1hcmtlcigKICAgICAgICAgICAgICAgIFs0MC43MTM2NTI4NDUzMDE4OTQsLTc0LjAwODgwMzg5NTMwMTddLAogICAgICAgICAgICAgICAgewogICJidWJibGluZ01vdXNlRXZlbnRzIjogdHJ1ZSwKICAiY29sb3IiOiAiYmx1ZSIsCiAgImRhc2hBcnJheSI6IG51bGwsCiAgImRhc2hPZmZzZXQiOiBudWxsLAogICJmaWxsIjogdHJ1ZSwKICAiZmlsbENvbG9yIjogImJsdWUiLAogICJmaWxsT3BhY2l0eSI6IDAuNiwKICAiZmlsbFJ1bGUiOiAiZXZlbm9kZCIsCiAgImxpbmVDYXAiOiAicm91bmQiLAogICJsaW5lSm9pbiI6ICJyb3VuZCIsCiAgIm9wYWNpdHkiOiAxLjAsCiAgInJhZGl1cyI6IDUsCiAgInN0cm9rZSI6IHRydWUsCiAgIndlaWdodCI6IDMKfQogICAgICAgICAgICAgICAgKS5hZGRUbyhtYXBfYzVjNDEzN2FjMTAwNDEwY2IzZTZlNzJkOTAxMTc3NDgpOwogICAgICAgICAgICAKICAgIAogICAgICAgICAgICB2YXIgcG9wdXBfMzdlMWI4MTk3MjU5NGEzNjgxZTdhODA4ZGJkMDYzN2YgPSBMLnBvcHVwKHttYXhXaWR0aDogJzMwMCd9KTsKCiAgICAgICAgICAgIAogICAgICAgICAgICAgICAgdmFyIGh0bWxfMWZjMDRmMWUyNTI5NGZiMThiY2ZiMmQ5NTc3YTQ5MjAgPSAkKCc8ZGl2IGlkPSJodG1sXzFmYzA0ZjFlMjUyOTRmYjE4YmNmYjJkOTU3N2E0OTIwIiBzdHlsZT0id2lkdGg6IDEwMC4wJTsgaGVpZ2h0OiAxMDAuMCU7Ij5CYWtlcnk8L2Rpdj4nKVswXTsKICAgICAgICAgICAgICAgIHBvcHVwXzM3ZTFiODE5NzI1OTRhMzY4MWU3YTgwOGRiZDA2MzdmLnNldENvbnRlbnQoaHRtbF8xZmMwNGYxZTI1Mjk0ZmIxOGJjZmIyZDk1NzdhNDkyMCk7CiAgICAgICAgICAgIAoKICAgICAgICAgICAgY2lyY2xlX21hcmtlcl83NGUzYmQ0MTdlNGU0NjZiYWUyODM3NDU0YjBiZDA3MC5iaW5kUG9wdXAocG9wdXBfMzdlMWI4MTk3MjU5NGEzNjgxZTdhODA4ZGJkMDYzN2YpOwoKICAgICAgICAgICAgCiAgICAgICAgCiAgICAKICAgICAgICAgICAgdmFyIGNpcmNsZV9tYXJrZXJfN2Q4ZjNkMTdmY2Q1NDMxYThmYzAzMGUzYjAyY2IxNzUgPSBMLmNpcmNsZU1hcmtlcigKICAgICAgICAgICAgICAgIFs0MC43MTY1MjY0NzQxMjM3NCwtNzQuMDA4MTAxMDg0NjYyMDddLAogICAgICAgICAgICAgICAgewogICJidWJibGluZ01vdXNlRXZlbnRzIjogdHJ1ZSwKICAiY29sb3IiOiAiYmx1ZSIsCiAgImRhc2hBcnJheSI6IG51bGwsCiAgImRhc2hPZmZzZXQiOiBudWxsLAogICJmaWxsIjogdHJ1ZSwKICAiZmlsbENvbG9yIjogImJsdWUiLAogICJmaWxsT3BhY2l0eSI6IDAuNiwKICAiZmlsbFJ1bGUiOiAiZXZlbm9kZCIsCiAgImxpbmVDYXAiOiAicm91bmQiLAogICJsaW5lSm9pbiI6ICJyb3VuZCIsCiAgIm9wYWNpdHkiOiAxLjAsCiAgInJhZGl1cyI6IDUsCiAgInN0cm9rZSI6IHRydWUsCiAgIndlaWdodCI6IDMKfQogICAgICAgICAgICAgICAgKS5hZGRUbyhtYXBfYzVjNDEzN2FjMTAwNDEwY2IzZTZlNzJkOTAxMTc3NDgpOwogICAgICAgICAgICAKICAgIAogICAgICAgICAgICB2YXIgcG9wdXBfZTlhNTQ4YWYxNTU0NGUxNjhlODJmNTliNTY5YjkwZDIgPSBMLnBvcHVwKHttYXhXaWR0aDogJzMwMCd9KTsKCiAgICAgICAgICAgIAogICAgICAgICAgICAgICAgdmFyIGh0bWxfM2FiZjIzOTk2MjhkNGI1YmE0MDI0YmNlYzU3ZTI5ZTcgPSAkKCc8ZGl2IGlkPSJodG1sXzNhYmYyMzk5NjI4ZDRiNWJhNDAyNGJjZWM1N2UyOWU3IiBzdHlsZT0id2lkdGg6IDEwMC4wJTsgaGVpZ2h0OiAxMDAuMCU7Ij5TdXNoaSBSZXN0YXVyYW50PC9kaXY+JylbMF07CiAgICAgICAgICAgICAgICBwb3B1cF9lOWE1NDhhZjE1NTQ0ZTE2OGU4MmY1OWI1NjliOTBkMi5zZXRDb250ZW50KGh0bWxfM2FiZjIzOTk2MjhkNGI1YmE0MDI0YmNlYzU3ZTI5ZTcpOwogICAgICAgICAgICAKCiAgICAgICAgICAgIGNpcmNsZV9tYXJrZXJfN2Q4ZjNkMTdmY2Q1NDMxYThmYzAzMGUzYjAyY2IxNzUuYmluZFBvcHVwKHBvcHVwX2U5YTU0OGFmMTU1NDRlMTY4ZTgyZjU5YjU2OWI5MGQyKTsKCiAgICAgICAgICAgIAogICAgICAgIAogICAgCiAgICAgICAgICAgIHZhciBjaXJjbGVfbWFya2VyX2ZmMDZiNDI1YThiNjQ1MzM4NTAxOTExYjMwYzJkZmRkID0gTC5jaXJjbGVNYXJrZXIoCiAgICAgICAgICAgICAgICBbNDAuNzE0MDk4NjA3MjYwNDEsLTc0LjAwOTY4NTcxNzkyODNdLAogICAgICAgICAgICAgICAgewogICJidWJibGluZ01vdXNlRXZlbnRzIjogdHJ1ZSwKICAiY29sb3IiOiAiYmx1ZSIsCiAgImRhc2hBcnJheSI6IG51bGwsCiAgImRhc2hPZmZzZXQiOiBudWxsLAogICJmaWxsIjogdHJ1ZSwKICAiZmlsbENvbG9yIjogImJsdWUiLAogICJmaWxsT3BhY2l0eSI6IDAuNiwKICAiZmlsbFJ1bGUiOiAiZXZlbm9kZCIsCiAgImxpbmVDYXAiOiAicm91bmQiLAogICJsaW5lSm9pbiI6ICJyb3VuZCIsCiAgIm9wYWNpdHkiOiAxLjAsCiAgInJhZGl1cyI6IDUsCiAgInN0cm9rZSI6IHRydWUsCiAgIndlaWdodCI6IDMKfQogICAgICAgICAgICAgICAgKS5hZGRUbyhtYXBfYzVjNDEzN2FjMTAwNDEwY2IzZTZlNzJkOTAxMTc3NDgpOwogICAgICAgICAgICAKICAgIAogICAgICAgICAgICB2YXIgcG9wdXBfZTE3ZWIwOTczMWYzNDAzYWI1MmEwMjcwZDdmMTk0ZTggPSBMLnBvcHVwKHttYXhXaWR0aDogJzMwMCd9KTsKCiAgICAgICAgICAgIAogICAgICAgICAgICAgICAgdmFyIGh0bWxfNWMxZjRlZTAyMzkwNDMwZjhjNDQyZDBmNzFmNWE1NWUgPSAkKCc8ZGl2IGlkPSJodG1sXzVjMWY0ZWUwMjM5MDQzMGY4YzQ0MmQwZjcxZjVhNTVlIiBzdHlsZT0id2lkdGg6IDEwMC4wJTsgaGVpZ2h0OiAxMDAuMCU7Ij5HeW08L2Rpdj4nKVswXTsKICAgICAgICAgICAgICAgIHBvcHVwX2UxN2ViMDk3MzFmMzQwM2FiNTJhMDI3MGQ3ZjE5NGU4LnNldENvbnRlbnQoaHRtbF81YzFmNGVlMDIzOTA0MzBmOGM0NDJkMGY3MWY1YTU1ZSk7CiAgICAgICAgICAgIAoKICAgICAgICAgICAgY2lyY2xlX21hcmtlcl9mZjA2YjQyNWE4YjY0NTMzODUwMTkxMWIzMGMyZGZkZC5iaW5kUG9wdXAocG9wdXBfZTE3ZWIwOTczMWYzNDAzYWI1MmEwMjcwZDdmMTk0ZTgpOwoKICAgICAgICAgICAgCiAgICAgICAgCiAgICAKICAgICAgICAgICAgdmFyIGNpcmNsZV9tYXJrZXJfOTc3NjM0NDExNjM1NGZkOThjNjZkYmFhYjg1NDljYzUgPSBMLmNpcmNsZU1hcmtlcigKICAgICAgICAgICAgICAgIFs0MC43MTU1NzkxNTU0MjA2MDYsLTc0LjAxMTM2ODIzOTU4MTE5XSwKICAgICAgICAgICAgICAgIHsKICAiYnViYmxpbmdNb3VzZUV2ZW50cyI6IHRydWUsCiAgImNvbG9yIjogImJsdWUiLAogICJkYXNoQXJyYXkiOiBudWxsLAogICJkYXNoT2Zmc2V0IjogbnVsbCwKICAiZmlsbCI6IHRydWUsCiAgImZpbGxDb2xvciI6ICJibHVlIiwKICAiZmlsbE9wYWNpdHkiOiAwLjYsCiAgImZpbGxSdWxlIjogImV2ZW5vZGQiLAogICJsaW5lQ2FwIjogInJvdW5kIiwKICAibGluZUpvaW4iOiAicm91bmQiLAogICJvcGFjaXR5IjogMS4wLAogICJyYWRpdXMiOiA1LAogICJzdHJva2UiOiB0cnVlLAogICJ3ZWlnaHQiOiAzCn0KICAgICAgICAgICAgICAgICkuYWRkVG8obWFwX2M1YzQxMzdhYzEwMDQxMGNiM2U2ZTcyZDkwMTE3NzQ4KTsKICAgICAgICAgICAgCiAgICAKICAgICAgICAgICAgdmFyIHBvcHVwXzAwMTVhZDMwMzdjOTRiNWI5MmVhNjBmODg0ZjA2MjI0ID0gTC5wb3B1cCh7bWF4V2lkdGg6ICczMDAnfSk7CgogICAgICAgICAgICAKICAgICAgICAgICAgICAgIHZhciBodG1sX2E3OWY2MmU0YTlkNjQzMDdhYzFhNzhmM2Y3ZTVkZDYwID0gJCgnPGRpdiBpZD0iaHRtbF9hNzlmNjJlNGE5ZDY0MzA3YWMxYTc4ZjNmN2U1ZGQ2MCIgc3R5bGU9IndpZHRoOiAxMDAuMCU7IGhlaWdodDogMTAwLjAlOyI+R3JvY2VyeSBTdG9yZTwvZGl2PicpWzBdOwogICAgICAgICAgICAgICAgcG9wdXBfMDAxNWFkMzAzN2M5NGI1YjkyZWE2MGY4ODRmMDYyMjQuc2V0Q29udGVudChodG1sX2E3OWY2MmU0YTlkNjQzMDdhYzFhNzhmM2Y3ZTVkZDYwKTsKICAgICAgICAgICAgCgogICAgICAgICAgICBjaXJjbGVfbWFya2VyXzk3NzYzNDQxMTYzNTRmZDk4YzY2ZGJhYWI4NTQ5Y2M1LmJpbmRQb3B1cChwb3B1cF8wMDE1YWQzMDM3Yzk0YjViOTJlYTYwZjg4NGYwNjIyNCk7CgogICAgICAgICAgICAKICAgICAgICAKICAgIAogICAgICAgICAgICB2YXIgY2lyY2xlX21hcmtlcl8wNWIyYWI3NDFmNzI0ODM1ODUwODQyOGY0Nzc5N2UzOSA9IEwuY2lyY2xlTWFya2VyKAogICAgICAgICAgICAgICAgWzQwLjcxNTcyNiwtNzQuMDA3NzY3XSwKICAgICAgICAgICAgICAgIHsKICAiYnViYmxpbmdNb3VzZUV2ZW50cyI6IHRydWUsCiAgImNvbG9yIjogImJsdWUiLAogICJkYXNoQXJyYXkiOiBudWxsLAogICJkYXNoT2Zmc2V0IjogbnVsbCwKICAiZmlsbCI6IHRydWUsCiAgImZpbGxDb2xvciI6ICJibHVlIiwKICAiZmlsbE9wYWNpdHkiOiAwLjYsCiAgImZpbGxSdWxlIjogImV2ZW5vZGQiLAogICJsaW5lQ2FwIjogInJvdW5kIiwKICAibGluZUpvaW4iOiAicm91bmQiLAogICJvcGFjaXR5IjogMS4wLAogICJyYWRpdXMiOiA1LAogICJzdHJva2UiOiB0cnVlLAogICJ3ZWlnaHQiOiAzCn0KICAgICAgICAgICAgICAgICkuYWRkVG8obWFwX2M1YzQxMzdhYzEwMDQxMGNiM2U2ZTcyZDkwMTE3NzQ4KTsKICAgICAgICAgICAgCiAgICAKICAgICAgICAgICAgdmFyIHBvcHVwXzJmNjI4YTNhNjA4ZTRmM2Q4OGUxN2EyNTcyZTNiN2MwID0gTC5wb3B1cCh7bWF4V2lkdGg6ICczMDAnfSk7CgogICAgICAgICAgICAKICAgICAgICAgICAgICAgIHZhciBodG1sX2NlNmI2ODc4MWM1MjQ0MmI4N2M3MDQ5YjNmOTljNzc4ID0gJCgnPGRpdiBpZD0iaHRtbF9jZTZiNjg3ODFjNTI0NDJiODdjNzA0OWIzZjk5Yzc3OCIgc3R5bGU9IndpZHRoOiAxMDAuMCU7IGhlaWdodDogMTAwLjAlOyI+U3BhPC9kaXY+JylbMF07CiAgICAgICAgICAgICAgICBwb3B1cF8yZjYyOGEzYTYwOGU0ZjNkODhlMTdhMjU3MmUzYjdjMC5zZXRDb250ZW50KGh0bWxfY2U2YjY4NzgxYzUyNDQyYjg3YzcwNDliM2Y5OWM3NzgpOwogICAgICAgICAgICAKCiAgICAgICAgICAgIGNpcmNsZV9tYXJrZXJfMDViMmFiNzQxZjcyNDgzNTg1MDg0MjhmNDc3OTdlMzkuYmluZFBvcHVwKHBvcHVwXzJmNjI4YTNhNjA4ZTRmM2Q4OGUxN2EyNTcyZTNiN2MwKTsKCiAgICAgICAgICAgIAogICAgICAgIAogICAgCiAgICAgICAgICAgIHZhciBjaXJjbGVfbWFya2VyX2Q5ZjgxZmEzYTdkYTQwYmE4YTBjZWY1OTY5YzZmN2U1ID0gTC5jaXJjbGVNYXJrZXIoCiAgICAgICAgICAgICAgICBbNDAuNzE1NzczMDYzOTI4Mzc0LC03NC4wMDk3MTgyMzMxMjMzMl0sCiAgICAgICAgICAgICAgICB7CiAgImJ1YmJsaW5nTW91c2VFdmVudHMiOiB0cnVlLAogICJjb2xvciI6ICJibHVlIiwKICAiZGFzaEFycmF5IjogbnVsbCwKICAiZGFzaE9mZnNldCI6IG51bGwsCiAgImZpbGwiOiB0cnVlLAogICJmaWxsQ29sb3IiOiAiYmx1ZSIsCiAgImZpbGxPcGFjaXR5IjogMC42LAogICJmaWxsUnVsZSI6ICJldmVub2RkIiwKICAibGluZUNhcCI6ICJyb3VuZCIsCiAgImxpbmVKb2luIjogInJvdW5kIiwKICAib3BhY2l0eSI6IDEuMCwKICAicmFkaXVzIjogNSwKICAic3Ryb2tlIjogdHJ1ZSwKICAid2VpZ2h0IjogMwp9CiAgICAgICAgICAgICAgICApLmFkZFRvKG1hcF9jNWM0MTM3YWMxMDA0MTBjYjNlNmU3MmQ5MDExNzc0OCk7CiAgICAgICAgICAgIAogICAgCiAgICAgICAgICAgIHZhciBwb3B1cF9iNmNlY2U0M2E3Mzk0ZTczOTU3NTVmMDU3NGY2NmMxZiA9IEwucG9wdXAoe21heFdpZHRoOiAnMzAwJ30pOwoKICAgICAgICAgICAgCiAgICAgICAgICAgICAgICB2YXIgaHRtbF85ZjY2MjI4YWUyMzU0Y2IyYWU3NzdiZTVjMjE5MTg3ZCA9ICQoJzxkaXYgaWQ9Imh0bWxfOWY2NjIyOGFlMjM1NGNiMmFlNzc3YmU1YzIxOTE4N2QiIHN0eWxlPSJ3aWR0aDogMTAwLjAlOyBoZWlnaHQ6IDEwMC4wJTsiPldpbmUgU2hvcDwvZGl2PicpWzBdOwogICAgICAgICAgICAgICAgcG9wdXBfYjZjZWNlNDNhNzM5NGU3Mzk1NzU1ZjA1NzRmNjZjMWYuc2V0Q29udGVudChodG1sXzlmNjYyMjhhZTIzNTRjYjJhZTc3N2JlNWMyMTkxODdkKTsKICAgICAgICAgICAgCgogICAgICAgICAgICBjaXJjbGVfbWFya2VyX2Q5ZjgxZmEzYTdkYTQwYmE4YTBjZWY1OTY5YzZmN2U1LmJpbmRQb3B1cChwb3B1cF9iNmNlY2U0M2E3Mzk0ZTczOTU3NTVmMDU3NGY2NmMxZik7CgogICAgICAgICAgICAKICAgICAgICAKICAgIAogICAgICAgICAgICB2YXIgY2lyY2xlX21hcmtlcl80ZGYwZDliYjdkZDM0ZjI0ODdlODMwMTQyZGYxZmU2NyA9IEwuY2lyY2xlTWFya2VyKAogICAgICAgICAgICAgICAgWzQwLjcxNTE3NjkzOTY2MzE1LC03NC4wMTAyMjc0Nzc3ODI4NV0sCiAgICAgICAgICAgICAgICB7CiAgImJ1YmJsaW5nTW91c2VFdmVudHMiOiB0cnVlLAogICJjb2xvciI6ICJibHVlIiwKICAiZGFzaEFycmF5IjogbnVsbCwKICAiZGFzaE9mZnNldCI6IG51bGwsCiAgImZpbGwiOiB0cnVlLAogICJmaWxsQ29sb3IiOiAiYmx1ZSIsCiAgImZpbGxPcGFjaXR5IjogMC42LAogICJmaWxsUnVsZSI6ICJldmVub2RkIiwKICAibGluZUNhcCI6ICJyb3VuZCIsCiAgImxpbmVKb2luIjogInJvdW5kIiwKICAib3BhY2l0eSI6IDEuMCwKICAicmFkaXVzIjogNSwKICAic3Ryb2tlIjogdHJ1ZSwKICAid2VpZ2h0IjogMwp9CiAgICAgICAgICAgICAgICApLmFkZFRvKG1hcF9jNWM0MTM3YWMxMDA0MTBjYjNlNmU3MmQ5MDExNzc0OCk7CiAgICAgICAgICAgIAogICAgCiAgICAgICAgICAgIHZhciBwb3B1cF8zYzJlMzYyZGFmN2E0MTliYjNiOWJkNmI3NmY0ZmJmMiA9IEwucG9wdXAoe21heFdpZHRoOiAnMzAwJ30pOwoKICAgICAgICAgICAgCiAgICAgICAgICAgICAgICB2YXIgaHRtbF9hM2YwNDNmNjM1ODE0NzlhOGU5N2Y0NDY0NDY3NjgwOSA9ICQoJzxkaXYgaWQ9Imh0bWxfYTNmMDQzZjYzNTgxNDc5YThlOTdmNDQ2NDQ2NzY4MDkiIHN0eWxlPSJ3aWR0aDogMTAwLjAlOyBoZWlnaHQ6IDEwMC4wJTsiPkNhZsOpPC9kaXY+JylbMF07CiAgICAgICAgICAgICAgICBwb3B1cF8zYzJlMzYyZGFmN2E0MTliYjNiOWJkNmI3NmY0ZmJmMi5zZXRDb250ZW50KGh0bWxfYTNmMDQzZjYzNTgxNDc5YThlOTdmNDQ2NDQ2NzY4MDkpOwogICAgICAgICAgICAKCiAgICAgICAgICAgIGNpcmNsZV9tYXJrZXJfNGRmMGQ5YmI3ZGQzNGYyNDg3ZTgzMDE0MmRmMWZlNjcuYmluZFBvcHVwKHBvcHVwXzNjMmUzNjJkYWY3YTQxOWJiM2I5YmQ2Yjc2ZjRmYmYyKTsKCiAgICAgICAgICAgIAogICAgICAgIAogICAgCiAgICAgICAgICAgIHZhciBjaXJjbGVfbWFya2VyXzM0NTRkYWM5Yjg2MTRhZDc5Nzk5MTllYzk0ZmFhOTlkID0gTC5jaXJjbGVNYXJrZXIoCiAgICAgICAgICAgICAgICBbNDAuNzE1NTM3MTAxMTY0MTYsLTc0LjAwNzcyNDUyOTI1NTY1XSwKICAgICAgICAgICAgICAgIHsKICAiYnViYmxpbmdNb3VzZUV2ZW50cyI6IHRydWUsCiAgImNvbG9yIjogImJsdWUiLAogICJkYXNoQXJyYXkiOiBudWxsLAogICJkYXNoT2Zmc2V0IjogbnVsbCwKICAiZmlsbCI6IHRydWUsCiAgImZpbGxDb2xvciI6ICJibHVlIiwKICAiZmlsbE9wYWNpdHkiOiAwLjYsCiAgImZpbGxSdWxlIjogImV2ZW5vZGQiLAogICJsaW5lQ2FwIjogInJvdW5kIiwKICAibGluZUpvaW4iOiAicm91bmQiLAogICJvcGFjaXR5IjogMS4wLAogICJyYWRpdXMiOiA1LAogICJzdHJva2UiOiB0cnVlLAogICJ3ZWlnaHQiOiAzCn0KICAgICAgICAgICAgICAgICkuYWRkVG8obWFwX2M1YzQxMzdhYzEwMDQxMGNiM2U2ZTcyZDkwMTE3NzQ4KTsKICAgICAgICAgICAgCiAgICAKICAgICAgICAgICAgdmFyIHBvcHVwX2EwNWVmMGFlMjNhOTQwYjc4MmM0OGI5YTI2MTlkZDA4ID0gTC5wb3B1cCh7bWF4V2lkdGg6ICczMDAnfSk7CgogICAgICAgICAgICAKICAgICAgICAgICAgICAgIHZhciBodG1sX2M3ZTA2OWU1YWEwODRmNGQ4ZDhjYzBjNmY3N2Y0Y2NlID0gJCgnPGRpdiBpZD0iaHRtbF9jN2UwNjllNWFhMDg0ZjRkOGQ4Y2MwYzZmNzdmNGNjZSIgc3R5bGU9IndpZHRoOiAxMDAuMCU7IGhlaWdodDogMTAwLjAlOyI+RmFsYWZlbCBSZXN0YXVyYW50PC9kaXY+JylbMF07CiAgICAgICAgICAgICAgICBwb3B1cF9hMDVlZjBhZTIzYTk0MGI3ODJjNDhiOWEyNjE5ZGQwOC5zZXRDb250ZW50KGh0bWxfYzdlMDY5ZTVhYTA4NGY0ZDhkOGNjMGM2Zjc3ZjRjY2UpOwogICAgICAgICAgICAKCiAgICAgICAgICAgIGNpcmNsZV9tYXJrZXJfMzQ1NGRhYzliODYxNGFkNzk3OTkxOWVjOTRmYWE5OWQuYmluZFBvcHVwKHBvcHVwX2EwNWVmMGFlMjNhOTQwYjc4MmM0OGI5YTI2MTlkZDA4KTsKCiAgICAgICAgICAgIAogICAgICAgIAogICAgCiAgICAgICAgICAgIHZhciBjaXJjbGVfbWFya2VyXzM2ZjAwYzc5NDgyZTQxNzI4MWRhMjhlNzZmZDUzMjgyID0gTC5jaXJjbGVNYXJrZXIoCiAgICAgICAgICAgICAgICBbNDAuNzE3MDEwMTE0MDk5MDYsLTc0LjAwODA0MjQ0NTYyMjI1XSwKICAgICAgICAgICAgICAgIHsKICAiYnViYmxpbmdNb3VzZUV2ZW50cyI6IHRydWUsCiAgImNvbG9yIjogImJsdWUiLAogICJkYXNoQXJyYXkiOiBudWxsLAogICJkYXNoT2Zmc2V0IjogbnVsbCwKICAiZmlsbCI6IHRydWUsCiAgImZpbGxDb2xvciI6ICJibHVlIiwKICAiZmlsbE9wYWNpdHkiOiAwLjYsCiAgImZpbGxSdWxlIjogImV2ZW5vZGQiLAogICJsaW5lQ2FwIjogInJvdW5kIiwKICAibGluZUpvaW4iOiAicm91bmQiLAogICJvcGFjaXR5IjogMS4wLAogICJyYWRpdXMiOiA1LAogICJzdHJva2UiOiB0cnVlLAogICJ3ZWlnaHQiOiAzCn0KICAgICAgICAgICAgICAgICkuYWRkVG8obWFwX2M1YzQxMzdhYzEwMDQxMGNiM2U2ZTcyZDkwMTE3NzQ4KTsKICAgICAgICAgICAgCiAgICAKICAgICAgICAgICAgdmFyIHBvcHVwX2UwMzhmZTU1YzAwMDQxZTg5MmEyNGVkNzQ5YWVmMzMxID0gTC5wb3B1cCh7bWF4V2lkdGg6ICczMDAnfSk7CgogICAgICAgICAgICAKICAgICAgICAgICAgICAgIHZhciBodG1sX2NlMmU4ZWU3YTE1YTRjNjhiNWRkZGU0ZjNmYmEzODM5ID0gJCgnPGRpdiBpZD0iaHRtbF9jZTJlOGVlN2ExNWE0YzY4YjVkZGRlNGYzZmJhMzgzOSIgc3R5bGU9IndpZHRoOiAxMDAuMCU7IGhlaWdodDogMTAwLjAlOyI+RnJlbmNoIFJlc3RhdXJhbnQ8L2Rpdj4nKVswXTsKICAgICAgICAgICAgICAgIHBvcHVwX2UwMzhmZTU1YzAwMDQxZTg5MmEyNGVkNzQ5YWVmMzMxLnNldENvbnRlbnQoaHRtbF9jZTJlOGVlN2ExNWE0YzY4YjVkZGRlNGYzZmJhMzgzOSk7CiAgICAgICAgICAgIAoKICAgICAgICAgICAgY2lyY2xlX21hcmtlcl8zNmYwMGM3OTQ4MmU0MTcyODFkYTI4ZTc2ZmQ1MzI4Mi5iaW5kUG9wdXAocG9wdXBfZTAzOGZlNTVjMDAwNDFlODkyYTI0ZWQ3NDlhZWYzMzEpOwoKICAgICAgICAgICAgCiAgICAgICAgCiAgICAKICAgICAgICAgICAgdmFyIGNpcmNsZV9tYXJrZXJfNmM0ZWI2OGRkM2NiNDZhOWE5OTNhZDY2NmE3YWEyNzUgPSBMLmNpcmNsZU1hcmtlcigKICAgICAgICAgICAgICAgIFs0MC43MTcwNDU5ODg1MzcwNCwtNzQuMDExMDk0NTcwMTU5OTFdLAogICAgICAgICAgICAgICAgewogICJidWJibGluZ01vdXNlRXZlbnRzIjogdHJ1ZSwKICAiY29sb3IiOiAiYmx1ZSIsCiAgImRhc2hBcnJheSI6IG51bGwsCiAgImRhc2hPZmZzZXQiOiBudWxsLAogICJmaWxsIjogdHJ1ZSwKICAiZmlsbENvbG9yIjogImJsdWUiLAogICJmaWxsT3BhY2l0eSI6IDAuNiwKICAiZmlsbFJ1bGUiOiAiZXZlbm9kZCIsCiAgImxpbmVDYXAiOiAicm91bmQiLAogICJsaW5lSm9pbiI6ICJyb3VuZCIsCiAgIm9wYWNpdHkiOiAxLjAsCiAgInJhZGl1cyI6IDUsCiAgInN0cm9rZSI6IHRydWUsCiAgIndlaWdodCI6IDMKfQogICAgICAgICAgICAgICAgKS5hZGRUbyhtYXBfYzVjNDEzN2FjMTAwNDEwY2IzZTZlNzJkOTAxMTc3NDgpOwogICAgICAgICAgICAKICAgIAogICAgICAgICAgICB2YXIgcG9wdXBfZWQ0YjAxNmY2YmFiNDAxY2FhMjc3OTJjMzI1ODExNDEgPSBMLnBvcHVwKHttYXhXaWR0aDogJzMwMCd9KTsKCiAgICAgICAgICAgIAogICAgICAgICAgICAgICAgdmFyIGh0bWxfMGJkNDUyNTEzM2QyNGMxZWFkZGRjZGY3YmQ4YTIzMTggPSAkKCc8ZGl2IGlkPSJodG1sXzBiZDQ1MjUxMzNkMjRjMWVhZGRkY2RmN2JkOGEyMzE4IiBzdHlsZT0id2lkdGg6IDEwMC4wJTsgaGVpZ2h0OiAxMDAuMCU7Ij5QbGF5Z3JvdW5kPC9kaXY+JylbMF07CiAgICAgICAgICAgICAgICBwb3B1cF9lZDRiMDE2ZjZiYWI0MDFjYWEyNzc5MmMzMjU4MTE0MS5zZXRDb250ZW50KGh0bWxfMGJkNDUyNTEzM2QyNGMxZWFkZGRjZGY3YmQ4YTIzMTgpOwogICAgICAgICAgICAKCiAgICAgICAgICAgIGNpcmNsZV9tYXJrZXJfNmM0ZWI2OGRkM2NiNDZhOWE5OTNhZDY2NmE3YWEyNzUuYmluZFBvcHVwKHBvcHVwX2VkNGIwMTZmNmJhYjQwMWNhYTI3NzkyYzMyNTgxMTQxKTsKCiAgICAgICAgICAgIAogICAgICAgIAogICAgCiAgICAgICAgICAgIHZhciBjaXJjbGVfbWFya2VyXzcyYTQ5OTRmNTYzYzRlY2JhNmE0NDdkM2NkODNhZGViID0gTC5jaXJjbGVNYXJrZXIoCiAgICAgICAgICAgICAgICBbNDAuNzE1NTgsLTc0LjAwOTg1XSwKICAgICAgICAgICAgICAgIHsKICAiYnViYmxpbmdNb3VzZUV2ZW50cyI6IHRydWUsCiAgImNvbG9yIjogImJsdWUiLAogICJkYXNoQXJyYXkiOiBudWxsLAogICJkYXNoT2Zmc2V0IjogbnVsbCwKICAiZmlsbCI6IHRydWUsCiAgImZpbGxDb2xvciI6ICJibHVlIiwKICAiZmlsbE9wYWNpdHkiOiAwLjYsCiAgImZpbGxSdWxlIjogImV2ZW5vZGQiLAogICJsaW5lQ2FwIjogInJvdW5kIiwKICAibGluZUpvaW4iOiAicm91bmQiLAogICJvcGFjaXR5IjogMS4wLAogICJyYWRpdXMiOiA1LAogICJzdHJva2UiOiB0cnVlLAogICJ3ZWlnaHQiOiAzCn0KICAgICAgICAgICAgICAgICkuYWRkVG8obWFwX2M1YzQxMzdhYzEwMDQxMGNiM2U2ZTcyZDkwMTE3NzQ4KTsKICAgICAgICAgICAgCiAgICAKICAgICAgICAgICAgdmFyIHBvcHVwX2QyYmUxNTM1MzUyZDRjMDM5M2E1OGFhZGFhZDU0YmRmID0gTC5wb3B1cCh7bWF4V2lkdGg6ICczMDAnfSk7CgogICAgICAgICAgICAKICAgICAgICAgICAgICAgIHZhciBodG1sXzhjMDE1Mzc0ZWVjYjQ2YzhhOTYwMGI1MDhmN2U3MGE1ID0gJCgnPGRpdiBpZD0iaHRtbF84YzAxNTM3NGVlY2I0NmM4YTk2MDBiNTA4ZjdlNzBhNSIgc3R5bGU9IndpZHRoOiAxMDAuMCU7IGhlaWdodDogMTAwLjAlOyI+QmFnZWwgU2hvcDwvZGl2PicpWzBdOwogICAgICAgICAgICAgICAgcG9wdXBfZDJiZTE1MzUzNTJkNGMwMzkzYTU4YWFkYWFkNTRiZGYuc2V0Q29udGVudChodG1sXzhjMDE1Mzc0ZWVjYjQ2YzhhOTYwMGI1MDhmN2U3MGE1KTsKICAgICAgICAgICAgCgogICAgICAgICAgICBjaXJjbGVfbWFya2VyXzcyYTQ5OTRmNTYzYzRlY2JhNmE0NDdkM2NkODNhZGViLmJpbmRQb3B1cChwb3B1cF9kMmJlMTUzNTM1MmQ0YzAzOTNhNThhYWRhYWQ1NGJkZik7CgogICAgICAgICAgICAKICAgICAgICAKICAgIAogICAgICAgICAgICB2YXIgY2lyY2xlX21hcmtlcl83YTIxYzY4ZDRhYTc0ZTkxOWJkNmNhNzViNDM2ZTIyMyA9IEwuY2lyY2xlTWFya2VyKAogICAgICAgICAgICAgICAgWzQwLjcxNzIyNjE3MjYzNTAxLC03NC4wMDk0MzI5NzAxMzEwMl0sCiAgICAgICAgICAgICAgICB7CiAgImJ1YmJsaW5nTW91c2VFdmVudHMiOiB0cnVlLAogICJjb2xvciI6ICJibHVlIiwKICAiZGFzaEFycmF5IjogbnVsbCwKICAiZGFzaE9mZnNldCI6IG51bGwsCiAgImZpbGwiOiB0cnVlLAogICJmaWxsQ29sb3IiOiAiYmx1ZSIsCiAgImZpbGxPcGFjaXR5IjogMC42LAogICJmaWxsUnVsZSI6ICJldmVub2RkIiwKICAibGluZUNhcCI6ICJyb3VuZCIsCiAgImxpbmVKb2luIjogInJvdW5kIiwKICAib3BhY2l0eSI6IDEuMCwKICAicmFkaXVzIjogNSwKICAic3Ryb2tlIjogdHJ1ZSwKICAid2VpZ2h0IjogMwp9CiAgICAgICAgICAgICAgICApLmFkZFRvKG1hcF9jNWM0MTM3YWMxMDA0MTBjYjNlNmU3MmQ5MDExNzc0OCk7CiAgICAgICAgICAgIAogICAgCiAgICAgICAgICAgIHZhciBwb3B1cF83NGFjZGI4ZjIyZGE0MTA3YTBiMWQwZjcyNWEyMWE5NiA9IEwucG9wdXAoe21heFdpZHRoOiAnMzAwJ30pOwoKICAgICAgICAgICAgCiAgICAgICAgICAgICAgICB2YXIgaHRtbF8zYzQ1ZDQ3YzNiYzc0Njg3OGRlYjM4NjEyYzFiMGIxNSA9ICQoJzxkaXYgaWQ9Imh0bWxfM2M0NWQ0N2MzYmM3NDY4NzhkZWIzODYxMmMxYjBiMTUiIHN0eWxlPSJ3aWR0aDogMTAwLjAlOyBoZWlnaHQ6IDEwMC4wJTsiPkl0YWxpYW4gUmVzdGF1cmFudDwvZGl2PicpWzBdOwogICAgICAgICAgICAgICAgcG9wdXBfNzRhY2RiOGYyMmRhNDEwN2EwYjFkMGY3MjVhMjFhOTYuc2V0Q29udGVudChodG1sXzNjNDVkNDdjM2JjNzQ2ODc4ZGViMzg2MTJjMWIwYjE1KTsKICAgICAgICAgICAgCgogICAgICAgICAgICBjaXJjbGVfbWFya2VyXzdhMjFjNjhkNGFhNzRlOTE5YmQ2Y2E3NWI0MzZlMjIzLmJpbmRQb3B1cChwb3B1cF83NGFjZGI4ZjIyZGE0MTA3YTBiMWQwZjcyNWEyMWE5Nik7CgogICAgICAgICAgICAKICAgICAgICAKICAgIAogICAgICAgICAgICB2YXIgY2lyY2xlX21hcmtlcl84YTlmNTZkYjlkNWU0M2ZmODk2NzlmODY0ODk2MmEyZSA9IEwuY2lyY2xlTWFya2VyKAogICAgICAgICAgICAgICAgWzQwLjcxNzE3Mjc1ODAxMTY4LC03NC4wMDkzMjg2OTEyNTExN10sCiAgICAgICAgICAgICAgICB7CiAgImJ1YmJsaW5nTW91c2VFdmVudHMiOiB0cnVlLAogICJjb2xvciI6ICJibHVlIiwKICAiZGFzaEFycmF5IjogbnVsbCwKICAiZGFzaE9mZnNldCI6IG51bGwsCiAgImZpbGwiOiB0cnVlLAogICJmaWxsQ29sb3IiOiAiYmx1ZSIsCiAgImZpbGxPcGFjaXR5IjogMC42LAogICJmaWxsUnVsZSI6ICJldmVub2RkIiwKICAibGluZUNhcCI6ICJyb3VuZCIsCiAgImxpbmVKb2luIjogInJvdW5kIiwKICAib3BhY2l0eSI6IDEuMCwKICAicmFkaXVzIjogNSwKICAic3Ryb2tlIjogdHJ1ZSwKICAid2VpZ2h0IjogMwp9CiAgICAgICAgICAgICAgICApLmFkZFRvKG1hcF9jNWM0MTM3YWMxMDA0MTBjYjNlNmU3MmQ5MDExNzc0OCk7CiAgICAgICAgICAgIAogICAgCiAgICAgICAgICAgIHZhciBwb3B1cF8zMmE3M2FiNjYyMTc0NTU5YmM1NmY5N2MyOWUyNzAyZSA9IEwucG9wdXAoe21heFdpZHRoOiAnMzAwJ30pOwoKICAgICAgICAgICAgCiAgICAgICAgICAgICAgICB2YXIgaHRtbF84OTJhMmUzODMyMTI0ZTk0OTE4MWIzY2JlNzJhYTBkYiA9ICQoJzxkaXYgaWQ9Imh0bWxfODkyYTJlMzgzMjEyNGU5NDkxODFiM2NiZTcyYWEwZGIiIHN0eWxlPSJ3aWR0aDogMTAwLjAlOyBoZWlnaHQ6IDEwMC4wJTsiPlBhcms8L2Rpdj4nKVswXTsKICAgICAgICAgICAgICAgIHBvcHVwXzMyYTczYWI2NjIxNzQ1NTliYzU2Zjk3YzI5ZTI3MDJlLnNldENvbnRlbnQoaHRtbF84OTJhMmUzODMyMTI0ZTk0OTE4MWIzY2JlNzJhYTBkYik7CiAgICAgICAgICAgIAoKICAgICAgICAgICAgY2lyY2xlX21hcmtlcl84YTlmNTZkYjlkNWU0M2ZmODk2NzlmODY0ODk2MmEyZS5iaW5kUG9wdXAocG9wdXBfMzJhNzNhYjY2MjE3NDU1OWJjNTZmOTdjMjllMjcwMmUpOwoKICAgICAgICAgICAgCiAgICAgICAgCiAgICAKICAgICAgICAgICAgdmFyIGNpcmNsZV9tYXJrZXJfZGU1ODdiNWUwYjEyNDZjYzk3Yzg0MGU2ZTViODc1ZDIgPSBMLmNpcmNsZU1hcmtlcigKICAgICAgICAgICAgICAgIFs0MC43MTUwNDUxMjU1ODk5NiwtNzQuMDExNTA4NzEwMjgyMV0sCiAgICAgICAgICAgICAgICB7CiAgImJ1YmJsaW5nTW91c2VFdmVudHMiOiB0cnVlLAogICJjb2xvciI6ICJibHVlIiwKICAiZGFzaEFycmF5IjogbnVsbCwKICAiZGFzaE9mZnNldCI6IG51bGwsCiAgImZpbGwiOiB0cnVlLAogICJmaWxsQ29sb3IiOiAiYmx1ZSIsCiAgImZpbGxPcGFjaXR5IjogMC42LAogICJmaWxsUnVsZSI6ICJldmVub2RkIiwKICAibGluZUNhcCI6ICJyb3VuZCIsCiAgImxpbmVKb2luIjogInJvdW5kIiwKICAib3BhY2l0eSI6IDEuMCwKICAicmFkaXVzIjogNSwKICAic3Ryb2tlIjogdHJ1ZSwKICAid2VpZ2h0IjogMwp9CiAgICAgICAgICAgICAgICApLmFkZFRvKG1hcF9jNWM0MTM3YWMxMDA0MTBjYjNlNmU3MmQ5MDExNzc0OCk7CiAgICAgICAgICAgIAogICAgCiAgICAgICAgICAgIHZhciBwb3B1cF9iODgyODljMmZiODI0OWM3YWJjYWU3ZjY5MzcwMDU3ZSA9IEwucG9wdXAoe21heFdpZHRoOiAnMzAwJ30pOwoKICAgICAgICAgICAgCiAgICAgICAgICAgICAgICB2YXIgaHRtbF9lNTBlZTlkMDFjNDI0ODIyOGRhOGI0ZmEyNzEwYmU2YSA9ICQoJzxkaXYgaWQ9Imh0bWxfZTUwZWU5ZDAxYzQyNDgyMjhkYThiNGZhMjcxMGJlNmEiIHN0eWxlPSJ3aWR0aDogMTAwLjAlOyBoZWlnaHQ6IDEwMC4wJTsiPkNvZmZlZSBTaG9wPC9kaXY+JylbMF07CiAgICAgICAgICAgICAgICBwb3B1cF9iODgyODljMmZiODI0OWM3YWJjYWU3ZjY5MzcwMDU3ZS5zZXRDb250ZW50KGh0bWxfZTUwZWU5ZDAxYzQyNDgyMjhkYThiNGZhMjcxMGJlNmEpOwogICAgICAgICAgICAKCiAgICAgICAgICAgIGNpcmNsZV9tYXJrZXJfZGU1ODdiNWUwYjEyNDZjYzk3Yzg0MGU2ZTViODc1ZDIuYmluZFBvcHVwKHBvcHVwX2I4ODI4OWMyZmI4MjQ5YzdhYmNhZTdmNjkzNzAwNTdlKTsKCiAgICAgICAgICAgIAogICAgICAgIAogICAgCiAgICAgICAgICAgIHZhciBjaXJjbGVfbWFya2VyX2RiM2JmMzZhNDg5NjRmYzRhY2FkNmQ1YWRjZWQzYzg1ID0gTC5jaXJjbGVNYXJrZXIoCiAgICAgICAgICAgICAgICBbNDAuNzE2ODAyMDMzNTc0MTI2LC03NC4wMTA4Nzk5OTM0Mzg3Ml0sCiAgICAgICAgICAgICAgICB7CiAgImJ1YmJsaW5nTW91c2VFdmVudHMiOiB0cnVlLAogICJjb2xvciI6ICJibHVlIiwKICAiZGFzaEFycmF5IjogbnVsbCwKICAiZGFzaE9mZnNldCI6IG51bGwsCiAgImZpbGwiOiB0cnVlLAogICJmaWxsQ29sb3IiOiAiYmx1ZSIsCiAgImZpbGxPcGFjaXR5IjogMC42LAogICJmaWxsUnVsZSI6ICJldmVub2RkIiwKICAibGluZUNhcCI6ICJyb3VuZCIsCiAgImxpbmVKb2luIjogInJvdW5kIiwKICAib3BhY2l0eSI6IDEuMCwKICAicmFkaXVzIjogNSwKICAic3Ryb2tlIjogdHJ1ZSwKICAid2VpZ2h0IjogMwp9CiAgICAgICAgICAgICAgICApLmFkZFRvKG1hcF9jNWM0MTM3YWMxMDA0MTBjYjNlNmU3MmQ5MDExNzc0OCk7CiAgICAgICAgICAgIAogICAgCiAgICAgICAgICAgIHZhciBwb3B1cF8xMmJkNDM5MTRkZDM0Y2I3ODU2YzRkODBjZjFiMzFmNSA9IEwucG9wdXAoe21heFdpZHRoOiAnMzAwJ30pOwoKICAgICAgICAgICAgCiAgICAgICAgICAgICAgICB2YXIgaHRtbF82ODQwZDc5NTk0OGM0MjAyYjY5NDJkN2U1N2I5Y2Q4NyA9ICQoJzxkaXYgaWQ9Imh0bWxfNjg0MGQ3OTU5NDhjNDIwMmI2OTQyZDdlNTdiOWNkODciIHN0eWxlPSJ3aWR0aDogMTAwLjAlOyBoZWlnaHQ6IDEwMC4wJTsiPkZhcm1lcnMgTWFya2V0PC9kaXY+JylbMF07CiAgICAgICAgICAgICAgICBwb3B1cF8xMmJkNDM5MTRkZDM0Y2I3ODU2YzRkODBjZjFiMzFmNS5zZXRDb250ZW50KGh0bWxfNjg0MGQ3OTU5NDhjNDIwMmI2OTQyZDdlNTdiOWNkODcpOwogICAgICAgICAgICAKCiAgICAgICAgICAgIGNpcmNsZV9tYXJrZXJfZGIzYmYzNmE0ODk2NGZjNGFjYWQ2ZDVhZGNlZDNjODUuYmluZFBvcHVwKHBvcHVwXzEyYmQ0MzkxNGRkMzRjYjc4NTZjNGQ4MGNmMWIzMWY1KTsKCiAgICAgICAgICAgIAogICAgICAgIAogICAgCiAgICAgICAgICAgIHZhciBjaXJjbGVfbWFya2VyXzJkNjFjOTkyODFkNTRhZjk4ZTNlNmZlMzA3NWY4YjFmID0gTC5jaXJjbGVNYXJrZXIoCiAgICAgICAgICAgICAgICBbNDAuNzE3Mzk0NDUyOTE2NSwtNzQuMDEwMTAzMjQ2MDcxMjVdLAogICAgICAgICAgICAgICAgewogICJidWJibGluZ01vdXNlRXZlbnRzIjogdHJ1ZSwKICAiY29sb3IiOiAiYmx1ZSIsCiAgImRhc2hBcnJheSI6IG51bGwsCiAgImRhc2hPZmZzZXQiOiBudWxsLAogICJmaWxsIjogdHJ1ZSwKICAiZmlsbENvbG9yIjogImJsdWUiLAogICJmaWxsT3BhY2l0eSI6IDAuNiwKICAiZmlsbFJ1bGUiOiAiZXZlbm9kZCIsCiAgImxpbmVDYXAiOiAicm91bmQiLAogICJsaW5lSm9pbiI6ICJyb3VuZCIsCiAgIm9wYWNpdHkiOiAxLjAsCiAgInJhZGl1cyI6IDUsCiAgInN0cm9rZSI6IHRydWUsCiAgIndlaWdodCI6IDMKfQogICAgICAgICAgICAgICAgKS5hZGRUbyhtYXBfYzVjNDEzN2FjMTAwNDEwY2IzZTZlNzJkOTAxMTc3NDgpOwogICAgICAgICAgICAKICAgIAogICAgICAgICAgICB2YXIgcG9wdXBfYjVhM2Q4ZDlkNzMxNDgyMWExNWIxYWNlZWIyMWQ3MDcgPSBMLnBvcHVwKHttYXhXaWR0aDogJzMwMCd9KTsKCiAgICAgICAgICAgIAogICAgICAgICAgICAgICAgdmFyIGh0bWxfODBlNjgxN2I0MmZjNGFkMTg5ODY5YzRhMmM2OTgxNzcgPSAkKCc8ZGl2IGlkPSJodG1sXzgwZTY4MTdiNDJmYzRhZDE4OTg2OWM0YTJjNjk4MTc3IiBzdHlsZT0id2lkdGg6IDEwMC4wJTsgaGVpZ2h0OiAxMDAuMCU7Ij5Db2ZmZWUgU2hvcDwvZGl2PicpWzBdOwogICAgICAgICAgICAgICAgcG9wdXBfYjVhM2Q4ZDlkNzMxNDgyMWExNWIxYWNlZWIyMWQ3MDcuc2V0Q29udGVudChodG1sXzgwZTY4MTdiNDJmYzRhZDE4OTg2OWM0YTJjNjk4MTc3KTsKICAgICAgICAgICAgCgogICAgICAgICAgICBjaXJjbGVfbWFya2VyXzJkNjFjOTkyODFkNTRhZjk4ZTNlNmZlMzA3NWY4YjFmLmJpbmRQb3B1cChwb3B1cF9iNWEzZDhkOWQ3MzE0ODIxYTE1YjFhY2VlYjIxZDcwNyk7CgogICAgICAgICAgICAKICAgICAgICAKICAgIAogICAgICAgICAgICB2YXIgY2lyY2xlX21hcmtlcl81N2NmMTk0OTEwOTY0ODFiYjJiNzUyNDdjYmNhODk2YyA9IEwuY2lyY2xlTWFya2VyKAogICAgICAgICAgICAgICAgWzQwLjcxMjc1MjUxNzcxNDg1LC03NC4wMDg3MzM1NTYwMTU3MV0sCiAgICAgICAgICAgICAgICB7CiAgImJ1YmJsaW5nTW91c2VFdmVudHMiOiB0cnVlLAogICJjb2xvciI6ICJibHVlIiwKICAiZGFzaEFycmF5IjogbnVsbCwKICAiZGFzaE9mZnNldCI6IG51bGwsCiAgImZpbGwiOiB0cnVlLAogICJmaWxsQ29sb3IiOiAiYmx1ZSIsCiAgImZpbGxPcGFjaXR5IjogMC42LAogICJmaWxsUnVsZSI6ICJldmVub2RkIiwKICAibGluZUNhcCI6ICJyb3VuZCIsCiAgImxpbmVKb2luIjogInJvdW5kIiwKICAib3BhY2l0eSI6IDEuMCwKICAicmFkaXVzIjogNSwKICAic3Ryb2tlIjogdHJ1ZSwKICAid2VpZ2h0IjogMwp9CiAgICAgICAgICAgICAgICApLmFkZFRvKG1hcF9jNWM0MTM3YWMxMDA0MTBjYjNlNmU3MmQ5MDExNzc0OCk7CiAgICAgICAgICAgIAogICAgCiAgICAgICAgICAgIHZhciBwb3B1cF9lZDdlNDhhODQxYzE0YTE2YmM2ZGQ3MDUzMWU5ODFmYiA9IEwucG9wdXAoe21heFdpZHRoOiAnMzAwJ30pOwoKICAgICAgICAgICAgCiAgICAgICAgICAgICAgICB2YXIgaHRtbF9jY2VlYTcyZWQxMjY0NDc0YjUyYTFjNTYyOTUxOTVkNiA9ICQoJzxkaXYgaWQ9Imh0bWxfY2NlZWE3MmVkMTI2NDQ3NGI1MmExYzU2Mjk1MTk1ZDYiIHN0eWxlPSJ3aWR0aDogMTAwLjAlOyBoZWlnaHQ6IDEwMC4wJTsiPkd5bSAvIEZpdG5lc3MgQ2VudGVyPC9kaXY+JylbMF07CiAgICAgICAgICAgICAgICBwb3B1cF9lZDdlNDhhODQxYzE0YTE2YmM2ZGQ3MDUzMWU5ODFmYi5zZXRDb250ZW50KGh0bWxfY2NlZWE3MmVkMTI2NDQ3NGI1MmExYzU2Mjk1MTk1ZDYpOwogICAgICAgICAgICAKCiAgICAgICAgICAgIGNpcmNsZV9tYXJrZXJfNTdjZjE5NDkxMDk2NDgxYmIyYjc1MjQ3Y2JjYTg5NmMuYmluZFBvcHVwKHBvcHVwX2VkN2U0OGE4NDFjMTRhMTZiYzZkZDcwNTMxZTk4MWZiKTsKCiAgICAgICAgICAgIAogICAgICAgIAogICAgCiAgICAgICAgICAgIHZhciBjaXJjbGVfbWFya2VyXzA3NWRlYTFlOTdmMzQ4ODg5NjMxYjQyMmZkMGE1YWFkID0gTC5jaXJjbGVNYXJrZXIoCiAgICAgICAgICAgICAgICBbNDAuNzE0OTQzOTI2NDM3MDYsLTc0LjAwNjQ4NDYxOTUyNzA2XSwKICAgICAgICAgICAgICAgIHsKICAiYnViYmxpbmdNb3VzZUV2ZW50cyI6IHRydWUsCiAgImNvbG9yIjogImJsdWUiLAogICJkYXNoQXJyYXkiOiBudWxsLAogICJkYXNoT2Zmc2V0IjogbnVsbCwKICAiZmlsbCI6IHRydWUsCiAgImZpbGxDb2xvciI6ICJibHVlIiwKICAiZmlsbE9wYWNpdHkiOiAwLjYsCiAgImZpbGxSdWxlIjogImV2ZW5vZGQiLAogICJsaW5lQ2FwIjogInJvdW5kIiwKICAibGluZUpvaW4iOiAicm91bmQiLAogICJvcGFjaXR5IjogMS4wLAogICJyYWRpdXMiOiA1LAogICJzdHJva2UiOiB0cnVlLAogICJ3ZWlnaHQiOiAzCn0KICAgICAgICAgICAgICAgICkuYWRkVG8obWFwX2M1YzQxMzdhYzEwMDQxMGNiM2U2ZTcyZDkwMTE3NzQ4KTsKICAgICAgICAgICAgCiAgICAKICAgICAgICAgICAgdmFyIHBvcHVwX2Q2ZmVmZmYxYzU3MTRjMDQ5OTk2MGQ1M2Y0ZDc4YmY5ID0gTC5wb3B1cCh7bWF4V2lkdGg6ICczMDAnfSk7CgogICAgICAgICAgICAKICAgICAgICAgICAgICAgIHZhciBodG1sXzNkYTkwOGI5OGY5NzRmZmViYzY4NTE4MGJlNDVmMTcxID0gJCgnPGRpdiBpZD0iaHRtbF8zZGE5MDhiOThmOTc0ZmZlYmM2ODUxODBiZTQ1ZjE3MSIgc3R5bGU9IndpZHRoOiAxMDAuMCU7IGhlaWdodDogMTAwLjAlOyI+QmFyPC9kaXY+JylbMF07CiAgICAgICAgICAgICAgICBwb3B1cF9kNmZlZmZmMWM1NzE0YzA0OTk5NjBkNTNmNGQ3OGJmOS5zZXRDb250ZW50KGh0bWxfM2RhOTA4Yjk4Zjk3NGZmZWJjNjg1MTgwYmU0NWYxNzEpOwogICAgICAgICAgICAKCiAgICAgICAgICAgIGNpcmNsZV9tYXJrZXJfMDc1ZGVhMWU5N2YzNDg4ODk2MzFiNDIyZmQwYTVhYWQuYmluZFBvcHVwKHBvcHVwX2Q2ZmVmZmYxYzU3MTRjMDQ5OTk2MGQ1M2Y0ZDc4YmY5KTsKCiAgICAgICAgICAgIAogICAgICAgIAogICAgCiAgICAgICAgICAgIHZhciBjaXJjbGVfbWFya2VyXzY1YTI3Y2Y4M2RmZjRkY2JhYTM1NTEwMWVlMmFmZTRiID0gTC5jaXJjbGVNYXJrZXIoCiAgICAgICAgICAgICAgICBbNDAuNzEyNjEyNDY1MDE5ODMsLTc0LjAwOTM4MDMyMDg3NjI4XSwKICAgICAgICAgICAgICAgIHsKICAiYnViYmxpbmdNb3VzZUV2ZW50cyI6IHRydWUsCiAgImNvbG9yIjogImJsdWUiLAogICJkYXNoQXJyYXkiOiBudWxsLAogICJkYXNoT2Zmc2V0IjogbnVsbCwKICAiZmlsbCI6IHRydWUsCiAgImZpbGxDb2xvciI6ICJibHVlIiwKICAiZmlsbE9wYWNpdHkiOiAwLjYsCiAgImZpbGxSdWxlIjogImV2ZW5vZGQiLAogICJsaW5lQ2FwIjogInJvdW5kIiwKICAibGluZUpvaW4iOiAicm91bmQiLAogICJvcGFjaXR5IjogMS4wLAogICJyYWRpdXMiOiA1LAogICJzdHJva2UiOiB0cnVlLAogICJ3ZWlnaHQiOiAzCn0KICAgICAgICAgICAgICAgICkuYWRkVG8obWFwX2M1YzQxMzdhYzEwMDQxMGNiM2U2ZTcyZDkwMTE3NzQ4KTsKICAgICAgICAgICAgCiAgICAKICAgICAgICAgICAgdmFyIHBvcHVwX2VhNDE5MmI2NWZkNTQ1MzZhNzViMThhNGE3YTgyYzczID0gTC5wb3B1cCh7bWF4V2lkdGg6ICczMDAnfSk7CgogICAgICAgICAgICAKICAgICAgICAgICAgICAgIHZhciBodG1sXzYzNjA0NjFjNWY4YTQwOTA5NWY1ZjgyZTUxZWE4MzlkID0gJCgnPGRpdiBpZD0iaHRtbF82MzYwNDYxYzVmOGE0MDkwOTVmNWY4MmU1MWVhODM5ZCIgc3R5bGU9IndpZHRoOiAxMDAuMCU7IGhlaWdodDogMTAwLjAlOyI+SG90ZWw8L2Rpdj4nKVswXTsKICAgICAgICAgICAgICAgIHBvcHVwX2VhNDE5MmI2NWZkNTQ1MzZhNzViMThhNGE3YTgyYzczLnNldENvbnRlbnQoaHRtbF82MzYwNDYxYzVmOGE0MDkwOTVmNWY4MmU1MWVhODM5ZCk7CiAgICAgICAgICAgIAoKICAgICAgICAgICAgY2lyY2xlX21hcmtlcl82NWEyN2NmODNkZmY0ZGNiYWEzNTUxMDFlZTJhZmU0Yi5iaW5kUG9wdXAocG9wdXBfZWE0MTkyYjY1ZmQ1NDUzNmE3NWIxOGE0YTdhODJjNzMpOwoKICAgICAgICAgICAgCiAgICAgICAgCiAgICAKICAgICAgICAgICAgdmFyIGNpcmNsZV9tYXJrZXJfYmQ2ZDhmYTZiMmYxNGNjZmJiYjNlMDczZWNmOTU0NDMgPSBMLmNpcmNsZU1hcmtlcigKICAgICAgICAgICAgICAgIFs0MC43MTQ1Mzc0MzExNzA0ODQsLTc0LjAwNTk5ODUyNjExNTkyXSwKICAgICAgICAgICAgICAgIHsKICAiYnViYmxpbmdNb3VzZUV2ZW50cyI6IHRydWUsCiAgImNvbG9yIjogImJsdWUiLAogICJkYXNoQXJyYXkiOiBudWxsLAogICJkYXNoT2Zmc2V0IjogbnVsbCwKICAiZmlsbCI6IHRydWUsCiAgImZpbGxDb2xvciI6ICJibHVlIiwKICAiZmlsbE9wYWNpdHkiOiAwLjYsCiAgImZpbGxSdWxlIjogImV2ZW5vZGQiLAogICJsaW5lQ2FwIjogInJvdW5kIiwKICAibGluZUpvaW4iOiAicm91bmQiLAogICJvcGFjaXR5IjogMS4wLAogICJyYWRpdXMiOiA1LAogICJzdHJva2UiOiB0cnVlLAogICJ3ZWlnaHQiOiAzCn0KICAgICAgICAgICAgICAgICkuYWRkVG8obWFwX2M1YzQxMzdhYzEwMDQxMGNiM2U2ZTcyZDkwMTE3NzQ4KTsKICAgICAgICAgICAgCiAgICAKICAgICAgICAgICAgdmFyIHBvcHVwXzdkMzcxYjJlODRjYzRkZWViMTExY2Y2NWVjNjcyZTAxID0gTC5wb3B1cCh7bWF4V2lkdGg6ICczMDAnfSk7CgogICAgICAgICAgICAKICAgICAgICAgICAgICAgIHZhciBodG1sXzc0NTg4NDM0ZGY4YzQ3OWE4NDAzYmJlNzFiMzFiYmIwID0gJCgnPGRpdiBpZD0iaHRtbF83NDU4ODQzNGRmOGM0NzlhODQwM2JiZTcxYjMxYmJiMCIgc3R5bGU9IndpZHRoOiAxMDAuMCU7IGhlaWdodDogMTAwLjAlOyI+R3ltPC9kaXY+JylbMF07CiAgICAgICAgICAgICAgICBwb3B1cF83ZDM3MWIyZTg0Y2M0ZGVlYjExMWNmNjVlYzY3MmUwMS5zZXRDb250ZW50KGh0bWxfNzQ1ODg0MzRkZjhjNDc5YTg0MDNiYmU3MWIzMWJiYjApOwogICAgICAgICAgICAKCiAgICAgICAgICAgIGNpcmNsZV9tYXJrZXJfYmQ2ZDhmYTZiMmYxNGNjZmJiYjNlMDczZWNmOTU0NDMuYmluZFBvcHVwKHBvcHVwXzdkMzcxYjJlODRjYzRkZWViMTExY2Y2NWVjNjcyZTAxKTsKCiAgICAgICAgICAgIAogICAgICAgIAogICAgCiAgICAgICAgICAgIHZhciBjaXJjbGVfbWFya2VyXzVjNzRkZjMzMWFmNDQzM2NhYTRlNjVmNDljYWNmZDUzID0gTC5jaXJjbGVNYXJrZXIoCiAgICAgICAgICAgICAgICBbNDAuNzE1NjA1MzMzMTQ3MTQ1LC03NC4wMTE3ODYzMzIwODc3MV0sCiAgICAgICAgICAgICAgICB7CiAgImJ1YmJsaW5nTW91c2VFdmVudHMiOiB0cnVlLAogICJjb2xvciI6ICJibHVlIiwKICAiZGFzaEFycmF5IjogbnVsbCwKICAiZGFzaE9mZnNldCI6IG51bGwsCiAgImZpbGwiOiB0cnVlLAogICJmaWxsQ29sb3IiOiAiYmx1ZSIsCiAgImZpbGxPcGFjaXR5IjogMC42LAogICJmaWxsUnVsZSI6ICJldmVub2RkIiwKICAibGluZUNhcCI6ICJyb3VuZCIsCiAgImxpbmVKb2luIjogInJvdW5kIiwKICAib3BhY2l0eSI6IDEuMCwKICAicmFkaXVzIjogNSwKICAic3Ryb2tlIjogdHJ1ZSwKICAid2VpZ2h0IjogMwp9CiAgICAgICAgICAgICAgICApLmFkZFRvKG1hcF9jNWM0MTM3YWMxMDA0MTBjYjNlNmU3MmQ5MDExNzc0OCk7CiAgICAgICAgICAgIAogICAgCiAgICAgICAgICAgIHZhciBwb3B1cF8wNTJjNWZjNjE0NWU0MmVkYTIyMGZkNjYxZWIwMWMwNCA9IEwucG9wdXAoe21heFdpZHRoOiAnMzAwJ30pOwoKICAgICAgICAgICAgCiAgICAgICAgICAgICAgICB2YXIgaHRtbF9hNWFiYzVhZTU3NjQ0NzYxYWNjZGEyNWY1NzA4MDM4NyA9ICQoJzxkaXYgaWQ9Imh0bWxfYTVhYmM1YWU1NzY0NDc2MWFjY2RhMjVmNTcwODAzODciIHN0eWxlPSJ3aWR0aDogMTAwLjAlOyBoZWlnaHQ6IDEwMC4wJTsiPkJvb2tzdG9yZTwvZGl2PicpWzBdOwogICAgICAgICAgICAgICAgcG9wdXBfMDUyYzVmYzYxNDVlNDJlZGEyMjBmZDY2MWViMDFjMDQuc2V0Q29udGVudChodG1sX2E1YWJjNWFlNTc2NDQ3NjFhY2NkYTI1ZjU3MDgwMzg3KTsKICAgICAgICAgICAgCgogICAgICAgICAgICBjaXJjbGVfbWFya2VyXzVjNzRkZjMzMWFmNDQzM2NhYTRlNjVmNDljYWNmZDUzLmJpbmRQb3B1cChwb3B1cF8wNTJjNWZjNjE0NWU0MmVkYTIyMGZkNjYxZWIwMWMwNCk7CgogICAgICAgICAgICAKICAgICAgICAKICAgIAogICAgICAgICAgICB2YXIgY2lyY2xlX21hcmtlcl85MGM1MTBkNDEzNDM0OGJjYTc3NjY0MmM5YzExZGEwYyA9IEwuY2lyY2xlTWFya2VyKAogICAgICAgICAgICAgICAgWzQwLjcxNjc1MTc2MTMwNzI0LC03NC4wMDU3MTE1MDg1NTQ1N10sCiAgICAgICAgICAgICAgICB7CiAgImJ1YmJsaW5nTW91c2VFdmVudHMiOiB0cnVlLAogICJjb2xvciI6ICJibHVlIiwKICAiZGFzaEFycmF5IjogbnVsbCwKICAiZGFzaE9mZnNldCI6IG51bGwsCiAgImZpbGwiOiB0cnVlLAogICJmaWxsQ29sb3IiOiAiYmx1ZSIsCiAgImZpbGxPcGFjaXR5IjogMC42LAogICJmaWxsUnVsZSI6ICJldmVub2RkIiwKICAibGluZUNhcCI6ICJyb3VuZCIsCiAgImxpbmVKb2luIjogInJvdW5kIiwKICAib3BhY2l0eSI6IDEuMCwKICAicmFkaXVzIjogNSwKICAic3Ryb2tlIjogdHJ1ZSwKICAid2VpZ2h0IjogMwp9CiAgICAgICAgICAgICAgICApLmFkZFRvKG1hcF9jNWM0MTM3YWMxMDA0MTBjYjNlNmU3MmQ5MDExNzc0OCk7CiAgICAgICAgICAgIAogICAgCiAgICAgICAgICAgIHZhciBwb3B1cF9iYzEyM2RlMjdkMzk0MDJhOWM1YTgwOGNlODFkYjRkOCA9IEwucG9wdXAoe21heFdpZHRoOiAnMzAwJ30pOwoKICAgICAgICAgICAgCiAgICAgICAgICAgICAgICB2YXIgaHRtbF9mMzFjODZlM2M2OTE0NjcwOGRlODllYzliZmYzYWJhNCA9ICQoJzxkaXYgaWQ9Imh0bWxfZjMxYzg2ZTNjNjkxNDY3MDhkZTg5ZWM5YmZmM2FiYTQiIHN0eWxlPSJ3aWR0aDogMTAwLjAlOyBoZWlnaHQ6IDEwMC4wJTsiPk1vbGVjdWxhciBHYXN0cm9ub215IFJlc3RhdXJhbnQ8L2Rpdj4nKVswXTsKICAgICAgICAgICAgICAgIHBvcHVwX2JjMTIzZGUyN2QzOTQwMmE5YzVhODA4Y2U4MWRiNGQ4LnNldENvbnRlbnQoaHRtbF9mMzFjODZlM2M2OTE0NjcwOGRlODllYzliZmYzYWJhNCk7CiAgICAgICAgICAgIAoKICAgICAgICAgICAgY2lyY2xlX21hcmtlcl85MGM1MTBkNDEzNDM0OGJjYTc3NjY0MmM5YzExZGEwYy5iaW5kUG9wdXAocG9wdXBfYmMxMjNkZTI3ZDM5NDAyYTljNWE4MDhjZTgxZGI0ZDgpOwoKICAgICAgICAgICAgCiAgICAgICAgCiAgICAKICAgICAgICAgICAgdmFyIGNpcmNsZV9tYXJrZXJfNjQxOTk5YWQ3NjdjNGQyMTgxZTQyODdiNDUxYjA4MTkgPSBMLmNpcmNsZU1hcmtlcigKICAgICAgICAgICAgICAgIFs0MC43MTY3Mzc0MzM5NjgwNiwtNzQuMDExOTg2ODU2MjQ5NjldLAogICAgICAgICAgICAgICAgewogICJidWJibGluZ01vdXNlRXZlbnRzIjogdHJ1ZSwKICAiY29sb3IiOiAiYmx1ZSIsCiAgImRhc2hBcnJheSI6IG51bGwsCiAgImRhc2hPZmZzZXQiOiBudWxsLAogICJmaWxsIjogdHJ1ZSwKICAiZmlsbENvbG9yIjogImJsdWUiLAogICJmaWxsT3BhY2l0eSI6IDAuNiwKICAiZmlsbFJ1bGUiOiAiZXZlbm9kZCIsCiAgImxpbmVDYXAiOiAicm91bmQiLAogICJsaW5lSm9pbiI6ICJyb3VuZCIsCiAgIm9wYWNpdHkiOiAxLjAsCiAgInJhZGl1cyI6IDUsCiAgInN0cm9rZSI6IHRydWUsCiAgIndlaWdodCI6IDMKfQogICAgICAgICAgICAgICAgKS5hZGRUbyhtYXBfYzVjNDEzN2FjMTAwNDEwY2IzZTZlNzJkOTAxMTc3NDgpOwogICAgICAgICAgICAKICAgIAogICAgICAgICAgICB2YXIgcG9wdXBfZmRiNDdhNjIzMzlmNGYzMDkxYmU1YjMwNjNlNWQ1NjIgPSBMLnBvcHVwKHttYXhXaWR0aDogJzMwMCd9KTsKCiAgICAgICAgICAgIAogICAgICAgICAgICAgICAgdmFyIGh0bWxfZDZjOTdhMWM2ZGExNDZhZjgyMmFhNThiZWI1YmZjYjcgPSAkKCc8ZGl2IGlkPSJodG1sX2Q2Yzk3YTFjNmRhMTQ2YWY4MjJhYTU4YmViNWJmY2I3IiBzdHlsZT0id2lkdGg6IDEwMC4wJTsgaGVpZ2h0OiAxMDAuMCU7Ij5LaWRzIFN0b3JlPC9kaXY+JylbMF07CiAgICAgICAgICAgICAgICBwb3B1cF9mZGI0N2E2MjMzOWY0ZjMwOTFiZTViMzA2M2U1ZDU2Mi5zZXRDb250ZW50KGh0bWxfZDZjOTdhMWM2ZGExNDZhZjgyMmFhNThiZWI1YmZjYjcpOwogICAgICAgICAgICAKCiAgICAgICAgICAgIGNpcmNsZV9tYXJrZXJfNjQxOTk5YWQ3NjdjNGQyMTgxZTQyODdiNDUxYjA4MTkuYmluZFBvcHVwKHBvcHVwX2ZkYjQ3YTYyMzM5ZjRmMzA5MWJlNWIzMDYzZTVkNTYyKTsKCiAgICAgICAgICAgIAogICAgICAgIAogICAgCiAgICAgICAgICAgIHZhciBjaXJjbGVfbWFya2VyXzIxNTIwOGY5YzgxNjQ2NTI5YjE5NjdhNDQzZGUyMGJjID0gTC5jaXJjbGVNYXJrZXIoCiAgICAgICAgICAgICAgICBbNDAuNzE0OTg5NzUzMDY2NTIsLTc0LjAwNTUyOTc1ODI2Mjc4XSwKICAgICAgICAgICAgICAgIHsKICAiYnViYmxpbmdNb3VzZUV2ZW50cyI6IHRydWUsCiAgImNvbG9yIjogImJsdWUiLAogICJkYXNoQXJyYXkiOiBudWxsLAogICJkYXNoT2Zmc2V0IjogbnVsbCwKICAiZmlsbCI6IHRydWUsCiAgImZpbGxDb2xvciI6ICJibHVlIiwKICAiZmlsbE9wYWNpdHkiOiAwLjYsCiAgImZpbGxSdWxlIjogImV2ZW5vZGQiLAogICJsaW5lQ2FwIjogInJvdW5kIiwKICAibGluZUpvaW4iOiAicm91bmQiLAogICJvcGFjaXR5IjogMS4wLAogICJyYWRpdXMiOiA1LAogICJzdHJva2UiOiB0cnVlLAogICJ3ZWlnaHQiOiAzCn0KICAgICAgICAgICAgICAgICkuYWRkVG8obWFwX2M1YzQxMzdhYzEwMDQxMGNiM2U2ZTcyZDkwMTE3NzQ4KTsKICAgICAgICAgICAgCiAgICAKICAgICAgICAgICAgdmFyIHBvcHVwXzFkOTU4YjJmNDAxYzQzOGI4ZTY1ZGYzZWZhNWQ0ZGNmID0gTC5wb3B1cCh7bWF4V2lkdGg6ICczMDAnfSk7CgogICAgICAgICAgICAKICAgICAgICAgICAgICAgIHZhciBodG1sXzY3MTIxMzFhZWFlMzRmYTY5Y2U4YTA1OTFlOGJlNGI3ID0gJCgnPGRpdiBpZD0iaHRtbF82NzEyMTMxYWVhZTM0ZmE2OWNlOGEwNTkxZThiZTRiNyIgc3R5bGU9IndpZHRoOiAxMDAuMCU7IGhlaWdodDogMTAwLjAlOyI+TW9udW1lbnQgLyBMYW5kbWFyazwvZGl2PicpWzBdOwogICAgICAgICAgICAgICAgcG9wdXBfMWQ5NThiMmY0MDFjNDM4YjhlNjVkZjNlZmE1ZDRkY2Yuc2V0Q29udGVudChodG1sXzY3MTIxMzFhZWFlMzRmYTY5Y2U4YTA1OTFlOGJlNGI3KTsKICAgICAgICAgICAgCgogICAgICAgICAgICBjaXJjbGVfbWFya2VyXzIxNTIwOGY5YzgxNjQ2NTI5YjE5NjdhNDQzZGUyMGJjLmJpbmRQb3B1cChwb3B1cF8xZDk1OGIyZjQwMWM0MzhiOGU2NWRmM2VmYTVkNGRjZik7CgogICAgICAgICAgICAKICAgICAgICAKICAgIAogICAgICAgICAgICB2YXIgY2lyY2xlX21hcmtlcl85MTRhYmJkYmY0NWU0MDg1OWQxZjE2NDVhZGY4NjlhYiA9IEwuY2lyY2xlTWFya2VyKAogICAgICAgICAgICAgICAgWzQwLjcxNDYwNjYwNjQ5OTMxNiwtNzQuMDA2MzM0NzMyODIwNzNdLAogICAgICAgICAgICAgICAgewogICJidWJibGluZ01vdXNlRXZlbnRzIjogdHJ1ZSwKICAiY29sb3IiOiAiYmx1ZSIsCiAgImRhc2hBcnJheSI6IG51bGwsCiAgImRhc2hPZmZzZXQiOiBudWxsLAogICJmaWxsIjogdHJ1ZSwKICAiZmlsbENvbG9yIjogImJsdWUiLAogICJmaWxsT3BhY2l0eSI6IDAuNiwKICAiZmlsbFJ1bGUiOiAiZXZlbm9kZCIsCiAgImxpbmVDYXAiOiAicm91bmQiLAogICJsaW5lSm9pbiI6ICJyb3VuZCIsCiAgIm9wYWNpdHkiOiAxLjAsCiAgInJhZGl1cyI6IDUsCiAgInN0cm9rZSI6IHRydWUsCiAgIndlaWdodCI6IDMKfQogICAgICAgICAgICAgICAgKS5hZGRUbyhtYXBfYzVjNDEzN2FjMTAwNDEwY2IzZTZlNzJkOTAxMTc3NDgpOwogICAgICAgICAgICAKICAgIAogICAgICAgICAgICB2YXIgcG9wdXBfMjRhNWEyMWE3MzE4NDM0NjlkYjE5YmUwMWIzNDVjZDAgPSBMLnBvcHVwKHttYXhXaWR0aDogJzMwMCd9KTsKCiAgICAgICAgICAgIAogICAgICAgICAgICAgICAgdmFyIGh0bWxfNGMzM2ZiZWUwMDQ4NGJkNzk4Nzc0NDEyMzhhMTNkZTUgPSAkKCc8ZGl2IGlkPSJodG1sXzRjMzNmYmVlMDA0ODRiZDc5ODc3NDQxMjM4YTEzZGU1IiBzdHlsZT0id2lkdGg6IDEwMC4wJTsgaGVpZ2h0OiAxMDAuMCU7Ij5CdXJyaXRvIFBsYWNlPC9kaXY+JylbMF07CiAgICAgICAgICAgICAgICBwb3B1cF8yNGE1YTIxYTczMTg0MzQ2OWRiMTliZTAxYjM0NWNkMC5zZXRDb250ZW50KGh0bWxfNGMzM2ZiZWUwMDQ4NGJkNzk4Nzc0NDEyMzhhMTNkZTUpOwogICAgICAgICAgICAKCiAgICAgICAgICAgIGNpcmNsZV9tYXJrZXJfOTE0YWJiZGJmNDVlNDA4NTlkMWYxNjQ1YWRmODY5YWIuYmluZFBvcHVwKHBvcHVwXzI0YTVhMjFhNzMxODQzNDY5ZGIxOWJlMDFiMzQ1Y2QwKTsKCiAgICAgICAgICAgIAogICAgICAgIAogICAgCiAgICAgICAgICAgIHZhciBjaXJjbGVfbWFya2VyXzQ1YTg3YTAyODhiOTQ2NWY5Y2I5NjYzODM3ZWY1ODM0ID0gTC5jaXJjbGVNYXJrZXIoCiAgICAgICAgICAgICAgICBbNDAuNzEzOTIzMTYzMjQ2NjksLTc0LjAwNTY2MTQ5MjA0NTFdLAogICAgICAgICAgICAgICAgewogICJidWJibGluZ01vdXNlRXZlbnRzIjogdHJ1ZSwKICAiY29sb3IiOiAiYmx1ZSIsCiAgImRhc2hBcnJheSI6IG51bGwsCiAgImRhc2hPZmZzZXQiOiBudWxsLAogICJmaWxsIjogdHJ1ZSwKICAiZmlsbENvbG9yIjogImJsdWUiLAogICJmaWxsT3BhY2l0eSI6IDAuNiwKICAiZmlsbFJ1bGUiOiAiZXZlbm9kZCIsCiAgImxpbmVDYXAiOiAicm91bmQiLAogICJsaW5lSm9pbiI6ICJyb3VuZCIsCiAgIm9wYWNpdHkiOiAxLjAsCiAgInJhZGl1cyI6IDUsCiAgInN0cm9rZSI6IHRydWUsCiAgIndlaWdodCI6IDMKfQogICAgICAgICAgICAgICAgKS5hZGRUbyhtYXBfYzVjNDEzN2FjMTAwNDEwY2IzZTZlNzJkOTAxMTc3NDgpOwogICAgICAgICAgICAKICAgIAogICAgICAgICAgICB2YXIgcG9wdXBfOTBiMTM1MzEwODJhNDgwZWE2MjNmN2MxYTM4Yzc3YzAgPSBMLnBvcHVwKHttYXhXaWR0aDogJzMwMCd9KTsKCiAgICAgICAgICAgIAogICAgICAgICAgICAgICAgdmFyIGh0bWxfYmFkZGQ3MDQ3NjhjNDZlMTg1YjY3ZmVkNTZkZDY4OWQgPSAkKCc8ZGl2IGlkPSJodG1sX2JhZGRkNzA0NzY4YzQ2ZTE4NWI2N2ZlZDU2ZGQ2ODlkIiBzdHlsZT0id2lkdGg6IDEwMC4wJTsgaGVpZ2h0OiAxMDAuMCU7Ij5EYW5jZSBTdHVkaW88L2Rpdj4nKVswXTsKICAgICAgICAgICAgICAgIHBvcHVwXzkwYjEzNTMxMDgyYTQ4MGVhNjIzZjdjMWEzOGM3N2MwLnNldENvbnRlbnQoaHRtbF9iYWRkZDcwNDc2OGM0NmUxODViNjdmZWQ1NmRkNjg5ZCk7CiAgICAgICAgICAgIAoKICAgICAgICAgICAgY2lyY2xlX21hcmtlcl80NWE4N2EwMjg4Yjk0NjVmOWNiOTY2MzgzN2VmNTgzNC5iaW5kUG9wdXAocG9wdXBfOTBiMTM1MzEwODJhNDgwZWE2MjNmN2MxYTM4Yzc3YzApOwoKICAgICAgICAgICAgCiAgICAgICAgCiAgICAKICAgICAgICAgICAgdmFyIGNpcmNsZV9tYXJrZXJfNDJkYmI0YTg5YTVhNGRiYWIxMjlmZjc4MWQ1ZjZlYzkgPSBMLmNpcmNsZU1hcmtlcigKICAgICAgICAgICAgICAgIFs0MC43MTIxMzcyNDM0MzY5OCwtNzQuMDA4Mzk0NTc2ODUwMDVdLAogICAgICAgICAgICAgICAgewogICJidWJibGluZ01vdXNlRXZlbnRzIjogdHJ1ZSwKICAiY29sb3IiOiAiYmx1ZSIsCiAgImRhc2hBcnJheSI6IG51bGwsCiAgImRhc2hPZmZzZXQiOiBudWxsLAogICJmaWxsIjogdHJ1ZSwKICAiZmlsbENvbG9yIjogImJsdWUiLAogICJmaWxsT3BhY2l0eSI6IDAuNiwKICAiZmlsbFJ1bGUiOiAiZXZlbm9kZCIsCiAgImxpbmVDYXAiOiAicm91bmQiLAogICJsaW5lSm9pbiI6ICJyb3VuZCIsCiAgIm9wYWNpdHkiOiAxLjAsCiAgInJhZGl1cyI6IDUsCiAgInN0cm9rZSI6IHRydWUsCiAgIndlaWdodCI6IDMKfQogICAgICAgICAgICAgICAgKS5hZGRUbyhtYXBfYzVjNDEzN2FjMTAwNDEwY2IzZTZlNzJkOTAxMTc3NDgpOwogICAgICAgICAgICAKICAgIAogICAgICAgICAgICB2YXIgcG9wdXBfN2Y1NDMyNzAyYmUxNGFiMWFmOWRkZGI4MjZiYWMzODcgPSBMLnBvcHVwKHttYXhXaWR0aDogJzMwMCd9KTsKCiAgICAgICAgICAgIAogICAgICAgICAgICAgICAgdmFyIGh0bWxfZTk0N2RlOTA2OTc2NGQ3M2I1OGNiODRjZjQ5N2Q3N2UgPSAkKCc8ZGl2IGlkPSJodG1sX2U5NDdkZTkwNjk3NjRkNzNiNThjYjg0Y2Y0OTdkNzdlIiBzdHlsZT0id2lkdGg6IDEwMC4wJTsgaGVpZ2h0OiAxMDAuMCU7Ij5Db2ZmZWUgU2hvcDwvZGl2PicpWzBdOwogICAgICAgICAgICAgICAgcG9wdXBfN2Y1NDMyNzAyYmUxNGFiMWFmOWRkZGI4MjZiYWMzODcuc2V0Q29udGVudChodG1sX2U5NDdkZTkwNjk3NjRkNzNiNThjYjg0Y2Y0OTdkNzdlKTsKICAgICAgICAgICAgCgogICAgICAgICAgICBjaXJjbGVfbWFya2VyXzQyZGJiNGE4OWE1YTRkYmFiMTI5ZmY3ODFkNWY2ZWM5LmJpbmRQb3B1cChwb3B1cF83ZjU0MzI3MDJiZTE0YWIxYWY5ZGRkYjgyNmJhYzM4Nyk7CgogICAgICAgICAgICAKICAgICAgICAKPC9zY3JpcHQ+ onload=\"this.contentDocument.open();this.contentDocument.write(atob(this.getAttribute('data-html')));this.contentDocument.close();\" allowfullscreen webkitallowfullscreen mozallowfullscreen></iframe></div></div>"
      ],
      "text/plain": [
       "<folium.folium.Map at 0x7f5cfb9918d0>"
      ]
     },
     "execution_count": 42,
     "metadata": {},
     "output_type": "execute_result"
    }
   ],
   "source": [
    "venues_map = folium.Map(location=[latitude, longitude], zoom_start=15) # generate map centred around Ecco\n",
    "\n",
    "\n",
    "# add Ecco as a red circle mark\n",
    "folium.features.CircleMarker(\n",
    "    [latitude, longitude],\n",
    "    radius=10,\n",
    "    popup='Ecco',\n",
    "    fill=True,\n",
    "    color='red',\n",
    "    fill_color='red',\n",
    "    fill_opacity=0.6\n",
    "    ).add_to(venues_map)\n",
    "\n",
    "\n",
    "# add popular spots to the map as blue circle markers\n",
    "for lat, lng, label in zip(dataframe_filtered.lat, dataframe_filtered.lng, dataframe_filtered.categories):\n",
    "    folium.features.CircleMarker(\n",
    "        [lat, lng],\n",
    "        radius=5,\n",
    "        popup=label,\n",
    "        fill=True,\n",
    "        color='blue',\n",
    "        fill_color='blue',\n",
    "        fill_opacity=0.6\n",
    "        ).add_to(venues_map)\n",
    "\n",
    "# display map\n",
    "venues_map"
   ]
  },
  {
   "cell_type": "markdown",
   "metadata": {
    "button": false,
    "deletable": true,
    "new_sheet": false,
    "run_control": {
     "read_only": false
    }
   },
   "source": [
    "   "
   ]
  },
  {
   "cell_type": "markdown",
   "metadata": {
    "button": false,
    "deletable": true,
    "new_sheet": false,
    "run_control": {
     "read_only": false
    }
   },
   "source": [
    "<a id=\"item5\"></a>"
   ]
  },
  {
   "cell_type": "markdown",
   "metadata": {
    "button": false,
    "deletable": true,
    "new_sheet": false,
    "run_control": {
     "read_only": false
    }
   },
   "source": [
    "## 5. Explore Trending Venues\n",
    "> `https://api.foursquare.com/v2/venues/`**trending**`?client_id=`**CLIENT_ID**`&client_secret=`**CLIENT_SECRET**`&ll=`**LATITUDE**`,`**LONGITUDE**`&v=`**VERSION**"
   ]
  },
  {
   "cell_type": "markdown",
   "metadata": {
    "button": false,
    "deletable": true,
    "new_sheet": false,
    "run_control": {
     "read_only": false
    }
   },
   "source": [
    "#### Now, instead of simply exploring the area around Ecco, you are interested in knowing the venues that are trending at the time you are done with your lunch, meaning the places with the highest foot traffic. So let's do that and get the trending venues around Ecco."
   ]
  },
  {
   "cell_type": "code",
   "execution_count": 43,
   "metadata": {
    "button": false,
    "collapsed": false,
    "deletable": true,
    "jupyter": {
     "outputs_hidden": false
    },
    "new_sheet": false,
    "run_control": {
     "read_only": false
    }
   },
   "outputs": [
    {
     "data": {
      "text/plain": [
       "{'meta': {'code': 200, 'requestId': '5eb79ccc1a4b0a0028a1b3ce'},\n",
       " 'response': {'venues': []}}"
      ]
     },
     "execution_count": 43,
     "metadata": {},
     "output_type": "execute_result"
    }
   ],
   "source": [
    "# define URL\n",
    "url = 'https://api.foursquare.com/v2/venues/trending?client_id={}&client_secret={}&ll={},{}&v={}'.format(CLIENT_ID, CLIENT_SECRET, latitude, longitude, VERSION)\n",
    "\n",
    "# send GET request and get trending venues\n",
    "results = requests.get(url).json()\n",
    "results"
   ]
  },
  {
   "cell_type": "markdown",
   "metadata": {
    "button": false,
    "deletable": true,
    "new_sheet": false,
    "run_control": {
     "read_only": false
    }
   },
   "source": [
    "### Check if any venues are trending at this time"
   ]
  },
  {
   "cell_type": "code",
   "execution_count": 44,
   "metadata": {
    "button": false,
    "deletable": true,
    "new_sheet": false,
    "run_control": {
     "read_only": false
    }
   },
   "outputs": [],
   "source": [
    "if len(results['response']['venues']) == 0:\n",
    "    trending_venues_df = 'No trending venues are available at the moment!'\n",
    "    \n",
    "else:\n",
    "    trending_venues = results['response']['venues']\n",
    "    trending_venues_df = json_normalize(trending_venues)\n",
    "\n",
    "    # filter columns\n",
    "    columns_filtered = ['name', 'categories'] + ['location.distance', 'location.city', 'location.postalCode', 'location.state', 'location.country', 'location.lat', 'location.lng']\n",
    "    trending_venues_df = trending_venues_df.loc[:, columns_filtered]\n",
    "\n",
    "    # filter the category for each row\n",
    "    trending_venues_df['categories'] = trending_venues_df.apply(get_category_type, axis=1)"
   ]
  },
  {
   "cell_type": "code",
   "execution_count": 45,
   "metadata": {
    "button": false,
    "collapsed": false,
    "deletable": true,
    "jupyter": {
     "outputs_hidden": false
    },
    "new_sheet": false,
    "run_control": {
     "read_only": false
    }
   },
   "outputs": [
    {
     "data": {
      "text/plain": [
       "'No trending venues are available at the moment!'"
      ]
     },
     "execution_count": 45,
     "metadata": {},
     "output_type": "execute_result"
    }
   ],
   "source": [
    "# display trending venues\n",
    "trending_venues_df"
   ]
  },
  {
   "cell_type": "markdown",
   "metadata": {
    "button": false,
    "deletable": true,
    "new_sheet": false,
    "run_control": {
     "read_only": false
    }
   },
   "source": [
    "Now, depending on when you run the above code, you might get different venues since the venues with the highest foot traffic are fetched live. "
   ]
  },
  {
   "cell_type": "markdown",
   "metadata": {
    "button": false,
    "deletable": true,
    "new_sheet": false,
    "run_control": {
     "read_only": false
    }
   },
   "source": [
    "### Visualize trending venues"
   ]
  },
  {
   "cell_type": "code",
   "execution_count": 46,
   "metadata": {
    "button": false,
    "collapsed": false,
    "deletable": true,
    "jupyter": {
     "outputs_hidden": false
    },
    "new_sheet": false,
    "run_control": {
     "read_only": false
    }
   },
   "outputs": [],
   "source": [
    "if len(results['response']['venues']) == 0:\n",
    "    venues_map = 'Cannot generate visual as no trending venues are available at the moment!'\n",
    "\n",
    "else:\n",
    "    venues_map = folium.Map(location=[latitude, longitude], zoom_start=15) # generate map centred around Ecco\n",
    "\n",
    "\n",
    "    # add Ecco as a red circle mark\n",
    "    folium.features.CircleMarker(\n",
    "        [latitude, longitude],\n",
    "        radius=10,\n",
    "        popup='Ecco',\n",
    "        fill=True,\n",
    "        color='red',\n",
    "        fill_color='red',\n",
    "        fill_opacity=0.6\n",
    "    ).add_to(venues_map)\n",
    "\n",
    "\n",
    "    # add the trending venues as blue circle markers\n",
    "    for lat, lng, label in zip(trending_venues_df['location.lat'], trending_venues_df['location.lng'], trending_venues_df['name']):\n",
    "        folium.features.CircleMarker(\n",
    "            [lat, lng],\n",
    "            radius=5,\n",
    "            poup=label,\n",
    "            fill=True,\n",
    "            color='blue',\n",
    "            fill_color='blue',\n",
    "            fill_opacity=0.6\n",
    "        ).add_to(venues_map)"
   ]
  },
  {
   "cell_type": "code",
   "execution_count": 47,
   "metadata": {
    "button": false,
    "collapsed": false,
    "deletable": true,
    "jupyter": {
     "outputs_hidden": false
    },
    "new_sheet": false,
    "run_control": {
     "read_only": false
    }
   },
   "outputs": [
    {
     "data": {
      "text/plain": [
       "'Cannot generate visual as no trending venues are available at the moment!'"
      ]
     },
     "execution_count": 47,
     "metadata": {},
     "output_type": "execute_result"
    }
   ],
   "source": [
    "# display map\n",
    "venues_map"
   ]
  },
  {
   "cell_type": "markdown",
   "metadata": {
    "button": false,
    "deletable": true,
    "new_sheet": false,
    "run_control": {
     "read_only": false
    }
   },
   "source": [
    "<a id=\"item6\"></a>"
   ]
  },
  {
   "cell_type": "markdown",
   "metadata": {
    "button": false,
    "deletable": true,
    "new_sheet": false,
    "run_control": {
     "read_only": false
    }
   },
   "source": [
    "   "
   ]
  },
  {
   "cell_type": "markdown",
   "metadata": {
    "button": false,
    "deletable": true,
    "new_sheet": false,
    "run_control": {
     "read_only": false
    }
   },
   "source": [
    "### Thank you for completing this lab!\n",
    "\n",
    "This notebook was created by [Alex Aklson](https://www.linkedin.com/in/aklson/). I hope you found this lab interesting and educational. Feel free to contact me if you have any questions!"
   ]
  },
  {
   "cell_type": "markdown",
   "metadata": {
    "button": false,
    "deletable": true,
    "new_sheet": false,
    "run_control": {
     "read_only": false
    }
   },
   "source": [
    "This notebook is part of a course on **Coursera** called *Applied Data Science Capstone*. If you accessed this notebook outside the course, you can take this course online by clicking [here](http://cocl.us/DP0701EN_Coursera_Week2_LAB1)."
   ]
  },
  {
   "cell_type": "markdown",
   "metadata": {
    "button": false,
    "deletable": true,
    "new_sheet": false,
    "run_control": {
     "read_only": false
    }
   },
   "source": [
    "<hr>\n",
    "Copyright &copy; 2018 [Cognitive Class](https://cognitiveclass.ai/?utm_source=bducopyrightlink&utm_medium=dswb&utm_campaign=bdu). This notebook and its source code are released under the terms of the [MIT License](https://bigdatauniversity.com/mit-license/)."
   ]
  }
 ],
 "metadata": {
  "kernelspec": {
   "display_name": "Python",
   "language": "python",
   "name": "conda-env-python-py"
  },
  "language_info": {
   "codemirror_mode": {
    "name": "ipython",
    "version": 3
   },
   "file_extension": ".py",
   "mimetype": "text/x-python",
   "name": "python",
   "nbconvert_exporter": "python",
   "pygments_lexer": "ipython3",
   "version": "3.6.10"
  },
  "widgets": {
   "state": {},
   "version": "1.1.2"
  }
 },
 "nbformat": 4,
 "nbformat_minor": 4
}
